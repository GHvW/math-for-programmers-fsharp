{
 "cells": [
  {
   "cell_type": "markdown",
   "metadata": {},
   "source": [
    "# Chapter 2: Drawing with 2D Vectors"
   ]
  },
  {
   "cell_type": "markdown",
   "metadata": {},
   "source": [
    "## 2.1 - Picturing 2D Vectors"
   ]
  },
  {
   "cell_type": "code",
   "execution_count": 1,
   "metadata": {},
   "source": [
    "#!lsmagic"
   ],
   "outputs": []
  },
  {
   "cell_type": "code",
   "execution_count": 1,
   "metadata": {},
   "source": [
    "#!fsharp\n",
    "open XPlot.Plotly"
   ],
   "outputs": []
  },
  {
   "cell_type": "code",
   "execution_count": 1,
   "metadata": {},
   "source": [
    "#!fsharp\n",
    "// not necessary but fun\n",
    "type Vector2D = double * double\n",
    "\n",
    "let vectorScalarOps (op : int -> double -> double) (n : int) (s : Vector2D) : Vector2D =\n",
    "    match s with\n",
    "    | (x, y) -> (op n x, op n y)\n",
    "\n",
    "let vectorOps (op : double -> double -> double) (f : Vector2D) (s : Vector2D) : Vector2D = \n",
    "    match (f, s) with\n",
    "    | ((x, y), (x', y')) -> (op x x', op y y')\n",
    "\n",
    "let (|+|) = vectorOps (+)\n",
    "\n",
    "let (-*-) = vectorScalarOps (fun i d -> Convert.ToDouble(i) * d)\n",
    ""
   ],
   "outputs": []
  },
  {
   "cell_type": "code",
   "execution_count": 1,
   "metadata": {},
   "source": [
    "#!fsharp\n",
    "let from = (0, 0)\n",
    "let to' = (6, 4)\n",
    "let (arrowx, arrowy) = to'\n",
    "\n",
    "let layout = Options(title = \"Vector\", annotations = seq { Annotation(showarrow = true, x = arrowx, y = arrowy) })\n",
    "\n",
    "[from; to'] \n",
    "|> Chart.Line \n",
    "|> Chart.WithOptions options"
   ],
   "outputs": []
  },
  {
   "cell_type": "code",
   "execution_count": 1,
   "metadata": {},
   "source": [
    "#!fsharp\n",
    "\n",
    "let dinoX = [6; 3; 1; -1; -2; -3; -4; -5; -5; -2; -5; -4; -2; -1;  0; -1;  1;  2;  1;  3; 5; 6]\n",
    "let dinoY = [4; 1; 2;  5;  5;  4;  4;  3;  2;  2;  1;  0;  1;  0; -3; -4; -4; -3; -2; -1; 1; 4]\n",
    "\n",
    "let plot = Scatter(x = dinoX, y =  dinoY, mode = \"markers+lines\")\n",
    "    \n",
    "[plot]\n",
    "|> Chart.Plot\n",
    "|> Chart.WithWidth 700\n",
    "|> Chart.WithHeight 500"
   ],
   "outputs": []
  },
  {
   "cell_type": "code",
   "execution_count": 1,
   "metadata": {},
   "source": [
    "#!fsharp\n",
    "\n",
    "let (xs, ys) = \n",
    "    seq { for i in -10 .. 10 -> (i, i * i) } \n",
    "    |> Seq.fold (fun (xs, ys) (x, y) -> (x::xs, y::ys)) ([], [])\n",
    "\n",
    "let plot = Scatter(x = xs, y =  ys, mode = \"markers+lines\")\n",
    "        \n",
    "[plot]\n",
    "|> Chart.Plot\n",
    "|> Chart.WithWidth 700\n",
    "|> Chart.WithHeight 500"
   ],
   "outputs": []
  }
 ],
 "metadata": {
  "kernelspec": {
   "display_name": ".NET (C#)",
   "language": "C#",
   "name": ".net-csharp"
  },
  "language_info": {
   "file_extension": ".cs",
   "mimetype": "text/x-csharp",
   "name": "C#",
   "pygments_lexer": "csharp",
   "version": "8.0"
  }
 },
 "nbformat": 4,
 "nbformat_minor": 4
}