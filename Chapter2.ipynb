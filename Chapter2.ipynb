{
 "cells": [
  {
   "cell_type": "markdown",
   "metadata": {},
   "source": [
    "# Chapter 2: Drawing with 2D Vectors"
   ]
  },
  {
   "cell_type": "markdown",
   "metadata": {},
   "source": [
    "## 2.1 - Picturing 2D Vectors"
   ]
  },
  {
   "cell_type": "code",
   "execution_count": 1,
   "metadata": {},
   "source": [
    "#!fsharp\n",
    "// #!lsmagic"
   ],
   "outputs": []
  },
  {
   "cell_type": "code",
   "execution_count": 1,
   "metadata": {},
   "source": [
    "#!fsharp\n",
    "open XPlot.Plotly"
   ],
   "outputs": []
  },
  {
   "cell_type": "code",
   "execution_count": 1,
   "metadata": {},
   "source": [
    "#!fsharp\n",
    "// not necessary but fun\n",
    "type Vector2D = double * double\n",
    "\n",
    "let vectorScalarOps (op : int -> double -> double) (n : int) (s : Vector2D) : Vector2D =\n",
    "    match s with\n",
    "    | (x, y) -> (op n x, op n y)\n",
    "\n",
    "let vectorOps (op : double -> double -> double) (f : Vector2D) (s : Vector2D) : Vector2D = \n",
    "    match (f, s) with\n",
    "    | ((x, y), (x', y')) -> (op x x', op y y')\n",
    "\n",
    "let (|+|) = vectorOps (+)\n",
    "\n",
    "let (-*-) = vectorScalarOps (fun i d -> Convert.ToDouble(i) * d)\n",
    ""
   ],
   "outputs": []
  },
  {
   "cell_type": "code",
   "execution_count": 1,
   "metadata": {},
   "source": [
    "#!fsharp\n",
    "let from = (0, 0)\n",
    "let to' = (6, 4)\n",
    "let (arrowx, arrowy) = to'\n",
    "\n",
    "let options = Options(annotations = seq { Annotation(showarrow = true, x = arrowx, y = arrowy, arrowcolor = \"blue\") })\n",
    "\n",
    "[from; to'] \n",
    "|> Chart.Line \n",
    "|> Chart.WithOptions options"
   ],
   "outputs": []
  },
  {
   "cell_type": "markdown",
   "metadata": {},
   "source": [
    "With a non (0, 0) origin"
   ]
  },
  {
   "cell_type": "code",
   "execution_count": 1,
   "metadata": {},
   "source": [
    "#!fsharp\n",
    "let (origin_x, origin_y) = (10.0, 10.0)\n",
    "let (x, y) = (6.0, 4.0)\n",
    "\n",
    "let plot = Scatter(x = [origin_x; x], y = [origin_y; y], mode = \"lines\")\n",
    "\n",
    "[plot]\n",
    "|> Chart.Plot"
   ],
   "outputs": []
  },
  {
   "cell_type": "markdown",
   "metadata": {},
   "source": [
    "### Exercises"
   ]
  },
  {
   "cell_type": "markdown",
   "metadata": {},
   "source": [
    "#### 2.2"
   ]
  },
  {
   "cell_type": "code",
   "execution_count": 1,
   "metadata": {},
   "source": [
    "#!fsharp\n",
    "let plot = Scatter(x = [0; 2], y = [0; -2], mode = \"lines\")\n",
    "\n",
    "Chart.Plot [plot]"
   ],
   "outputs": []
  },
  {
   "cell_type": "markdown",
   "metadata": {},
   "source": [
    "#### 2.4"
   ]
  },
  {
   "cell_type": "code",
   "execution_count": 1,
   "metadata": {},
   "source": [
    "#!fsharp\n",
    "\n",
    "let dinoX = [6; 3; 1; -1; -2; -3; -4; -5; -5; -2; -5; -4; -2; -1;  0; -1;  1;  2;  1;  3; 5; 6]\n",
    "let dinoY = [4; 1; 2;  5;  5;  4;  4;  3;  2;  2;  1;  0;  1;  0; -3; -4; -4; -3; -2; -1; 1; 4]\n",
    "\n",
    "let plot = Scatter(x = dinoX, y =  dinoY, mode = \"markers+lines\")\n",
    "    \n",
    "[plot]\n",
    "|> Chart.Plot\n",
    "|> Chart.WithWidth 700\n",
    "|> Chart.WithHeight 500"
   ],
   "outputs": []
  },
  {
   "cell_type": "markdown",
   "metadata": {},
   "source": [
    "#### 2.5"
   ]
  },
  {
   "cell_type": "code",
   "execution_count": 1,
   "metadata": {},
   "source": [
    "#!fsharp\n",
    "\n",
    "let (xs, ys) = \n",
    "    seq { for i in -10 .. 10 -> (i, i * i) } \n",
    "    |> Seq.fold (fun (xs, ys) (x, y) -> (x::xs, y::ys)) ([], [])\n",
    "\n",
    "let plot = Scatter(x = xs, y =  ys, mode = \"markers+lines\")\n",
    "        \n",
    "[plot]\n",
    "|> Chart.Plot\n",
    "|> Chart.WithWidth 700\n",
    "|> Chart.WithHeight 500"
   ],
   "outputs": []
  },
  {
   "cell_type": "markdown",
   "metadata": {},
   "source": [
    "# 2.2 - Plane Vector Arithmetic"
   ]
  },
  {
   "cell_type": "code",
   "execution_count": 1,
   "metadata": {},
   "source": [
    "#!fsharp\n",
    "(15.0, 10.0) |+| (25.0, 20.0)"
   ],
   "outputs": []
  },
  {
   "cell_type": "markdown",
   "metadata": {},
   "source": [
    "### Vector Math Illustration"
   ]
  },
  {
   "cell_type": "code",
   "execution_count": 1,
   "metadata": {},
   "source": [
    "#!fsharp\n",
    "let firstVector = (5.0, 10.0)\n",
    "let secondVector = (8.0, 2.0)\n",
    "\n",
    "let result = firstVector |+| secondVector\n",
    "\n",
    "let (v1x, v1y) = firstVector\n",
    "let (v2x, v2y) = secondVector\n",
    "let (resultx, resulty) = result\n",
    "\n",
    "let first = Scatter(x = [0.0; v1x], y = [0.0; v1y], mode = \"lines\", line = Line(color = \"blue\"))\n",
    "let second = Scatter(x = [0.0; v2x], y = [0.0; v2y], mode = \"lines\", line = Line(color = \"red\"))\n",
    "let third = Scatter(x = [0.0; resultx], y = [0.0; resulty], mode = \"lines\", line = Line(color = \"purple\"))\n",
    "// let fourth = Scatter(x = [v1x; v2x], y = [v1y; v2y], mode = \"lines\")\n",
    "let combo = Scatter(x = [v1x; resultx], y = [v1y; resulty], mode = \"lines\", line = Line(color = \"red\"))\n",
    "\n",
    "[first; second; third; combo]\n",
    "|> Chart.Plot"
   ],
   "outputs": []
  },
  {
   "cell_type": "markdown",
   "metadata": {},
   "source": [
    "### Dino Vectors"
   ]
  },
  {
   "cell_type": "code",
   "execution_count": 1,
   "metadata": {},
   "source": [
    "#!fsharp\n",
    "let dinoVectors2 = dinoVectors |> List.map (fun v -> v |+| (-2.0, -3.0))\n",
    "\n",
    "val (dino2x, dino2y) = dinoVectors2.foldLeft((List[Double](), List[Double]())) { case ((xs, ys), (x, y)) => (x :: xs, y :: ys) }\n",
    "\n",
    "val d2x = dino2x.toArray\n",
    "\n",
    "val d2y = dino2y.toArray"
   ],
   "outputs": []
  }
 ],
 "metadata": {
  "kernelspec": {
   "display_name": ".NET (C#)",
   "language": "C#",
   "name": ".net-csharp"
  },
  "language_info": {
   "file_extension": ".cs",
   "mimetype": "text/x-csharp",
   "name": "C#",
   "pygments_lexer": "csharp",
   "version": "8.0"
  }
 },
 "nbformat": 4,
 "nbformat_minor": 4
}