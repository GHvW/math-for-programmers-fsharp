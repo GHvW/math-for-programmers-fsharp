{
 "cells": [
  {
   "cell_type": "markdown",
   "metadata": {},
   "source": [
    "# Chapter 2: Drawing with 2D Vectors"
   ]
  },
  {
   "cell_type": "markdown",
   "metadata": {},
   "source": [
    "## 2.1 - Picturing 2D Vectors"
   ]
  },
  {
   "cell_type": "code",
   "execution_count": null,
   "metadata": {
    "dotnet_interactive": {
     "language": "fsharp"
    }
   },
   "outputs": [],
   "source": [
    "#!fsharp\n",
    "// #!lsmagic"
   ]
  },
  {
   "cell_type": "code",
   "execution_count": null,
   "metadata": {
    "dotnet_interactive": {
     "language": "fsharp"
    }
   },
   "outputs": [],
   "source": [
    "#!fsharp\n",
    "#r \"nuget: XPlot.Plotly.Interactive, 4.0.3\"\n",
    "\n",
    "open XPlot.Plotly\n"
   ]
  },
  {
   "cell_type": "code",
   "execution_count": null,
   "metadata": {
    "dotnet_interactive": {
     "language": "fsharp"
    }
   },
   "outputs": [],
   "source": [
    "#!fsharp\n",
    "// not necessary but fun\n",
    "type Vector2D = double * double\n",
    "\n",
    "let vectorScalarOps (op : double -> double -> double) (n : double) (s : Vector2D) : Vector2D =\n",
    "    match s with\n",
    "    | (x, y) -> (op n x, op n y)\n",
    "\n",
    "let vectorOps (op : double -> double -> double) (f : Vector2D) (s : Vector2D) : Vector2D = \n",
    "    match (f, s) with\n",
    "    | ((x, y), (x', y')) -> (op x x', op y y')\n",
    "\n",
    "let (|+|) = vectorOps (+)\n",
    "\n",
    "let (-*-) = vectorScalarOps (*)\n"
   ]
  },
  {
   "cell_type": "code",
   "execution_count": null,
   "metadata": {
    "dotnet_interactive": {
     "language": "fsharp"
    }
   },
   "outputs": [],
   "source": [
    "let vecArrow (originx: double, originy: double) color (x: double, y: double) =\n",
    "    Annotation(showarrow=true, arrowcolor = color, x = x, y = y, axref=\"x\", ayref=\"y\", ax=originx, ay=originy)\n",
    "\n",
    "let vecArrowFromOrigin : string -> double * double -> Annotation = vecArrow (0.0, 0.0)"
   ]
  },
  {
   "cell_type": "code",
   "execution_count": null,
   "metadata": {
    "dotnet_interactive": {
     "language": "fsharp"
    }
   },
   "outputs": [],
   "source": [
    "#!fsharp\n",
    "let from = (0, 0)\n",
    "let to' = (6.0, 4.0)\n",
    "let (arrowx, arrowy) = to'\n",
    "\n",
    "let points = Scatter(x = [arrowx], y = [arrowy], mode=\"markers\")\n",
    "let options = Options(annotations = seq { vecArrowFromOrigin \"blue\" to' })\n",
    "\n",
    "[points] \n",
    "|> Chart.Plot\n",
    "|> Chart.WithOptions options"
   ]
  },
  {
   "cell_type": "markdown",
   "metadata": {},
   "source": [
    "With a non (0, 0) origin"
   ]
  },
  {
   "cell_type": "code",
   "execution_count": null,
   "metadata": {
    "dotnet_interactive": {
     "language": "fsharp"
    }
   },
   "outputs": [],
   "source": [
    "#!fsharp\n",
    "let (origin_x, origin_y) = (10.0, 10.0)\n",
    "let (x, y) = (6.0, 4.0)\n",
    "\n",
    "let vecPlot = Scatter(x = [origin_x; x], y = [origin_y; y], mode = \"markers\")\n",
    "let options = \n",
    "    Options(annotations = \n",
    "        seq { vecArrow (origin_x, origin_y) \"red\" (x, y) })\n",
    "\n",
    "[vecPlot]\n",
    "|> Chart.Plot\n",
    "|> Chart.WithOptions options"
   ]
  },
  {
   "cell_type": "markdown",
   "metadata": {},
   "source": [
    "### Exercises"
   ]
  },
  {
   "cell_type": "markdown",
   "metadata": {},
   "source": [
    "#### 2.2"
   ]
  },
  {
   "cell_type": "code",
   "execution_count": null,
   "metadata": {
    "dotnet_interactive": {
     "language": "fsharp"
    }
   },
   "outputs": [],
   "source": [
    "#!fsharp\n",
    "let negLinePlot = Scatter(x = [0; 2], y = [0; -2], mode = \"markers\")\n",
    "let options = Options(annotations = seq { vecArrowFromOrigin \"blue\" (2.0, -2.0) })\n",
    "\n",
    "[negLinePlot]\n",
    "|> Chart.Plot \n",
    "|> Chart.WithOptions options\n",
    "|> Chart.WithSize (500, 500)"
   ]
  },
  {
   "cell_type": "markdown",
   "metadata": {},
   "source": [
    "#### 2.4"
   ]
  },
  {
   "cell_type": "code",
   "execution_count": null,
   "metadata": {
    "dotnet_interactive": {
     "language": "fsharp"
    }
   },
   "outputs": [],
   "source": [
    "#!fsharp\n",
    "\n",
    "let dinoX : list<double> = [6.0; 3.0; 1.0; -1.0; -2.0; -3.0; -4.0; -5.0; -5.0; -2.0; -5.0; -4.0; -2.0; -1.0;  0.0; -1.0;  1.0;  2.0;  1.0;  3.0; 5.0; 6.0]\n",
    "let dinoY : list<double> = [4.0; 1.0; 2.0;  5.0;  5.0;  4.0;  4.0;  3.0;  2.0;  2.0;  1.0;  0.0;  1.0;  0.0; -3.0; -4.0; -4.0; -3.0; -2.0; -1.0; 1.0; 4.0]\n",
    "\n",
    "let dinoPlot = Scatter(x = dinoX, y =  dinoY, mode = \"markers+lines\")\n",
    "    \n",
    "[dinoPlot]\n",
    "|> Chart.Plot\n",
    "|> Chart.WithWidth 700\n",
    "|> Chart.WithHeight 500"
   ]
  },
  {
   "cell_type": "markdown",
   "metadata": {},
   "source": [
    "#### 2.5"
   ]
  },
  {
   "cell_type": "code",
   "execution_count": null,
   "metadata": {
    "dotnet_interactive": {
     "language": "fsharp"
    }
   },
   "outputs": [],
   "source": [
    "#!fsharp\n",
    "\n",
    "let (xs, ys) = \n",
    "    seq { for i in -10.0 .. 10.0 -> (i, i * i) } \n",
    "    |> Seq.fold (fun (xs, ys) (x, y) -> (x::xs, y::ys)) ([], [])\n",
    "\n",
    "let uPlot = Scatter(x = xs, y =  ys, mode = \"markers+lines\")\n",
    "        \n",
    "[uPlot]\n",
    "|> Chart.Plot\n",
    "|> Chart.WithWidth 700\n",
    "|> Chart.WithHeight 500"
   ]
  },
  {
   "cell_type": "markdown",
   "metadata": {},
   "source": [
    "# 2.2 - Plane Vector Arithmetic"
   ]
  },
  {
   "cell_type": "code",
   "execution_count": null,
   "metadata": {
    "dotnet_interactive": {
     "language": "fsharp"
    }
   },
   "outputs": [],
   "source": [
    "#!fsharp\n",
    "(15.0, 10.0) |+| (25.0, 20.0)"
   ]
  },
  {
   "cell_type": "markdown",
   "metadata": {},
   "source": [
    "### Vector Math Illustration"
   ]
  },
  {
   "cell_type": "code",
   "execution_count": null,
   "metadata": {
    "dotnet_interactive": {
     "language": "fsharp"
    }
   },
   "outputs": [],
   "source": [
    "#!fsharp\n",
    "let firstVector = (5.0, 10.0)\n",
    "let secondVector = (8.0, 2.0)\n",
    "\n",
    "let result = firstVector |+| secondVector\n",
    "\n",
    "let (v1x, v1y) = firstVector\n",
    "let (v2x, v2y) = secondVector\n",
    "let (resultx, resulty) = result\n",
    "\n",
    "let first = Scatter(x = [0.0; v1x], y = [0.0; v1y], mode = \"markers\", marker=Marker(color=\"blue\"), name=\"first\")\n",
    "let second = Scatter(x = [0.0; v2x], y = [0.0; v2y], mode = \"markers\", marker=Marker(color=\"red\"), name=\"second\")\n",
    "let third = Scatter(x = [0.0; resultx], y = [0.0; resulty], mode = \"markers\", marker=Marker(color=\"purple\"), name=\"sum\")\n",
    "// let fourth = Scatter(x = [v1x; v2x], y = [v1y; v2y], mode = \"lines\")\n",
    "let combo = Scatter(x = [v1x; resultx], y = [v1y; resulty], mode = \"markers\", marker=Marker(color=\"red\"), name=\"second from origin\")\n",
    "\n",
    "let options = \n",
    "    Options(\n",
    "        annotations = \n",
    "            seq { \n",
    "                vecArrowFromOrigin \"blue\" (v1x, v1y); \n",
    "                vecArrowFromOrigin \"purple\" (resultx, resulty);\n",
    "                vecArrow (v1x, v1y) \"red\" (resultx, resulty);\n",
    "                vecArrowFromOrigin \"red\" (v2x, v2y) })\n",
    "\n",
    "[first; second; third; combo]\n",
    "|> Chart.Plot\n",
    "|> Chart.WithOptions options"
   ]
  },
  {
   "cell_type": "markdown",
   "metadata": {},
   "source": [
    "### Dino Vectors"
   ]
  },
  {
   "cell_type": "code",
   "execution_count": null,
   "metadata": {
    "dotnet_interactive": {
     "language": "fsharp"
    }
   },
   "outputs": [],
   "source": [
    "#!fsharp\n",
    "let dinoVectors2 = \n",
    "    dinoY\n",
    "    |> Seq.zip dinoX\n",
    "    |> Seq.map (fun v -> v |+| (-2.0, -3.0))\n",
    "\n",
    "let (dino2x, dino2y) = \n",
    "    dinoVectors2\n",
    "    |> Seq.fold (fun (xs, ys) (x, y) -> (x::xs, y::ys)) ([], [])\n"
   ]
  },
  {
   "cell_type": "code",
   "execution_count": null,
   "metadata": {
    "dotnet_interactive": {
     "language": "fsharp"
    }
   },
   "outputs": [],
   "source": [
    "#!fsharp\n",
    "\n",
    "// let plot1 = Scatter(x = dinoX, y =  dinoY, mode = \"markers+lines\")\n",
    "let dinoPlot2 = Scatter(x = dino2x, y = dino2y, mode = \"markers+lines\")\n",
    "    \n",
    "[dinoPlot; dinoPlot2]\n",
    "|> Chart.Plot\n",
    "|> Chart.WithWidth 700\n",
    "|> Chart.WithHeight 500"
   ]
  },
  {
   "cell_type": "code",
   "execution_count": null,
   "metadata": {
    "dotnet_interactive": {
     "language": "fsharp"
    }
   },
   "outputs": [],
   "source": [
    "#!fsharp\n",
    "let distance (v : Vector2D) : double =\n",
    "    let (x, y) = v\n",
    "    Math.Sqrt ((Math.Pow (x, 2.0)) + (Math.Pow (y, 2.0)))\n",
    "\n",
    "distance (4.0, 3.0)"
   ]
  },
  {
   "cell_type": "markdown",
   "metadata": {},
   "source": [
    "### 2.2.3 - Subtraciton, displacement and distance"
   ]
  },
  {
   "cell_type": "code",
   "execution_count": null,
   "metadata": {
    "dotnet_interactive": {
     "language": "fsharp"
    }
   },
   "outputs": [],
   "source": [
    "#!fsharp\n",
    "let (|-|) = vectorOps (-)\n",
    "\n",
    "let v = (5.0, 10.0)\n",
    "let w = (1.0, 2.0)\n",
    "\n",
    "v |-| w"
   ]
  },
  {
   "cell_type": "markdown",
   "metadata": {},
   "source": [
    "### 2.2.4 - Exercises"
   ]
  },
  {
   "cell_type": "code",
   "execution_count": null,
   "metadata": {
    "dotnet_interactive": {
     "language": "fsharp"
    }
   },
   "outputs": [],
   "source": [
    "#!fsharp\n",
    "let u = (-2.0, 0.0)\n",
    "let v = (1.5, 1.5)\n",
    "let w = (4.0, 1.0)"
   ]
  },
  {
   "cell_type": "code",
   "execution_count": null,
   "metadata": {
    "dotnet_interactive": {
     "language": "fsharp"
    }
   },
   "outputs": [],
   "source": [
    "#!fsharp\n",
    "u |+| v"
   ]
  },
  {
   "cell_type": "code",
   "execution_count": null,
   "metadata": {
    "dotnet_interactive": {
     "language": "fsharp"
    }
   },
   "outputs": [],
   "source": [
    "#!fsharp\n",
    "v |+| w"
   ]
  },
  {
   "cell_type": "code",
   "execution_count": null,
   "metadata": {
    "dotnet_interactive": {
     "language": "fsharp"
    }
   },
   "outputs": [],
   "source": [
    "#!fsharp\n",
    "u |+| w"
   ]
  },
  {
   "cell_type": "code",
   "execution_count": null,
   "metadata": {
    "dotnet_interactive": {
     "language": "fsharp"
    }
   },
   "outputs": [],
   "source": [
    "#!fsharp\n",
    "u |+| v |+| w"
   ]
  },
  {
   "cell_type": "markdown",
   "metadata": {},
   "source": [
    "#### Exercise 2.7\n",
    "Revised Add"
   ]
  },
  {
   "cell_type": "code",
   "execution_count": null,
   "metadata": {
    "dotnet_interactive": {
     "language": "fsharp"
    }
   },
   "outputs": [],
   "source": [
    "let addVecs vectors =\n",
    "    vectors \n",
    "    |> Seq.fold (|+|) (0.0, 0.0)\n",
    "\n",
    "let addRevised (vectors: seq<Vector2D>) =\n",
    "    (vectors |> Seq.map (fun (x, _) -> x) |> Seq.sum, vectors |> Seq.map (fun (_, y) -> y) |> Seq.sum)"
   ]
  },
  {
   "cell_type": "code",
   "execution_count": null,
   "metadata": {
    "dotnet_interactive": {
     "language": "fsharp"
    }
   },
   "outputs": [],
   "source": [
    "#!fsharp\n",
    "[| addVecs [(-2.0, 5.0); (-3.0, 4.0); (-1.0, 1.0); (-8.0, 10.0)];\n",
    "   addRevised [(-2.0, 5.0); (-3.0, 4.0); (-1.0, 1.0); (-8.0, 10.0)] |]"
   ]
  },
  {
   "cell_type": "markdown",
   "metadata": {},
   "source": [
    "#### Exercise 2.8"
   ]
  },
  {
   "cell_type": "code",
   "execution_count": null,
   "metadata": {
    "dotnet_interactive": {
     "language": "fsharp"
    }
   },
   "outputs": [],
   "source": [
    "#!fsharp\n",
    "let translate translation vecs =\n",
    "    vecs |> Seq.map (fun v -> v |+| translation)"
   ]
  },
  {
   "cell_type": "code",
   "execution_count": null,
   "metadata": {
    "dotnet_interactive": {
     "language": "fsharp"
    }
   },
   "outputs": [],
   "source": [
    "#!fsharp\n",
    "translate (1.0, 1.0) [(0.0, 0.0); (0.0, 1.0); (-3.0, -3.0)]"
   ]
  },
  {
   "cell_type": "markdown",
   "metadata": {},
   "source": [
    "Vector addition is commutative"
   ]
  },
  {
   "cell_type": "code",
   "execution_count": null,
   "metadata": {
    "dotnet_interactive": {
     "language": "fsharp"
    }
   },
   "outputs": [],
   "source": [
    "#!fsharp\n",
    "let uu = (2.0, 1.0)\n",
    "let vv = (3.0, 4.0)\n",
    "let (ux, uy) = uu\n",
    "let (vx, vy) = vv\n",
    "let (resx, resy) = uu |+| vv\n",
    "let (oresx, oresy) = vv |+| uu\n",
    "\n",
    "let commScatter1 = Scatter(x = [0.0; ux], y = [0.0; uy], mode = \"markers\")\n",
    "let commScatter2 = Scatter(x = [ux; resx], y = [uy; resy], mode = \"markers\")\n",
    "\n",
    "let commScatter3 = Scatter(x = [0.0; vx], y = [0.0; vy], mode = \"markers\")\n",
    "let commScatter4 = Scatter(x = [vx; resx], y = [vy; resy], mode = \"markers\")\n",
    "\n",
    "let commResultScatter = Scatter(x = [0.0; resx], y = [0.0; resy], mode = \"markers\")\n",
    "\n",
    "let options =\n",
    "    Options(\n",
    "        annotations =\n",
    "            seq {\n",
    "                vecArrowFromOrigin \"red\" (ux, uy);\n",
    "                vecArrowFromOrigin \"blue\" (vx, vy);\n",
    "                vecArrowFromOrigin \"purple\" (resx, resy);\n",
    "                vecArrow (ux, uy) \"blue\" (resx, resy);\n",
    "                vecArrow (vx, vy) \"red\" (resx, resy);\n",
    "            })\n",
    "\n",
    "[commScatter1; commScatter2; commScatter3; commScatter4; commResultScatter]\n",
    "|> Chart.Plot\n",
    "|> Chart.WithOptions options"
   ]
  },
  {
   "cell_type": "markdown",
   "metadata": {},
   "source": [
    "### Exercise 2.11\n",
    "x bounds = +6, -4\n",
    "y bounds = +5, -4\n",
    "\n",
    "using dinoX, dinoY, and/or dinoPlot"
   ]
  },
  {
   "cell_type": "code",
   "execution_count": null,
   "metadata": {
    "dotnet_interactive": {
     "language": "fsharp"
    }
   },
   "outputs": [],
   "source": [
    "#!fsharp\n",
    "let vectorsToScatterLists vecs =\n",
    "    vecs |> Seq.fold (fun (xs, ys) (x, y) -> (x::xs, y::ys)) ([], [])"
   ]
  },
  {
   "cell_type": "code",
   "execution_count": null,
   "metadata": {
    "dotnet_interactive": {
     "language": "fsharp"
    }
   },
   "outputs": [],
   "source": [
    "#!fsharp\n",
    "let scatterListsToVectors xs ys =\n",
    "    Seq.zip xs ys"
   ]
  },
  {
   "cell_type": "code",
   "execution_count": null,
   "metadata": {
    "dotnet_interactive": {
     "language": "fsharp"
    }
   },
   "outputs": [],
   "source": [
    "#!fsharp\n",
    "scatterListsToVectors dinoX dinoY"
   ]
  },
  {
   "cell_type": "code",
   "execution_count": null,
   "metadata": {
    "dotnet_interactive": {
     "language": "fsharp"
    }
   },
   "outputs": [],
   "source": [
    "seq { \n",
    "    for x in -5.0 .. 4.0 do\n",
    "    for y in -5.0 .. 4.0 ->\n",
    "    (x, y) } |> Seq.length"
   ]
  },
  {
   "cell_type": "code",
   "execution_count": null,
   "metadata": {
    "dotnet_interactive": {
     "language": "fsharp"
    }
   },
   "outputs": [],
   "source": [
    "\n",
    "let dinoVecs = scatterListsToVectors dinoX dinoY\n",
    "\n",
    "let xys : seq<Vector2D> = \n",
    "    seq { \n",
    "        for x in -5.0 .. 4.0 do\n",
    "        for y in -5.0 .. 4.0 ->\n",
    "        (x, y) }\n",
    "\n",
    "let scatterListsToPlot (xs, ys) =\n",
    "    Scatter(x = xs, y = ys, mode = \"markers+lines\")\n",
    "\n",
    "let stuff = \n",
    "    xys \n",
    "    |> Seq.map (((-*-) 15.0) >> translate >> (fun func -> func dinoVecs) >> vectorsToScatterLists >> scatterListsToPlot) \n",
    "    // |> Seq.map ((fun func -> func dinoVecs) >> vectorsToScatterLists >> scatterListsToPlot)\n",
    "\n",
    "stuff\n",
    "|> Chart.Plot"
   ]
  },
  {
   "cell_type": "markdown",
   "metadata": {},
   "source": [
    "### Exercise 2.12\n",
    "Which is longer, the x or y component of (3, −2) + (1, 1) + (−2, −2)"
   ]
  },
  {
   "cell_type": "code",
   "execution_count": null,
   "metadata": {
    "dotnet_interactive": {
     "language": "fsharp"
    }
   },
   "outputs": [],
   "source": [
    "(3.0, -2.0) |+| (1.0, 1.0) |+| (-2.0, -2.0)"
   ]
  },
  {
   "cell_type": "markdown",
   "metadata": {},
   "source": [
    "Since the resulting vector is (2, -3), the x component is (2, 0), the y is (0, -3) so the y component is longer, 2 vs 3"
   ]
  },
  {
   "cell_type": "markdown",
   "metadata": {},
   "source": [
    "### Exercise 2.13"
   ]
  },
  {
   "cell_type": "code",
   "execution_count": null,
   "metadata": {
    "dotnet_interactive": {
     "language": "fsharp"
    }
   },
   "outputs": [],
   "source": [
    "#!fsharp\n",
    "// ff components (-6, 0) and (0, -6)\n",
    "let ff = (-6.0, -6.0)\n",
    "// gg components (5, 0) and (-12, 0)\n",
    "let gg = (5.0, -12.0)\n",
    "\n",
    "// length of the vectors\n",
    "(distance ff, distance gg)"
   ]
  },
  {
   "cell_type": "markdown",
   "metadata": {},
   "source": [
    "### Exercise 2.14"
   ]
  },
  {
   "cell_type": "code",
   "execution_count": null,
   "metadata": {
    "dotnet_interactive": {
     "language": "fsharp"
    }
   },
   "outputs": [],
   "source": [
    "// a = 1\n",
    "// c = 6\n",
    "let findSide otherSide hypotenuse = \n",
    "    Math.Sqrt (Math.Pow (hypotenuse, 2.0) - Math.Pow (otherSide, 2.0))\n",
    "\n",
    "findSide 1.0 6.0\n",
    "\n",
    "// result either (1, -5.916) or (1, 5.916)"
   ]
  },
  {
   "cell_type": "markdown",
   "metadata": {},
   "source": [
    "### Exercise 2.15\n",
    "What vector in `dino_vectors` has the longest length?"
   ]
  },
  {
   "cell_type": "code",
   "execution_count": null,
   "metadata": {
    "dotnet_interactive": {
     "language": "fsharp"
    }
   },
   "outputs": [],
   "source": [
    "#!fsharp\n",
    "// result\n",
    "(scatterListsToVectors dinoX dinoY)\n",
    "|> Seq.maxBy distance"
   ]
  },
  {
   "cell_type": "markdown",
   "metadata": {},
   "source": [
    "### Exercise 2.19"
   ]
  },
  {
   "cell_type": "code",
   "execution_count": null,
   "metadata": {
    "dotnet_interactive": {
     "language": "fsharp"
    }
   },
   "outputs": [],
   "source": [
    "let u = (-1.0, 1.0)\n",
    "let v = (1.0, 1.0)\n",
    "\n",
    "seq {\n",
    "    for r in -3.0 .. 3.0 do\n",
    "    for s in -1.0 .. 1.0 ->\n",
    "    (r, s) }\n",
    "|> Seq.map (fun (r, s) -> (r -*- u) |+| (s -*- v))\n",
    "|> vectorsToScatterLists\n",
    "|> (fun (x, y) -> Scatter(x = x, y = y, mode = \"markers\"))\n",
    "|> Chart.Plot\n"
   ]
  },
  {
   "cell_type": "markdown",
   "metadata": {},
   "source": [
    "### Exercise 2.22\n",
    "u + -u = (0, 0)"
   ]
  },
  {
   "cell_type": "markdown",
   "metadata": {},
   "source": [
    "### Exercise 2.23"
   ]
  },
  {
   "cell_type": "code",
   "execution_count": null,
   "metadata": {
    "dotnet_interactive": {
     "language": "fsharp"
    }
   },
   "outputs": [],
   "source": [
    "let u = (-2.0, 0.0)\n",
    "let v = (1.5, 1.5) \n",
    "let w = (4.0, 1.0)\n",
    "\n",
    "[| v |-| w; u |-| v; w |-| v |]"
   ]
  },
  {
   "cell_type": "markdown",
   "metadata": {},
   "source": [
    "### Exercise 2.25"
   ]
  },
  {
   "cell_type": "code",
   "execution_count": null,
   "metadata": {
    "dotnet_interactive": {
     "language": "fsharp"
    }
   },
   "outputs": [],
   "source": [
    "let distanceBetween first second = distance (first |-| second)\n",
    "\n",
    "let perimeter vecs = \n",
    "    vecs\n",
    "    |> Seq.windowed 2\n",
    "    |> Seq.map (fun window -> \n",
    "        match window with\n",
    "        | [| x; y |] -> distanceBetween x y\n",
    "        | _ -> 0.0)\n",
    "    |> Seq.sum\n"
   ]
  },
  {
   "cell_type": "code",
   "execution_count": null,
   "metadata": {
    "dotnet_interactive": {
     "language": "fsharp"
    }
   },
   "outputs": [],
   "source": [
    "perimeter dinoVecs"
   ]
  },
  {
   "cell_type": "markdown",
   "metadata": {},
   "source": [
    "### Exercise 2.26"
   ]
  },
  {
   "cell_type": "code",
   "execution_count": null,
   "metadata": {
    "dotnet_interactive": {
     "language": "fsharp"
    }
   },
   "outputs": [],
   "source": [
    "let u = (-1.0, 1.0)\n"
   ]
  },
  {
   "cell_type": "markdown",
   "metadata": {},
   "source": [
    "Next Section \n",
    "---"
   ]
  },
  {
   "cell_type": "code",
   "execution_count": null,
   "metadata": {
    "dotnet_interactive": {
     "language": "fsharp"
    }
   },
   "outputs": [],
   "source": [
    "let toDegrees r = r * 180.0 / Math.PI\n",
    "\n",
    "let toRadians d = d * Math.PI / 180.0\n",
    "\n",
    "type PolarCoordinate = double * double\n",
    "\n",
    "let toCartesian polarCoordinate : Vector2D =\n",
    "    match polarCoordinate with\n",
    "    | (r, theta) -> (r * Math.Cos theta, r * Math.Sin theta)\n",
    "\n",
    "let toPolar vec : PolarCoordinate =\n",
    "    match vec with\n",
    "    | (x, y) -> (distance vec, Math.Atan2 (y, x))"
   ]
  },
  {
   "cell_type": "code",
   "execution_count": null,
   "metadata": {
    "dotnet_interactive": {
     "language": "fsharp"
    }
   },
   "outputs": [],
   "source": [
    "[|toPolar (1.0, 0.0);toPolar(-2.0, 3.0)|]"
   ]
  },
  {
   "cell_type": "markdown",
   "metadata": {},
   "source": [
    "### Exercise 2.28\n",
    "### Exercise 2.29"
   ]
  },
  {
   "cell_type": "code",
   "execution_count": null,
   "metadata": {
    "dotnet_interactive": {
     "language": "fsharp"
    }
   },
   "outputs": [],
   "source": [
    "(15.0, 37.0 |> toRadians)\n",
    "|> toCartesian"
   ]
  },
  {
   "cell_type": "markdown",
   "metadata": {},
   "source": [
    "### Exercise 2.30"
   ]
  },
  {
   "cell_type": "code",
   "execution_count": null,
   "metadata": {
    "dotnet_interactive": {
     "language": "fsharp"
    }
   },
   "outputs": [],
   "source": [
    "let dist = 8.5\n",
    "let radians = toRadians 125.0\n",
    "\n",
    "(dist, radians) |> toCartesian"
   ]
  },
  {
   "cell_type": "markdown",
   "metadata": {},
   "source": [
    "### Exercise 2.31\n"
   ]
  },
  {
   "cell_type": "code",
   "execution_count": null,
   "metadata": {
    "dotnet_interactive": {
     "language": "fsharp"
    }
   },
   "outputs": [],
   "source": [
    "#r \"nuget: Microsoft.Data.Analysis, 0.18.0\"\n",
    "open Microsoft.Data.Analysis"
   ]
  },
  {
   "cell_type": "code",
   "execution_count": null,
   "metadata": {
    "dotnet_interactive": {
     "language": "fsharp"
    }
   },
   "outputs": [],
   "source": [
    "let df =\n",
    "    DataFrame(\n",
    "        PrimitiveDataFrameColumn(\"sine\", [| Math.Sin (toRadians 0.0); Math.Sin (toRadians 90.0); Math.Sin (toRadians 180.0) |]),\n",
    "        PrimitiveDataFrameColumn(\"cosine\", [| Math.Cos (toRadians 0.0); Math.Cos (toRadians 90.0); Math.Cos (toRadians 180.0) |])\n",
    "    )\n",
    "\n",
    "df"
   ]
  },
  {
   "cell_type": "markdown",
   "metadata": {},
   "source": [
    "### Exercise 2.35"
   ]
  },
  {
   "cell_type": "code",
   "execution_count": null,
   "metadata": {
    "dotnet_interactive": {
     "language": "fsharp"
    }
   },
   "outputs": [],
   "source": [
    "Math.Tan (116.57 |> toRadians)"
   ]
  },
  {
   "cell_type": "markdown",
   "metadata": {},
   "source": [
    "### Exercise 2.36\n"
   ]
  },
  {
   "cell_type": "code",
   "execution_count": null,
   "metadata": {
    "dotnet_interactive": {
     "language": "fsharp"
    }
   },
   "outputs": [],
   "source": [
    "let angle = 10.0 * Math.PI / 6.0\n",
    "\n",
    "[|Math.Sin angle;\n",
    "Math.Cos angle|]"
   ]
  },
  {
   "cell_type": "markdown",
   "metadata": {},
   "source": [
    "### Exercise 2.37"
   ]
  },
  {
   "cell_type": "code",
   "execution_count": null,
   "metadata": {
    "dotnet_interactive": {
     "language": "fsharp"
    }
   },
   "outputs": [],
   "source": [
    "seq { 0.0 .. 1.0 .. 1000.0 }\n",
    "|> Seq.map ((fun x -> (Math.Cos (5.0 * x * Math.PI / 500.0), 2.0 * Math.PI * x / 1000.0)) >> toCartesian)\n",
    "|> vectorsToScatterLists\n",
    "|> scatterListsToPlot\n",
    "|> Chart.Plot"
   ]
  },
  {
   "cell_type": "markdown",
   "metadata": {},
   "source": [
    "### Exercise 2.38"
   ]
  },
  {
   "cell_type": "code",
   "execution_count": null,
   "metadata": {
    "dotnet_interactive": {
     "language": "fsharp"
    }
   },
   "outputs": [],
   "source": []
  }
 ],
 "metadata": {
  "kernelspec": {
   "display_name": ".NET (C#)",
   "language": "C#",
   "name": ".net-csharp"
  },
  "language_info": {
   "file_extension": ".cs",
   "mimetype": "text/x-csharp",
   "name": "C#",
   "pygments_lexer": "csharp",
   "version": "8.0"
  }
 },
 "nbformat": 4,
 "nbformat_minor": 4
}
