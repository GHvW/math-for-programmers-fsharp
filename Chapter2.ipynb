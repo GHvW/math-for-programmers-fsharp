{
 "cells": [
  {
   "cell_type": "markdown",
   "source": [
    "# Chapter 2: Drawing with 2D Vectors"
   ],
   "metadata": {}
  },
  {
   "cell_type": "markdown",
   "source": [
    "## 2.1 - Picturing 2D Vectors"
   ],
   "metadata": {}
  },
  {
   "cell_type": "code",
   "execution_count": null,
   "source": [
    "#!fsharp\r\n",
    "// #!lsmagic"
   ],
   "outputs": [],
   "metadata": {
    "dotnet_interactive": {
     "language": "fsharp"
    }
   }
  },
  {
   "cell_type": "code",
   "execution_count": null,
   "source": [
    "#!fsharp\r\n",
    "#r \"nuget: XPlot.Plotly.Interactive, 4.0.3\"\r\n",
    "\r\n",
    "open XPlot.Plotly\r\n"
   ],
   "outputs": [],
   "metadata": {
    "dotnet_interactive": {
     "language": "fsharp"
    }
   }
  },
  {
   "cell_type": "code",
   "execution_count": null,
   "source": [
    "#!fsharp\r\n",
    "// not necessary but fun\r\n",
    "type Vector2D = double * double\r\n",
    "\r\n",
    "let vectorScalarOps (op : double -> double -> double) (n : double) (s : Vector2D) : Vector2D =\r\n",
    "    match s with\r\n",
    "    | (x, y) -> (op n x, op n y)\r\n",
    "\r\n",
    "let vectorOps (op : double -> double -> double) (f : Vector2D) (s : Vector2D) : Vector2D = \r\n",
    "    match (f, s) with\r\n",
    "    | ((x, y), (x', y')) -> (op x x', op y y')\r\n",
    "\r\n",
    "let (|+|) = vectorOps (+)\r\n",
    "\r\n",
    "let (-*-) = vectorScalarOps (*)\r\n"
   ],
   "outputs": [],
   "metadata": {
    "dotnet_interactive": {
     "language": "fsharp"
    }
   }
  },
  {
   "cell_type": "code",
   "execution_count": null,
   "source": [
    "#!fsharp\r\n",
    "let from = (0, 0)\r\n",
    "let to' = (6, 4)\r\n",
    "let (arrowx, arrowy) = to'\r\n",
    "let ()\r\n",
    "\r\n",
    "let options = Options(annotations = seq { Annotation(showarrow = true, x = arrowx, y = arrowy, arrowcolor = \"red\") })\r\n",
    "\r\n",
    "[from; to'] \r\n",
    "|> Chart.Line \r\n",
    "|> Chart.WithOptions options"
   ],
   "outputs": [],
   "metadata": {
    "dotnet_interactive": {
     "language": "fsharp"
    }
   }
  },
  {
   "cell_type": "markdown",
   "source": [
    "With a non (0, 0) origin"
   ],
   "metadata": {}
  },
  {
   "cell_type": "code",
   "execution_count": null,
   "source": [
    "#!fsharp\r\n",
    "let (origin_x, origin_y) = (10.0, 10.0)\r\n",
    "let (x, y) = (6.0, 4.0)\r\n",
    "\r\n",
    "let linePlot = Scatter(x = [origin_x; x], y = [origin_y; y], mode = \"lines\")\r\n",
    "\r\n",
    "[linePlot]\r\n",
    "|> Chart.Plot"
   ],
   "outputs": [],
   "metadata": {
    "dotnet_interactive": {
     "language": "fsharp"
    }
   }
  },
  {
   "cell_type": "markdown",
   "source": [
    "### Exercises"
   ],
   "metadata": {}
  },
  {
   "cell_type": "markdown",
   "source": [
    "#### 2.2"
   ],
   "metadata": {}
  },
  {
   "cell_type": "code",
   "execution_count": null,
   "source": [
    "#!fsharp\r\n",
    "let negLinePlot = Scatter(x = [0; 2], y = [0; -2], mode = \"lines\")\r\n",
    "\r\n",
    "Chart.Plot [negLinePlot]"
   ],
   "outputs": [],
   "metadata": {
    "dotnet_interactive": {
     "language": "fsharp"
    }
   }
  },
  {
   "cell_type": "markdown",
   "source": [
    "#### 2.4"
   ],
   "metadata": {}
  },
  {
   "cell_type": "code",
   "execution_count": null,
   "source": [
    "#!fsharp\r\n",
    "\r\n",
    "let dinoX : list<double> = [6.0; 3.0; 1.0; -1.0; -2.0; -3.0; -4.0; -5.0; -5.0; -2.0; -5.0; -4.0; -2.0; -1.0;  0.0; -1.0;  1.0;  2.0;  1.0;  3.0; 5.0; 6.0]\r\n",
    "let dinoY : list<double> = [4.0; 1.0; 2.0;  5.0;  5.0;  4.0;  4.0;  3.0;  2.0;  2.0;  1.0;  0.0;  1.0;  0.0; -3.0; -4.0; -4.0; -3.0; -2.0; -1.0; 1.0; 4.0]\r\n",
    "\r\n",
    "let dinoPlot = Scatter(x = dinoX, y =  dinoY, mode = \"markers+lines\")\r\n",
    "    \r\n",
    "[dinoPlot]\r\n",
    "|> Chart.Plot\r\n",
    "|> Chart.WithWidth 700\r\n",
    "|> Chart.WithHeight 500"
   ],
   "outputs": [],
   "metadata": {
    "dotnet_interactive": {
     "language": "fsharp"
    }
   }
  },
  {
   "cell_type": "markdown",
   "source": [
    "#### 2.5"
   ],
   "metadata": {}
  },
  {
   "cell_type": "code",
   "execution_count": null,
   "source": [
    "#!fsharp\r\n",
    "\r\n",
    "let (xs, ys) = \r\n",
    "    seq { for i in -10 .. 10 -> (i, i * i) } \r\n",
    "    |> Seq.fold (fun (xs, ys) (x, y) -> (x::xs, y::ys)) ([], [])\r\n",
    "\r\n",
    "let uPlot = Scatter(x = xs, y =  ys, mode = \"markers+lines\")\r\n",
    "        \r\n",
    "[uPlot]\r\n",
    "|> Chart.Plot\r\n",
    "|> Chart.WithWidth 700\r\n",
    "|> Chart.WithHeight 500"
   ],
   "outputs": [],
   "metadata": {
    "dotnet_interactive": {
     "language": "fsharp"
    }
   }
  },
  {
   "cell_type": "markdown",
   "source": [
    "# 2.2 - Plane Vector Arithmetic"
   ],
   "metadata": {}
  },
  {
   "cell_type": "code",
   "execution_count": null,
   "source": [
    "#!fsharp\r\n",
    "(15.0, 10.0) |+| (25.0, 20.0)"
   ],
   "outputs": [],
   "metadata": {
    "dotnet_interactive": {
     "language": "fsharp"
    }
   }
  },
  {
   "cell_type": "markdown",
   "source": [
    "### Vector Math Illustration"
   ],
   "metadata": {}
  },
  {
   "cell_type": "code",
   "execution_count": null,
   "source": [
    "#!fsharp\r\n",
    "let firstVector = (5.0, 10.0)\r\n",
    "let secondVector = (8.0, 2.0)\r\n",
    "\r\n",
    "let result = firstVector |+| secondVector\r\n",
    "\r\n",
    "let (v1x, v1y) = firstVector\r\n",
    "let (v2x, v2y) = secondVector\r\n",
    "let (resultx, resulty) = result\r\n",
    "\r\n",
    "let first = Scatter(x = [0.0; v1x], y = [0.0; v1y], mode = \"lines\", line = Line(color = \"blue\"))\r\n",
    "let second = Scatter(x = [0.0; v2x], y = [0.0; v2y], mode = \"lines\", line = Line(color = \"red\"))\r\n",
    "let third = Scatter(x = [0.0; resultx], y = [0.0; resulty], mode = \"lines\", line = Line(color = \"purple\"))\r\n",
    "// let fourth = Scatter(x = [v1x; v2x], y = [v1y; v2y], mode = \"lines\")\r\n",
    "let combo = Scatter(x = [v1x; resultx], y = [v1y; resulty], mode = \"lines\", line = Line(color = \"red\"))\r\n",
    "\r\n",
    "[first; second; third; combo]\r\n",
    "|> Chart.Plot"
   ],
   "outputs": [],
   "metadata": {
    "dotnet_interactive": {
     "language": "fsharp"
    }
   }
  },
  {
   "cell_type": "markdown",
   "source": [
    "### Dino Vectors"
   ],
   "metadata": {}
  },
  {
   "cell_type": "code",
   "execution_count": null,
   "source": [
    "#!fsharp\n",
    "let dinoVectors2 = \n",
    "    dinoY\n",
    "    |> Seq.zip dinoX\n",
    "    |> Seq.map (fun v -> v |+| (-2.0, -3.0))\n",
    "\n",
    "let (dino2x, dino2y) = \n",
    "    dinoVectors2\n",
    "    |> Seq.fold (fun (xs, ys) (x, y) -> (x::xs, y::ys)) ([], [])\n"
   ],
   "outputs": [],
   "metadata": {
    "dotnet_interactive": {
     "language": "fsharp"
    }
   }
  },
  {
   "cell_type": "code",
   "execution_count": null,
   "source": [
    "#!fsharp\n",
    "\n",
    "// let plot1 = Scatter(x = dinoX, y =  dinoY, mode = \"markers+lines\")\n",
    "let dinoPlot2 = Scatter(x = dino2x, y = dino2y, mode = \"markers+lines\")\n",
    "    \n",
    "[dinoPlot; dinoPlot2]\n",
    "|> Chart.Plot\n",
    "|> Chart.WithWidth 700\n",
    "|> Chart.WithHeight 500"
   ],
   "outputs": [],
   "metadata": {
    "dotnet_interactive": {
     "language": "fsharp"
    }
   }
  },
  {
   "cell_type": "code",
   "execution_count": null,
   "source": [
    "#!fsharp\n",
    "let distance (v : Vector2D) : double =\n",
    "    let (x, y) = v\n",
    "    Math.Sqrt ((Math.Pow (x, 2.0)) + (Math.Pow (y, 2.0)))\n",
    "\n",
    "distance (4.0, 3.0)"
   ],
   "outputs": [],
   "metadata": {
    "dotnet_interactive": {
     "language": "fsharp"
    }
   }
  },
  {
   "cell_type": "markdown",
   "source": [
    "### 2.2.3 - Subtraciton, displacement and distance"
   ],
   "metadata": {}
  },
  {
   "cell_type": "code",
   "execution_count": null,
   "source": [
    "#!fsharp\n",
    "let (|-|) = vectorOps (-)\n",
    "\n",
    "let v = (5.0, 10.0)\n",
    "let w = (1.0, 2.0)\n",
    "\n",
    "v |-| w"
   ],
   "outputs": [],
   "metadata": {
    "dotnet_interactive": {
     "language": "fsharp"
    }
   }
  },
  {
   "cell_type": "markdown",
   "source": [
    "### 2.2.4 - Exercises"
   ],
   "metadata": {}
  },
  {
   "cell_type": "code",
   "execution_count": null,
   "source": [
    "#!fsharp\n",
    "let u = (-2.0, 0.0)\n",
    "let v = (1.5, 1.5)\n",
    "let w = (4.0, 1.0)"
   ],
   "outputs": [],
   "metadata": {
    "dotnet_interactive": {
     "language": "fsharp"
    }
   }
  },
  {
   "cell_type": "code",
   "execution_count": null,
   "source": [
    "#!fsharp\n",
    "u |+| v"
   ],
   "outputs": [],
   "metadata": {
    "dotnet_interactive": {
     "language": "fsharp"
    }
   }
  },
  {
   "cell_type": "code",
   "execution_count": null,
   "source": [
    "#!fsharp\n",
    "v |+| w"
   ],
   "outputs": [],
   "metadata": {
    "dotnet_interactive": {
     "language": "fsharp"
    }
   }
  },
  {
   "cell_type": "code",
   "execution_count": null,
   "source": [
    "#!fsharp\n",
    "u |+| w"
   ],
   "outputs": [],
   "metadata": {
    "dotnet_interactive": {
     "language": "fsharp"
    }
   }
  },
  {
   "cell_type": "code",
   "execution_count": null,
   "source": [
    "#!fsharp\n",
    "u |+| v |+| w"
   ],
   "outputs": [],
   "metadata": {
    "dotnet_interactive": {
     "language": "fsharp"
    }
   }
  },
  {
   "cell_type": "code",
   "execution_count": null,
   "source": [
    "#!fsharp\n",
    "let addVecs ns = \n",
    "    ns |> Seq.fold (|+|) (0.0, 0.0)"
   ],
   "outputs": [],
   "metadata": {
    "dotnet_interactive": {
     "language": "fsharp"
    }
   }
  },
  {
   "cell_type": "code",
   "execution_count": null,
   "source": [
    "#!fsharp\n",
    "addVecs [(-2.0, 5.0); (-3.0, 4.0); (-1.0, 1.0); (-8.0, 10.0)]"
   ],
   "outputs": [],
   "metadata": {
    "dotnet_interactive": {
     "language": "fsharp"
    }
   }
  },
  {
   "cell_type": "code",
   "execution_count": null,
   "source": [
    "#!fsharp\n",
    "let translate translation vecs =\n",
    "    vecs |> Seq.map (fun v -> v |+| translation)"
   ],
   "outputs": [],
   "metadata": {
    "dotnet_interactive": {
     "language": "fsharp"
    }
   }
  },
  {
   "cell_type": "code",
   "execution_count": null,
   "source": [
    "#!fsharp\n",
    "translate (1.0, 1.0) [(0.0, 0.0); (0.0, 1.0); (-3.0, -3.0)]"
   ],
   "outputs": [],
   "metadata": {
    "dotnet_interactive": {
     "language": "fsharp"
    }
   }
  },
  {
   "cell_type": "markdown",
   "source": [
    "Vector addition is commutative"
   ],
   "metadata": {}
  },
  {
   "cell_type": "code",
   "execution_count": null,
   "source": [
    "#!fsharp\n",
    "let uu = (2.0, 1.0)\n",
    "let vv = (3.0, 4.0)\n",
    "let (ux, uy) = uu\n",
    "let (vx, vy) = vv\n",
    "let (resx, resy) = uu |+| vv\n",
    "let (oresx, oresy) = vv |+| uu\n",
    "\n",
    "let commScatter1 = Scatter(x = [0.0; ux], y = [0.0; uy], mode = \"markers+lines\", line = Line(color = \"red\"))\n",
    "let commScatter2 = Scatter(x = [ux; resx], y = [uy; resy], mode = \"markers+lines\", line = Line(color = \"blue\"))\n",
    "\n",
    "let commScatter3 = Scatter(x = [0.0; vx], y = [0.0; vy], mode = \"markers+lines\", line = Line(color = \"blue\"))\n",
    "let commScatter4 = Scatter(x = [vx; resx], y = [vy; resy], mode = \"markers+lines\", line = Line(color = \"red\"))\n",
    "\n",
    "let commResultScatter = Scatter(x = [0.0; resx], y = [0.0; resy], mode = \"markers+lines\", line = Line(color = \"purple\"))\n",
    "\n",
    "[commScatter1; commScatter2; commScatter3; commScatter4; commResultScatter]\n",
    "|> Chart.Plot"
   ],
   "outputs": [],
   "metadata": {
    "dotnet_interactive": {
     "language": "fsharp"
    }
   }
  },
  {
   "cell_type": "code",
   "execution_count": null,
   "source": [
    "#!fsharp\n",
    "let vectorsToScatterLists vecs =\n",
    "    vecs |> Seq.fold (fun (xs, ys) (x, y) -> (x::xs, y::ys)) ([], [])"
   ],
   "outputs": [],
   "metadata": {
    "dotnet_interactive": {
     "language": "fsharp"
    }
   }
  },
  {
   "cell_type": "code",
   "execution_count": null,
   "source": [
    "#!fsharp\n",
    "let scatterListsToVectors xs ys =\n",
    "    Seq.zip xs ys"
   ],
   "outputs": [],
   "metadata": {
    "dotnet_interactive": {
     "language": "fsharp"
    }
   }
  },
  {
   "cell_type": "code",
   "execution_count": null,
   "source": [
    "#!fsharp\n",
    "scatterListsToVectors dinoX dinoY"
   ],
   "outputs": [],
   "metadata": {
    "dotnet_interactive": {
     "language": "fsharp"
    }
   }
  },
  {
   "cell_type": "markdown",
   "source": [
    "Components and Lengths of (-6.0, -6.0) and (5.0, -12.0)?\n",
    "\n",
    "(-6.0, 0.0) and (0.0, -6.0) both length 6\n",
    "\n",
    "(5.0, 0.0) and (0.0, -12.0) length 5 and 12 respectively"
   ],
   "metadata": {}
  },
  {
   "cell_type": "code",
   "execution_count": null,
   "source": [
    "#!fsharp\n",
    "let ff = (-6.0, -6.0)\n",
    "let gg = (5.0, -12.0)\n",
    "\n",
    "// length of the vectors\n",
    "(distance ff, distance gg)"
   ],
   "outputs": [],
   "metadata": {
    "dotnet_interactive": {
     "language": "fsharp"
    }
   }
  },
  {
   "cell_type": "markdown",
   "source": [
    "What vector in `dino_vectors` has the longest length?"
   ],
   "metadata": {}
  },
  {
   "cell_type": "code",
   "execution_count": null,
   "source": [
    "#!fsharp\n",
    "(scatterListsToVectors dinoX dinoY)\n",
    "|> Seq.maxBy distance"
   ],
   "outputs": [],
   "metadata": {
    "dotnet_interactive": {
     "language": "fsharp"
    }
   }
  },
  {
   "cell_type": "markdown",
   "source": [
    "show that scaling a vector (a, b) by s also scales the length of the vector by s\n",
    "\n",
    "sqrt (sa)^2 + (sb)^2  \n",
    "sqrt (s^2)(a^2) + (s^2)(b^2) \n",
    "sqrt (s^2)(a^2 + b^2)\n",
    "|s| sqrt (a^2 + b^2)\n",
    "|s| c"
   ],
   "metadata": {}
  }
 ],
 "metadata": {
  "kernelspec": {
   "display_name": ".NET (C#)",
   "language": "C#",
   "name": ".net-csharp"
  },
  "language_info": {
   "file_extension": ".cs",
   "mimetype": "text/x-csharp",
   "name": "C#",
   "pygments_lexer": "csharp",
   "version": "8.0"
  }
 },
 "nbformat": 4,
 "nbformat_minor": 4
}