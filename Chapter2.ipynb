{
 "cells": [
  {
   "cell_type": "markdown",
   "metadata": {},
   "source": [
    "# Chapter 2: Drawing with 2D Vectors"
   ]
  },
  {
   "cell_type": "markdown",
   "metadata": {},
   "source": [
    "## 2.1 - Picturing 2D Vectors"
   ]
  },
  {
   "cell_type": "code",
   "execution_count": 1,
   "metadata": {},
   "source": [
    "#!lsmagic"
   ],
   "outputs": []
  },
  {
   "cell_type": "code",
   "execution_count": 1,
   "metadata": {},
   "source": [
    "#!fsharp\n",
    "open XPlot.Plotly"
   ],
   "outputs": []
  },
  {
   "cell_type": "code",
   "execution_count": 1,
   "metadata": {},
   "source": [
    "#!fsharp\n",
    "// not necessary but fun\n",
    "type Vector2D = double * double\n",
    "\n",
    "let vectorScalarOps (op : int -> double -> double) (n : int) (s : Vector2D) : Vector2D =\n",
    "    match s with\n",
    "    | (x, y) -> (op n x, op n y)\n",
    "\n",
    "let vectorOps (op : double -> double -> double) (f : Vector2D) (s : Vector2D) : Vector2D = \n",
    "    match (f, s) with\n",
    "    | ((x, y), (x', y')) -> (op x x', op y y')\n",
    "\n",
    "let (|+|) = vectorOps (+)\n",
    "\n",
    "let (-*-) = vectorScalarOps (fun i d -> Convert.ToDouble(i) * d)\n",
    ""
   ],
   "outputs": []
  },
  {
   "cell_type": "code",
   "execution_count": 1,
   "metadata": {},
   "source": [
    "#!fsharp\n",
    "let from = (0, 0)\n",
    "let to' = (6, 4)\n",
    "let (arrowx, arrowy) = to'\n",
    "\n",
    "let layout = Options(title = \"Vector\", annotations = seq { Annotation(showarrow = true, x = arrowx, y = arrowy) })\n",
    "\n",
    "[from, to'] \n",
    "|> Chart.Line \n",
    "|> Chart.WithOptions options"
   ],
   "outputs": [
    {
     "output_type": "execute_result",
     "data": {
      "text/html": "<div id=\"6371090e-a4c3-4659-bc82-53607cf09242\" style=\"width: 900px; height: 500px;\"></div>\r\n<script type=\"text/javascript\">\r\n\r\nvar renderPlotly = function() {\r\n    var xplotRequire = require.config({context:'xplot-3.0.1',paths:{plotly:'https://cdn.plot.ly/plotly-1.49.2.min'}}) || require;\r\n    xplotRequire(['plotly'], function(Plotly) {\r\n\n            var data = [{\"type\":\"scatter\",\"x\":[0,6],\"y\":[0,4]}];\n            var layout = {\"title\":\"Vector\",\"annotations\":[{\"showarrow\":true,\"x\":6,\"y\":4}]};\n            Plotly.newPlot('6371090e-a4c3-4659-bc82-53607cf09242', data, layout);\n        \r\n});\r\n};\r\n// ensure `require` is available globally\r\nif ((typeof(require) !==  typeof(Function)) || (typeof(require.config) !== typeof(Function))) {\r\n    let require_script = document.createElement('script');\r\n    require_script.setAttribute('src', 'https://cdnjs.cloudflare.com/ajax/libs/require.js/2.3.6/require.min.js');\r\n    require_script.setAttribute('type', 'text/javascript');\r\n    \r\n    \r\n    require_script.onload = function() {\r\n        renderPlotly();\r\n    };\r\n\r\n    document.getElementsByTagName('head')[0].appendChild(require_script);\r\n}\r\nelse {\r\n    renderPlotly();\r\n}\r\n\r\n</script>\r\n"
     },
     "execution_count": 1,
     "metadata": {}
    }
   ]
  },
  {
   "cell_type": "code",
   "execution_count": 1,
   "metadata": {},
   "source": [
    "#!fsharp\n",
    "\n",
    "let dinoX = [6; 3; 1; -1; -2; -3; -4; -5; -5; -2; -5; -4; -2; -1;  0; -1;  1;  2;  1;  3; 5; 6]\n",
    "let dinoY = [4; 1; 2;  5;  5;  4;  4;  3;  2;  2;  1;  0;  1;  0; -3; -4; -4; -3; -2; -1; 1; 4]\n",
    "\n",
    "let plot = Scatter(x = dinoX, y =  dinoY, mode = \"markers+lines\")\n",
    "    \n",
    "[plot]\n",
    "|> Chart.Plot\n",
    "|> Chart.WithWidth 700\n",
    "|> Chart.WithHeight 500"
   ],
   "outputs": [
    {
     "output_type": "execute_result",
     "data": {
      "text/html": "<div id=\"8d83f74e-b755-4d9f-8936-ab91961bb62f\" style=\"width: 700px; height: 500px;\"></div>\r\n<script type=\"text/javascript\">\r\n\r\nvar renderPlotly = function() {\r\n    var xplotRequire = require.config({context:'xplot-3.0.1',paths:{plotly:'https://cdn.plot.ly/plotly-1.49.2.min'}}) || require;\r\n    xplotRequire(['plotly'], function(Plotly) {\r\n\n            var data = [{\"type\":\"scatter\",\"x\":[6,3,1,-1,-2,-3,-4,-5,-5,-2,-5,-4,-2,-1,0,-1,1,2,1,3,5,6],\"y\":[4,1,2,5,5,4,4,3,2,2,1,0,1,0,-3,-4,-4,-3,-2,-1,1,4],\"mode\":\"markers+lines\"}];\n            var layout = \"\";\n            Plotly.newPlot('8d83f74e-b755-4d9f-8936-ab91961bb62f', data, layout);\n        \r\n});\r\n};\r\n// ensure `require` is available globally\r\nif ((typeof(require) !==  typeof(Function)) || (typeof(require.config) !== typeof(Function))) {\r\n    let require_script = document.createElement('script');\r\n    require_script.setAttribute('src', 'https://cdnjs.cloudflare.com/ajax/libs/require.js/2.3.6/require.min.js');\r\n    require_script.setAttribute('type', 'text/javascript');\r\n    \r\n    \r\n    require_script.onload = function() {\r\n        renderPlotly();\r\n    };\r\n\r\n    document.getElementsByTagName('head')[0].appendChild(require_script);\r\n}\r\nelse {\r\n    renderPlotly();\r\n}\r\n\r\n</script>\r\n"
     },
     "execution_count": 1,
     "metadata": {}
    }
   ]
  },
  {
   "cell_type": "code",
   "execution_count": 1,
   "metadata": {},
   "source": [
    "#!fsharp\n",
    "\n",
    "let (xs, ys) = \n",
    "    seq { for i in -10 .. 10 -> (i, i * i) } \n",
    "    |> Seq.fold (fun (xs, ys) (x, y) -> (x::xs, y::ys)) ([], [])\n",
    "\n",
    "let plot = Scatter(x = xs, y =  ys, mode = \"markers+lines\")\n",
    "        \n",
    "[plot]\n",
    "|> Chart.Plot\n",
    "|> Chart.WithWidth 700\n",
    "|> Chart.WithHeight 500"
   ],
   "outputs": [
    {
     "output_type": "execute_result",
     "data": {
      "text/html": "<div id=\"e8a5fa77-1608-4a12-84e0-e07220c415ef\" style=\"width: 700px; height: 500px;\"></div>\r\n<script type=\"text/javascript\">\r\n\r\nvar renderPlotly = function() {\r\n    var xplotRequire = require.config({context:'xplot-3.0.1',paths:{plotly:'https://cdn.plot.ly/plotly-1.49.2.min'}}) || require;\r\n    xplotRequire(['plotly'], function(Plotly) {\r\n\n            var data = [{\"type\":\"scatter\",\"x\":[10,9,8,7,6,5,4,3,2,1,0,-1,-2,-3,-4,-5,-6,-7,-8,-9,-10],\"y\":[100,81,64,49,36,25,16,9,4,1,0,1,4,9,16,25,36,49,64,81,100],\"mode\":\"markers+lines\"}];\n            var layout = \"\";\n            Plotly.newPlot('e8a5fa77-1608-4a12-84e0-e07220c415ef', data, layout);\n        \r\n});\r\n};\r\n// ensure `require` is available globally\r\nif ((typeof(require) !==  typeof(Function)) || (typeof(require.config) !== typeof(Function))) {\r\n    let require_script = document.createElement('script');\r\n    require_script.setAttribute('src', 'https://cdnjs.cloudflare.com/ajax/libs/require.js/2.3.6/require.min.js');\r\n    require_script.setAttribute('type', 'text/javascript');\r\n    \r\n    \r\n    require_script.onload = function() {\r\n        renderPlotly();\r\n    };\r\n\r\n    document.getElementsByTagName('head')[0].appendChild(require_script);\r\n}\r\nelse {\r\n    renderPlotly();\r\n}\r\n\r\n</script>\r\n"
     },
     "execution_count": 1,
     "metadata": {}
    }
   ]
  }
 ],
 "metadata": {
  "kernelspec": {
   "display_name": ".NET (C#)",
   "language": "C#",
   "name": ".net-csharp"
  },
  "language_info": {
   "file_extension": ".cs",
   "mimetype": "text/x-csharp",
   "name": "C#",
   "pygments_lexer": "csharp",
   "version": "8.0"
  }
 },
 "nbformat": 4,
 "nbformat_minor": 4
}