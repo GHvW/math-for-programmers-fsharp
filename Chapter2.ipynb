{
 "cells": [
  {
   "cell_type": "markdown",
   "metadata": {},
   "source": [
    "# Chapter 2: Drawing with 2D Vectors"
   ]
  },
  {
   "cell_type": "markdown",
   "metadata": {},
   "source": [
    "## 2.1 - Picturing 2D Vectors"
   ]
  },
  {
   "cell_type": "code",
   "execution_count": 1,
   "metadata": {},
   "source": [
    "#!fsharp\n",
    "// #!lsmagic"
   ],
   "outputs": []
  },
  {
   "cell_type": "code",
   "execution_count": 1,
   "metadata": {},
   "source": [
    "#!fsharp\n",
    "open XPlot.Plotly"
   ],
   "outputs": []
  },
  {
   "cell_type": "code",
   "execution_count": 1,
   "metadata": {},
   "source": [
    "#!fsharp\n",
    "// not necessary but fun\n",
    "type Vector2D = double * double\n",
    "\n",
    "let vectorScalarOps (op : int -> double -> double) (n : int) (s : Vector2D) : Vector2D =\n",
    "    match s with\n",
    "    | (x, y) -> (op n x, op n y)\n",
    "\n",
    "let vectorOps (op : double -> double -> double) (f : Vector2D) (s : Vector2D) : Vector2D = \n",
    "    match (f, s) with\n",
    "    | ((x, y), (x', y')) -> (op x x', op y y')\n",
    "\n",
    "let (|+|) = vectorOps (+)\n",
    "\n",
    "let (-*-) = vectorScalarOps (fun i d -> Convert.ToDouble(i) * d)\n",
    ""
   ],
   "outputs": []
  },
  {
   "cell_type": "code",
   "execution_count": 1,
   "metadata": {},
   "source": [
    "#!fsharp\n",
    "let from = (0, 0)\n",
    "let to' = (6, 4)\n",
    "let (arrowx, arrowy) = to'\n",
    "\n",
    "let options = Options(annotations = seq { Annotation(showarrow = true, x = arrowx, y = arrowy, arrowcolor = \"blue\") })\n",
    "\n",
    "[from; to'] \n",
    "|> Chart.Line \n",
    "|> Chart.WithOptions options"
   ],
   "outputs": [
    {
     "output_type": "execute_result",
     "data": {
      "text/html": "<div id=\"3364e98b-1fd5-492d-aa02-4b71908b1220\" style=\"width: 900px; height: 500px;\"></div>\r\n<script type=\"text/javascript\">\r\n\r\nvar renderPlotly = function() {\r\n    var xplotRequire = require.config({context:'xplot-3.0.1',paths:{plotly:'https://cdn.plot.ly/plotly-1.49.2.min'}}) || require;\r\n    xplotRequire(['plotly'], function(Plotly) {\r\n\n            var data = [{\"type\":\"scatter\",\"x\":[0,6],\"y\":[0,4]}];\n            var layout = {\"annotations\":[{\"showarrow\":true,\"arrowcolor\":\"blue\",\"x\":6,\"y\":4}]};\n            Plotly.newPlot('3364e98b-1fd5-492d-aa02-4b71908b1220', data, layout);\n        \r\n});\r\n};\r\n// ensure `require` is available globally\r\nif ((typeof(require) !==  typeof(Function)) || (typeof(require.config) !== typeof(Function))) {\r\n    let require_script = document.createElement('script');\r\n    require_script.setAttribute('src', 'https://cdnjs.cloudflare.com/ajax/libs/require.js/2.3.6/require.min.js');\r\n    require_script.setAttribute('type', 'text/javascript');\r\n    \r\n    \r\n    require_script.onload = function() {\r\n        renderPlotly();\r\n    };\r\n\r\n    document.getElementsByTagName('head')[0].appendChild(require_script);\r\n}\r\nelse {\r\n    renderPlotly();\r\n}\r\n\r\n</script>\r\n"
     },
     "execution_count": 1,
     "metadata": {}
    }
   ]
  },
  {
   "cell_type": "markdown",
   "metadata": {},
   "source": [
    "With a non (0, 0) origin"
   ]
  },
  {
   "cell_type": "code",
   "execution_count": 1,
   "metadata": {},
   "source": [
    "#!fsharp\n",
    "let (origin_x, origin_y) = (10.0, 10.0)\n",
    "let (x, y) = (6.0, 4.0)\n",
    "\n",
    "let linePlot = Scatter(x = [origin_x; x], y = [origin_y; y], mode = \"lines\")\n",
    "\n",
    "[linePlot]\n",
    "|> Chart.Plot"
   ],
   "outputs": [
    {
     "output_type": "execute_result",
     "data": {
      "text/html": "<div id=\"460e3e5f-57ff-4be6-8c4b-2bb92b5819da\" style=\"width: 900px; height: 500px;\"></div>\r\n<script type=\"text/javascript\">\r\n\r\nvar renderPlotly = function() {\r\n    var xplotRequire = require.config({context:'xplot-3.0.1',paths:{plotly:'https://cdn.plot.ly/plotly-1.49.2.min'}}) || require;\r\n    xplotRequire(['plotly'], function(Plotly) {\r\n\n            var data = [{\"type\":\"scatter\",\"x\":[10.0,6.0],\"y\":[10.0,4.0],\"mode\":\"lines\"}];\n            var layout = \"\";\n            Plotly.newPlot('460e3e5f-57ff-4be6-8c4b-2bb92b5819da', data, layout);\n        \r\n});\r\n};\r\n// ensure `require` is available globally\r\nif ((typeof(require) !==  typeof(Function)) || (typeof(require.config) !== typeof(Function))) {\r\n    let require_script = document.createElement('script');\r\n    require_script.setAttribute('src', 'https://cdnjs.cloudflare.com/ajax/libs/require.js/2.3.6/require.min.js');\r\n    require_script.setAttribute('type', 'text/javascript');\r\n    \r\n    \r\n    require_script.onload = function() {\r\n        renderPlotly();\r\n    };\r\n\r\n    document.getElementsByTagName('head')[0].appendChild(require_script);\r\n}\r\nelse {\r\n    renderPlotly();\r\n}\r\n\r\n</script>\r\n"
     },
     "execution_count": 1,
     "metadata": {}
    }
   ]
  },
  {
   "cell_type": "markdown",
   "metadata": {},
   "source": [
    "### Exercises"
   ]
  },
  {
   "cell_type": "markdown",
   "metadata": {},
   "source": [
    "#### 2.2"
   ]
  },
  {
   "cell_type": "code",
   "execution_count": 1,
   "metadata": {},
   "source": [
    "#!fsharp\n",
    "let negLinePlot = Scatter(x = [0; 2], y = [0; -2], mode = \"lines\")\n",
    "\n",
    "Chart.Plot [negLinePlot]"
   ],
   "outputs": [
    {
     "output_type": "execute_result",
     "data": {
      "text/html": "<div id=\"2b95481d-07fc-4c0f-8442-d84e4098c84d\" style=\"width: 900px; height: 500px;\"></div>\r\n<script type=\"text/javascript\">\r\n\r\nvar renderPlotly = function() {\r\n    var xplotRequire = require.config({context:'xplot-3.0.1',paths:{plotly:'https://cdn.plot.ly/plotly-1.49.2.min'}}) || require;\r\n    xplotRequire(['plotly'], function(Plotly) {\r\n\n            var data = [{\"type\":\"scatter\",\"x\":[0,2],\"y\":[0,-2],\"mode\":\"lines\"}];\n            var layout = \"\";\n            Plotly.newPlot('2b95481d-07fc-4c0f-8442-d84e4098c84d', data, layout);\n        \r\n});\r\n};\r\n// ensure `require` is available globally\r\nif ((typeof(require) !==  typeof(Function)) || (typeof(require.config) !== typeof(Function))) {\r\n    let require_script = document.createElement('script');\r\n    require_script.setAttribute('src', 'https://cdnjs.cloudflare.com/ajax/libs/require.js/2.3.6/require.min.js');\r\n    require_script.setAttribute('type', 'text/javascript');\r\n    \r\n    \r\n    require_script.onload = function() {\r\n        renderPlotly();\r\n    };\r\n\r\n    document.getElementsByTagName('head')[0].appendChild(require_script);\r\n}\r\nelse {\r\n    renderPlotly();\r\n}\r\n\r\n</script>\r\n"
     },
     "execution_count": 1,
     "metadata": {}
    }
   ]
  },
  {
   "cell_type": "markdown",
   "metadata": {},
   "source": [
    "#### 2.4"
   ]
  },
  {
   "cell_type": "code",
   "execution_count": 1,
   "metadata": {},
   "source": [
    "#!fsharp\n",
    "\n",
    "let dinoX : list<double> = [6.0; 3.0; 1.0; -1.0; -2.0; -3.0; -4.0; -5.0; -5.0; -2.0; -5.0; -4.0; -2.0; -1.0;  0.0; -1.0;  1.0;  2.0;  1.0;  3.0; 5.0; 6.0]\n",
    "let dinoY : list<double> = [4.0; 1.0; 2.0;  5.0;  5.0;  4.0;  4.0;  3.0;  2.0;  2.0;  1.0;  0.0;  1.0;  0.0; -3.0; -4.0; -4.0; -3.0; -2.0; -1.0; 1.0; 4.0]\n",
    "\n",
    "let dinoPlot = Scatter(x = dinoX, y =  dinoY, mode = \"markers+lines\")\n",
    "    \n",
    "[dinoPlot]\n",
    "|> Chart.Plot\n",
    "|> Chart.WithWidth 700\n",
    "|> Chart.WithHeight 500"
   ],
   "outputs": [
    {
     "output_type": "execute_result",
     "data": {
      "text/html": "<div id=\"4552190c-5354-4590-8cca-d42b5a3eaa23\" style=\"width: 700px; height: 500px;\"></div>\r\n<script type=\"text/javascript\">\r\n\r\nvar renderPlotly = function() {\r\n    var xplotRequire = require.config({context:'xplot-3.0.1',paths:{plotly:'https://cdn.plot.ly/plotly-1.49.2.min'}}) || require;\r\n    xplotRequire(['plotly'], function(Plotly) {\r\n\n            var data = [{\"type\":\"scatter\",\"x\":[6.0,3.0,1.0,-1.0,-2.0,-3.0,-4.0,-5.0,-5.0,-2.0,-5.0,-4.0,-2.0,-1.0,0.0,-1.0,1.0,2.0,1.0,3.0,5.0,6.0],\"y\":[4.0,1.0,2.0,5.0,5.0,4.0,4.0,3.0,2.0,2.0,1.0,0.0,1.0,0.0,-3.0,-4.0,-4.0,-3.0,-2.0,-1.0,1.0,4.0],\"mode\":\"markers+lines\"}];\n            var layout = \"\";\n            Plotly.newPlot('4552190c-5354-4590-8cca-d42b5a3eaa23', data, layout);\n        \r\n});\r\n};\r\n// ensure `require` is available globally\r\nif ((typeof(require) !==  typeof(Function)) || (typeof(require.config) !== typeof(Function))) {\r\n    let require_script = document.createElement('script');\r\n    require_script.setAttribute('src', 'https://cdnjs.cloudflare.com/ajax/libs/require.js/2.3.6/require.min.js');\r\n    require_script.setAttribute('type', 'text/javascript');\r\n    \r\n    \r\n    require_script.onload = function() {\r\n        renderPlotly();\r\n    };\r\n\r\n    document.getElementsByTagName('head')[0].appendChild(require_script);\r\n}\r\nelse {\r\n    renderPlotly();\r\n}\r\n\r\n</script>\r\n"
     },
     "execution_count": 1,
     "metadata": {}
    }
   ]
  },
  {
   "cell_type": "markdown",
   "metadata": {},
   "source": [
    "#### 2.5"
   ]
  },
  {
   "cell_type": "code",
   "execution_count": 1,
   "metadata": {},
   "source": [
    "#!fsharp\n",
    "\n",
    "let (xs, ys) = \n",
    "    seq { for i in -10 .. 10 -> (i, i * i) } \n",
    "    |> Seq.fold (fun (xs, ys) (x, y) -> (x::xs, y::ys)) ([], [])\n",
    "\n",
    "let uPlot = Scatter(x = xs, y =  ys, mode = \"markers+lines\")\n",
    "        \n",
    "[uPlot]\n",
    "|> Chart.Plot\n",
    "|> Chart.WithWidth 700\n",
    "|> Chart.WithHeight 500"
   ],
   "outputs": [
    {
     "output_type": "execute_result",
     "data": {
      "text/html": "<div id=\"4c16f09d-9d2c-4bc8-99a7-9a9af2eab7b5\" style=\"width: 700px; height: 500px;\"></div>\r\n<script type=\"text/javascript\">\r\n\r\nvar renderPlotly = function() {\r\n    var xplotRequire = require.config({context:'xplot-3.0.1',paths:{plotly:'https://cdn.plot.ly/plotly-1.49.2.min'}}) || require;\r\n    xplotRequire(['plotly'], function(Plotly) {\r\n\n            var data = [{\"type\":\"scatter\",\"x\":[10,9,8,7,6,5,4,3,2,1,0,-1,-2,-3,-4,-5,-6,-7,-8,-9,-10],\"y\":[100,81,64,49,36,25,16,9,4,1,0,1,4,9,16,25,36,49,64,81,100],\"mode\":\"markers+lines\"}];\n            var layout = \"\";\n            Plotly.newPlot('4c16f09d-9d2c-4bc8-99a7-9a9af2eab7b5', data, layout);\n        \r\n});\r\n};\r\n// ensure `require` is available globally\r\nif ((typeof(require) !==  typeof(Function)) || (typeof(require.config) !== typeof(Function))) {\r\n    let require_script = document.createElement('script');\r\n    require_script.setAttribute('src', 'https://cdnjs.cloudflare.com/ajax/libs/require.js/2.3.6/require.min.js');\r\n    require_script.setAttribute('type', 'text/javascript');\r\n    \r\n    \r\n    require_script.onload = function() {\r\n        renderPlotly();\r\n    };\r\n\r\n    document.getElementsByTagName('head')[0].appendChild(require_script);\r\n}\r\nelse {\r\n    renderPlotly();\r\n}\r\n\r\n</script>\r\n"
     },
     "execution_count": 1,
     "metadata": {}
    }
   ]
  },
  {
   "cell_type": "markdown",
   "metadata": {},
   "source": [
    "# 2.2 - Plane Vector Arithmetic"
   ]
  },
  {
   "cell_type": "code",
   "execution_count": 1,
   "metadata": {},
   "source": [
    "#!fsharp\n",
    "(15.0, 10.0) |+| (25.0, 20.0)"
   ],
   "outputs": [
    {
     "output_type": "execute_result",
     "data": {
      "text/html": "<table><thead><tr><th>Item1</th><th>Item2</th></tr></thead><tbody><tr><td><div class=\"dni-plaintext\">40</div></td><td><div class=\"dni-plaintext\">30</div></td></tr></tbody></table>"
     },
     "execution_count": 1,
     "metadata": {}
    }
   ]
  },
  {
   "cell_type": "markdown",
   "metadata": {},
   "source": [
    "### Vector Math Illustration"
   ]
  },
  {
   "cell_type": "code",
   "execution_count": 1,
   "metadata": {},
   "source": [
    "#!fsharp\n",
    "let firstVector = (5.0, 10.0)\n",
    "let secondVector = (8.0, 2.0)\n",
    "\n",
    "let result = firstVector |+| secondVector\n",
    "\n",
    "let (v1x, v1y) = firstVector\n",
    "let (v2x, v2y) = secondVector\n",
    "let (resultx, resulty) = result\n",
    "\n",
    "let first = Scatter(x = [0.0; v1x], y = [0.0; v1y], mode = \"lines\", line = Line(color = \"blue\"))\n",
    "let second = Scatter(x = [0.0; v2x], y = [0.0; v2y], mode = \"lines\", line = Line(color = \"red\"))\n",
    "let third = Scatter(x = [0.0; resultx], y = [0.0; resulty], mode = \"lines\", line = Line(color = \"purple\"))\n",
    "// let fourth = Scatter(x = [v1x; v2x], y = [v1y; v2y], mode = \"lines\")\n",
    "let combo = Scatter(x = [v1x; resultx], y = [v1y; resulty], mode = \"lines\", line = Line(color = \"red\"))\n",
    "\n",
    "[first; second; third; combo]\n",
    "|> Chart.Plot"
   ],
   "outputs": [
    {
     "output_type": "execute_result",
     "data": {
      "text/html": "<div id=\"930154c0-82e6-4d87-a602-1d629ab244b0\" style=\"width: 900px; height: 500px;\"></div>\r\n<script type=\"text/javascript\">\r\n\r\nvar renderPlotly = function() {\r\n    var xplotRequire = require.config({context:'xplot-3.0.1',paths:{plotly:'https://cdn.plot.ly/plotly-1.49.2.min'}}) || require;\r\n    xplotRequire(['plotly'], function(Plotly) {\r\n\n            var data = [{\"type\":\"scatter\",\"x\":[0.0,5.0],\"y\":[0.0,10.0],\"mode\":\"lines\",\"line\":{\"color\":\"blue\"}},{\"type\":\"scatter\",\"x\":[0.0,8.0],\"y\":[0.0,2.0],\"mode\":\"lines\",\"line\":{\"color\":\"red\"}},{\"type\":\"scatter\",\"x\":[0.0,13.0],\"y\":[0.0,12.0],\"mode\":\"lines\",\"line\":{\"color\":\"purple\"}},{\"type\":\"scatter\",\"x\":[5.0,13.0],\"y\":[10.0,12.0],\"mode\":\"lines\",\"line\":{\"color\":\"red\"}}];\n            var layout = \"\";\n            Plotly.newPlot('930154c0-82e6-4d87-a602-1d629ab244b0', data, layout);\n        \r\n});\r\n};\r\n// ensure `require` is available globally\r\nif ((typeof(require) !==  typeof(Function)) || (typeof(require.config) !== typeof(Function))) {\r\n    let require_script = document.createElement('script');\r\n    require_script.setAttribute('src', 'https://cdnjs.cloudflare.com/ajax/libs/require.js/2.3.6/require.min.js');\r\n    require_script.setAttribute('type', 'text/javascript');\r\n    \r\n    \r\n    require_script.onload = function() {\r\n        renderPlotly();\r\n    };\r\n\r\n    document.getElementsByTagName('head')[0].appendChild(require_script);\r\n}\r\nelse {\r\n    renderPlotly();\r\n}\r\n\r\n</script>\r\n"
     },
     "execution_count": 1,
     "metadata": {}
    }
   ]
  },
  {
   "cell_type": "markdown",
   "metadata": {},
   "source": [
    "### Dino Vectors"
   ]
  },
  {
   "cell_type": "code",
   "execution_count": 1,
   "metadata": {},
   "source": [
    "#!fsharp\n",
    "let dinoVectors2 = \n",
    "    dinoY\n",
    "    |> Seq.zip dinoX\n",
    "    |> Seq.map (fun v -> v |+| (-2.0, -3.0))\n",
    "\n",
    "let (dino2x, dino2y) = \n",
    "    dinoVectors2\n",
    "    |> Seq.fold (fun (xs, ys) (x, y) -> (x::xs, y::ys)) ([], [])\n",
    ""
   ],
   "outputs": []
  },
  {
   "cell_type": "code",
   "execution_count": 1,
   "metadata": {},
   "source": [
    "#!fsharp\n",
    "\n",
    "// let plot1 = Scatter(x = dinoX, y =  dinoY, mode = \"markers+lines\")\n",
    "let dinoPlot2 = Scatter(x = dino2x, y = dino2y, mode = \"markers+lines\")\n",
    "    \n",
    "[dinoPlot; dinoPlot2]\n",
    "|> Chart.Plot\n",
    "|> Chart.WithWidth 700\n",
    "|> Chart.WithHeight 500"
   ],
   "outputs": [
    {
     "output_type": "execute_result",
     "data": {
      "text/html": "<div id=\"562e26b7-badf-48ca-ba81-4cb80e0399e8\" style=\"width: 700px; height: 500px;\"></div>\r\n<script type=\"text/javascript\">\r\n\r\nvar renderPlotly = function() {\r\n    var xplotRequire = require.config({context:'xplot-3.0.1',paths:{plotly:'https://cdn.plot.ly/plotly-1.49.2.min'}}) || require;\r\n    xplotRequire(['plotly'], function(Plotly) {\r\n\n            var data = [{\"type\":\"scatter\",\"x\":[6.0,3.0,1.0,-1.0,-2.0,-3.0,-4.0,-5.0,-5.0,-2.0,-5.0,-4.0,-2.0,-1.0,0.0,-1.0,1.0,2.0,1.0,3.0,5.0,6.0],\"y\":[4.0,1.0,2.0,5.0,5.0,4.0,4.0,3.0,2.0,2.0,1.0,0.0,1.0,0.0,-3.0,-4.0,-4.0,-3.0,-2.0,-1.0,1.0,4.0],\"mode\":\"markers+lines\"},{\"type\":\"scatter\",\"x\":[4.0,3.0,1.0,-1.0,0.0,-1.0,-3.0,-2.0,-3.0,-4.0,-6.0,-7.0,-4.0,-7.0,-7.0,-6.0,-5.0,-4.0,-3.0,-1.0,1.0,4.0],\"y\":[1.0,-2.0,-4.0,-5.0,-6.0,-7.0,-7.0,-6.0,-3.0,-2.0,-3.0,-2.0,-1.0,-1.0,0.0,1.0,1.0,2.0,2.0,-1.0,-2.0,1.0],\"mode\":\"markers+lines\"}];\n            var layout = \"\";\n            Plotly.newPlot('562e26b7-badf-48ca-ba81-4cb80e0399e8', data, layout);\n        \r\n});\r\n};\r\n// ensure `require` is available globally\r\nif ((typeof(require) !==  typeof(Function)) || (typeof(require.config) !== typeof(Function))) {\r\n    let require_script = document.createElement('script');\r\n    require_script.setAttribute('src', 'https://cdnjs.cloudflare.com/ajax/libs/require.js/2.3.6/require.min.js');\r\n    require_script.setAttribute('type', 'text/javascript');\r\n    \r\n    \r\n    require_script.onload = function() {\r\n        renderPlotly();\r\n    };\r\n\r\n    document.getElementsByTagName('head')[0].appendChild(require_script);\r\n}\r\nelse {\r\n    renderPlotly();\r\n}\r\n\r\n</script>\r\n"
     },
     "execution_count": 1,
     "metadata": {}
    }
   ]
  },
  {
   "cell_type": "code",
   "execution_count": 1,
   "metadata": {},
   "source": [
    "#!fsharp\n",
    "let distance (v : Vector2D) : double =\n",
    "    let (x, y) = v\n",
    "    Math.Sqrt ((Math.Pow (x, 2.0)) + (Math.Pow (y, 2.0)))\n",
    "\n",
    "distance (4.0, 3.0)"
   ],
   "outputs": [
    {
     "output_type": "execute_result",
     "data": {
      "text/html": "<div class=\"dni-plaintext\">5</div>"
     },
     "execution_count": 1,
     "metadata": {}
    }
   ]
  },
  {
   "cell_type": "markdown",
   "metadata": {},
   "source": [
    "### 2.2.3 - Subtraciton, displacement and distance"
   ]
  },
  {
   "cell_type": "code",
   "execution_count": 1,
   "metadata": {},
   "source": [
    "#!fsharp\n",
    "let (|-|) = vectorOps (-)\n",
    "\n",
    "let v = (5.0, 10.0)\n",
    "let w = (1.0, 2.0)\n",
    "\n",
    "v |-| w"
   ],
   "outputs": [
    {
     "output_type": "execute_result",
     "data": {
      "text/html": "<table><thead><tr><th>Item1</th><th>Item2</th></tr></thead><tbody><tr><td><div class=\"dni-plaintext\">4</div></td><td><div class=\"dni-plaintext\">8</div></td></tr></tbody></table>"
     },
     "execution_count": 1,
     "metadata": {}
    }
   ]
  },
  {
   "cell_type": "markdown",
   "metadata": {},
   "source": [
    "### 2.2.4 - Exercises"
   ]
  },
  {
   "cell_type": "code",
   "execution_count": 1,
   "metadata": {},
   "source": [
    "#!fsharp\n",
    "let u = (-2.0, 0.0)\n",
    "let v = (1.5, 1.5)\n",
    "let w = (4.0, 1.0)"
   ],
   "outputs": []
  },
  {
   "cell_type": "code",
   "execution_count": 1,
   "metadata": {},
   "source": [
    "#!fsharp\n",
    "u |+| v"
   ],
   "outputs": [
    {
     "output_type": "execute_result",
     "data": {
      "text/html": "<table><thead><tr><th>Item1</th><th>Item2</th></tr></thead><tbody><tr><td><div class=\"dni-plaintext\">-0.5</div></td><td><div class=\"dni-plaintext\">1.5</div></td></tr></tbody></table>"
     },
     "execution_count": 1,
     "metadata": {}
    }
   ]
  },
  {
   "cell_type": "code",
   "execution_count": 1,
   "metadata": {},
   "source": [
    "#!fsharp\n",
    "v |+| w"
   ],
   "outputs": [
    {
     "output_type": "execute_result",
     "data": {
      "text/html": "<table><thead><tr><th>Item1</th><th>Item2</th></tr></thead><tbody><tr><td><div class=\"dni-plaintext\">5.5</div></td><td><div class=\"dni-plaintext\">2.5</div></td></tr></tbody></table>"
     },
     "execution_count": 1,
     "metadata": {}
    }
   ]
  },
  {
   "cell_type": "code",
   "execution_count": 1,
   "metadata": {},
   "source": [
    "#!fsharp\n",
    "u |+| w"
   ],
   "outputs": [
    {
     "output_type": "execute_result",
     "data": {
      "text/html": "<table><thead><tr><th>Item1</th><th>Item2</th></tr></thead><tbody><tr><td><div class=\"dni-plaintext\">2</div></td><td><div class=\"dni-plaintext\">1</div></td></tr></tbody></table>"
     },
     "execution_count": 1,
     "metadata": {}
    }
   ]
  },
  {
   "cell_type": "code",
   "execution_count": 1,
   "metadata": {},
   "source": [
    "#!fsharp\n",
    "u |+| v |+| w"
   ],
   "outputs": [
    {
     "output_type": "execute_result",
     "data": {
      "text/html": "<table><thead><tr><th>Item1</th><th>Item2</th></tr></thead><tbody><tr><td><div class=\"dni-plaintext\">3.5</div></td><td><div class=\"dni-plaintext\">2.5</div></td></tr></tbody></table>"
     },
     "execution_count": 1,
     "metadata": {}
    }
   ]
  },
  {
   "cell_type": "code",
   "execution_count": 1,
   "metadata": {},
   "source": [
    "#!fsharp\n",
    "let addVecs ns = \n",
    "    ns |> Seq.fold (|+|) (0.0, 0.0)"
   ],
   "outputs": []
  },
  {
   "cell_type": "code",
   "execution_count": 1,
   "metadata": {},
   "source": [
    "#!fsharp\n",
    "addVecs [(-2.0, 5.0); (-3.0, 4.0); (-1.0, 1.0); (-8.0, 10.0)]"
   ],
   "outputs": [
    {
     "output_type": "execute_result",
     "data": {
      "text/html": "<table><thead><tr><th>Item1</th><th>Item2</th></tr></thead><tbody><tr><td><div class=\"dni-plaintext\">-14</div></td><td><div class=\"dni-plaintext\">20</div></td></tr></tbody></table>"
     },
     "execution_count": 1,
     "metadata": {}
    }
   ]
  },
  {
   "cell_type": "code",
   "execution_count": 1,
   "metadata": {},
   "source": [
    "#!fsharp\n",
    "let translate translation vecs =\n",
    "    vecs |> Seq.map (fun v -> v |+| translation)"
   ],
   "outputs": []
  },
  {
   "cell_type": "code",
   "execution_count": 1,
   "metadata": {},
   "source": [
    "#!fsharp\n",
    "translate (1.0, 1.0) [(0.0, 0.0); (0.0, 1.0); (-3.0, -3.0)]"
   ],
   "outputs": [
    {
     "output_type": "execute_result",
     "data": {
      "text/html": "<table><thead><tr><th><i>index</i></th><th>Item1</th><th>Item2</th></tr></thead><tbody><tr><td>0</td><td><div class=\"dni-plaintext\">1</div></td><td><div class=\"dni-plaintext\">1</div></td></tr><tr><td>1</td><td><div class=\"dni-plaintext\">1</div></td><td><div class=\"dni-plaintext\">2</div></td></tr><tr><td>2</td><td><div class=\"dni-plaintext\">-2</div></td><td><div class=\"dni-plaintext\">-2</div></td></tr></tbody></table>"
     },
     "execution_count": 1,
     "metadata": {}
    }
   ]
  },
  {
   "cell_type": "markdown",
   "metadata": {},
   "source": [
    "Vector addition is commutative"
   ]
  },
  {
   "cell_type": "code",
   "execution_count": 1,
   "metadata": {},
   "source": [
    "#!fsharp\n",
    "let uu = (2.0, 1.0)\n",
    "let vv = (3.0, 4.0)\n",
    "let (ux, uy) = uu\n",
    "let (vx, vy) = vv\n",
    "let (resx, resy) = uu |+| vv\n",
    "let (oresx, oresy) = vv |+| uu\n",
    "\n",
    "let commScatter1 = Scatter(x = [0.0; ux], y = [0.0; uy], mode = \"markers+lines\", line = Line(color = \"red\"))\n",
    "let commScatter2 = Scatter(x = [ux; resx], y = [uy; resy], mode = \"markers+lines\", line = Line(color = \"blue\"))\n",
    "\n",
    "let commScatter3 = Scatter(x = [0.0; vx], y = [0.0; vy], mode = \"markers+lines\", line = Line(color = \"blue\"))\n",
    "let commScatter4 = Scatter(x = [vx; resx], y = [vy; resy], mode = \"markers+lines\", line = Line(color = \"red\"))\n",
    "\n",
    "let commResultScatter = Scatter(x = [0.0; resx], y = [0.0; resy], mode = \"markers+lines\", line = Line(color = \"purple\"))\n",
    "\n",
    "[commScatter1; commScatter2; commScatter3; commScatter4; commResultScatter]\n",
    "|> Chart.Plot"
   ],
   "outputs": [
    {
     "output_type": "execute_result",
     "data": {
      "text/html": "<div id=\"bc4c2cca-b5ff-4122-8f0b-c4d444903da5\" style=\"width: 900px; height: 500px;\"></div>\r\n<script type=\"text/javascript\">\r\n\r\nvar renderPlotly = function() {\r\n    var xplotRequire = require.config({context:'xplot-3.0.1',paths:{plotly:'https://cdn.plot.ly/plotly-1.49.2.min'}}) || require;\r\n    xplotRequire(['plotly'], function(Plotly) {\r\n\n            var data = [{\"type\":\"scatter\",\"x\":[0.0,2.0],\"y\":[0.0,1.0],\"mode\":\"markers+lines\",\"line\":{\"color\":\"red\"}},{\"type\":\"scatter\",\"x\":[2.0,5.0],\"y\":[1.0,5.0],\"mode\":\"markers+lines\",\"line\":{\"color\":\"blue\"}},{\"type\":\"scatter\",\"x\":[0.0,3.0],\"y\":[0.0,4.0],\"mode\":\"markers+lines\",\"line\":{\"color\":\"blue\"}},{\"type\":\"scatter\",\"x\":[3.0,5.0],\"y\":[4.0,5.0],\"mode\":\"markers+lines\",\"line\":{\"color\":\"red\"}},{\"type\":\"scatter\",\"x\":[0.0,5.0],\"y\":[0.0,5.0],\"mode\":\"markers+lines\",\"line\":{\"color\":\"purple\"}}];\n            var layout = \"\";\n            Plotly.newPlot('bc4c2cca-b5ff-4122-8f0b-c4d444903da5', data, layout);\n        \r\n});\r\n};\r\n// ensure `require` is available globally\r\nif ((typeof(require) !==  typeof(Function)) || (typeof(require.config) !== typeof(Function))) {\r\n    let require_script = document.createElement('script');\r\n    require_script.setAttribute('src', 'https://cdnjs.cloudflare.com/ajax/libs/require.js/2.3.6/require.min.js');\r\n    require_script.setAttribute('type', 'text/javascript');\r\n    \r\n    \r\n    require_script.onload = function() {\r\n        renderPlotly();\r\n    };\r\n\r\n    document.getElementsByTagName('head')[0].appendChild(require_script);\r\n}\r\nelse {\r\n    renderPlotly();\r\n}\r\n\r\n</script>\r\n"
     },
     "execution_count": 1,
     "metadata": {}
    }
   ]
  },
  {
   "cell_type": "code",
   "execution_count": 1,
   "metadata": {},
   "source": [
    "#!fsharp\n",
    "let vectorsToScatterLists vecs =\n",
    "    vecs |> Seq.fold (fun (xs, ys) (x, y) -> (x::xs, y::ys)) ([], [])"
   ],
   "outputs": []
  },
  {
   "cell_type": "code",
   "execution_count": 1,
   "metadata": {},
   "source": [
    "#!fsharp\n",
    "let scatterListsToVectors xs ys =\n",
    "    Seq.zip xs ys"
   ],
   "outputs": []
  },
  {
   "cell_type": "code",
   "execution_count": 1,
   "metadata": {},
   "source": [
    "#!fsharp\n",
    "scatterListsToVectors dinoX dinoY"
   ],
   "outputs": []
  },
  {
   "cell_type": "markdown",
   "metadata": {},
   "source": [
    "Components and Lengths of (-6.0, -6.0) and (5.0, -12.0)?\n",
    "\n",
    "(-6.0, 0.0) and (0.0, -6.0) both length 6\n",
    "\n",
    "(5.0, 0.0) and (0.0, -12.0) length 5 and 12 respectively"
   ]
  },
  {
   "cell_type": "code",
   "execution_count": 1,
   "metadata": {},
   "source": [
    "#!fsharp\n",
    "let ff = (-6.0, -6.0)\n",
    "let gg = (5.0, -12.0)\n",
    "\n",
    "// length of the vectors\n",
    "(distance ff, distance gg)"
   ],
   "outputs": [
    {
     "output_type": "execute_result",
     "data": {
      "text/html": "<table><thead><tr><th>Item1</th><th>Item2</th></tr></thead><tbody><tr><td><div class=\"dni-plaintext\">8.48528137423857</div></td><td><div class=\"dni-plaintext\">13</div></td></tr></tbody></table>"
     },
     "execution_count": 1,
     "metadata": {}
    }
   ]
  },
  {
   "cell_type": "markdown",
   "metadata": {},
   "source": [
    "What vector in `dino_vectors` has the longest length?"
   ]
  },
  {
   "cell_type": "code",
   "execution_count": 1,
   "metadata": {},
   "source": [
    "#!fsharp\n",
    "(scatterListsToVectors dinoX dinoY)\n",
    "|> Seq.maxBy distance"
   ],
   "outputs": [
    {
     "output_type": "execute_result",
     "data": {
      "text/html": "<table><thead><tr><th>Item1</th><th>Item2</th></tr></thead><tbody><tr><td><div class=\"dni-plaintext\">6</div></td><td><div class=\"dni-plaintext\">4</div></td></tr></tbody></table>"
     },
     "execution_count": 1,
     "metadata": {}
    }
   ]
  },
  {
   "cell_type": "markdown",
   "metadata": {},
   "source": [
    "show that scaling a vector (a, b) by s also scales the length of the vector by s\n",
    "\n",
    "sqrt (sa)^2 + (sb)^2  \n",
    "sqrt (s^2)(a^2) + (s^2)(b^2) \n",
    "sqrt (s^2)(a^2 + b^2)\n",
    "|s| sqrt (a^2 + b^2)\n",
    "|s| c"
   ]
  }
 ],
 "metadata": {
  "kernelspec": {
   "display_name": ".NET (C#)",
   "language": "C#",
   "name": ".net-csharp"
  },
  "language_info": {
   "file_extension": ".cs",
   "mimetype": "text/x-csharp",
   "name": "C#",
   "pygments_lexer": "csharp",
   "version": "8.0"
  }
 },
 "nbformat": 4,
 "nbformat_minor": 4
}