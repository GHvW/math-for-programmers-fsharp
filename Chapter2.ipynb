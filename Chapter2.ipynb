{
 "cells": [
  {
   "cell_type": "markdown",
   "source": [
    "# Chapter 2: Drawing with 2D Vectors"
   ],
   "metadata": {}
  },
  {
   "cell_type": "markdown",
   "source": [
    "## 2.1 - Picturing 2D Vectors"
   ],
   "metadata": {}
  },
  {
   "cell_type": "code",
   "execution_count": null,
   "source": [
    "#!fsharp\r\n",
    "// #!lsmagic"
   ],
   "outputs": [],
   "metadata": {
    "dotnet_interactive": {
     "language": "fsharp"
    }
   }
  },
  {
   "cell_type": "code",
   "execution_count": null,
   "source": [
    "#!fsharp\r\n",
    "#r \"nuget: XPlot.Plotly.Interactive, 4.0.3\"\r\n",
    "\r\n",
    "open XPlot.Plotly\r\n"
   ],
   "outputs": [],
   "metadata": {
    "dotnet_interactive": {
     "language": "fsharp"
    }
   }
  },
  {
   "cell_type": "code",
   "execution_count": null,
   "source": [
    "#!fsharp\r\n",
    "// not necessary but fun\r\n",
    "type Vector2D = double * double\r\n",
    "\r\n",
    "let vectorScalarOps (op : double -> double -> double) (n : double) (s : Vector2D) : Vector2D =\r\n",
    "    match s with\r\n",
    "    | (x, y) -> (op n x, op n y)\r\n",
    "\r\n",
    "let vectorOps (op : double -> double -> double) (f : Vector2D) (s : Vector2D) : Vector2D = \r\n",
    "    match (f, s) with\r\n",
    "    | ((x, y), (x', y')) -> (op x x', op y y')\r\n",
    "\r\n",
    "let (|+|) = vectorOps (+)\r\n",
    "\r\n",
    "let (-*-) = vectorScalarOps (*)\r\n"
   ],
   "outputs": [],
   "metadata": {
    "dotnet_interactive": {
     "language": "fsharp"
    }
   }
  },
  {
   "cell_type": "code",
   "execution_count": null,
   "source": [
    "let vecArrow (originx: double, originy: double) color (x: double, y: double) =\r\n",
    "    Annotation(showarrow=true, arrowcolor = color, x = x, y = y, axref=\"x\", ayref=\"y\", ax=originx, ay=originy)\r\n",
    "\r\n",
    "let vecArrowFromOrigin : string -> double * double -> Annotation = vecArrow (0.0, 0.0)"
   ],
   "outputs": [],
   "metadata": {
    "dotnet_interactive": {
     "language": "fsharp"
    }
   }
  },
  {
   "cell_type": "code",
   "execution_count": null,
   "source": [
    "#!fsharp\r\n",
    "let from = (0, 0)\r\n",
    "let to' = (6.0, 4.0)\r\n",
    "let (arrowx, arrowy) = to'\r\n",
    "\r\n",
    "let points = Scatter(x = [arrowx], y = [arrowy], mode=\"markers\")\r\n",
    "let options = Options(annotations = seq { vecArrowFromOrigin \"blue\" to' })\r\n",
    "\r\n",
    "[points] \r\n",
    "|> Chart.Plot\r\n",
    "|> Chart.WithOptions options"
   ],
   "outputs": [],
   "metadata": {
    "dotnet_interactive": {
     "language": "fsharp"
    }
   }
  },
  {
   "cell_type": "markdown",
   "source": [
    "With a non (0, 0) origin"
   ],
   "metadata": {}
  },
  {
   "cell_type": "code",
   "execution_count": null,
   "source": [
    "#!fsharp\r\n",
    "let (origin_x, origin_y) = (10.0, 10.0)\r\n",
    "let (x, y) = (6.0, 4.0)\r\n",
    "\r\n",
    "let vecPlot = Scatter(x = [origin_x; x], y = [origin_y; y], mode = \"markers\")\r\n",
    "let options = \r\n",
    "    Options(annotations = \r\n",
    "        seq { vecArrow (origin_x, origin_y) \"red\" (x, y) })\r\n",
    "\r\n",
    "[vecPlot]\r\n",
    "|> Chart.Plot\r\n",
    "|> Chart.WithOptions options"
   ],
   "outputs": [],
   "metadata": {
    "dotnet_interactive": {
     "language": "fsharp"
    }
   }
  },
  {
   "cell_type": "markdown",
   "source": [
    "### Exercises"
   ],
   "metadata": {}
  },
  {
   "cell_type": "markdown",
   "source": [
    "#### 2.2"
   ],
   "metadata": {}
  },
  {
   "cell_type": "code",
   "execution_count": null,
   "source": [
    "#!fsharp\r\n",
    "let negLinePlot = Scatter(x = [0; 2], y = [0; -2], mode = \"markers\")\r\n",
    "let options = Options(annotations = seq { vecArrowFromOrigin \"blue\" (2.0, -2.0) })\r\n",
    "\r\n",
    "[negLinePlot]\r\n",
    "|> Chart.Plot \r\n",
    "|> Chart.WithOptions options\r\n",
    "|> Chart.WithSize (500, 500)"
   ],
   "outputs": [],
   "metadata": {
    "dotnet_interactive": {
     "language": "fsharp"
    }
   }
  },
  {
   "cell_type": "markdown",
   "source": [
    "#### 2.4"
   ],
   "metadata": {}
  },
  {
   "cell_type": "code",
   "execution_count": null,
   "source": [
    "#!fsharp\r\n",
    "\r\n",
    "let dinoX : list<double> = [6.0; 3.0; 1.0; -1.0; -2.0; -3.0; -4.0; -5.0; -5.0; -2.0; -5.0; -4.0; -2.0; -1.0;  0.0; -1.0;  1.0;  2.0;  1.0;  3.0; 5.0; 6.0]\r\n",
    "let dinoY : list<double> = [4.0; 1.0; 2.0;  5.0;  5.0;  4.0;  4.0;  3.0;  2.0;  2.0;  1.0;  0.0;  1.0;  0.0; -3.0; -4.0; -4.0; -3.0; -2.0; -1.0; 1.0; 4.0]\r\n",
    "\r\n",
    "let dinoPlot = Scatter(x = dinoX, y =  dinoY, mode = \"markers+lines\")\r\n",
    "    \r\n",
    "[dinoPlot]\r\n",
    "|> Chart.Plot\r\n",
    "|> Chart.WithWidth 700\r\n",
    "|> Chart.WithHeight 500"
   ],
   "outputs": [],
   "metadata": {
    "dotnet_interactive": {
     "language": "fsharp"
    }
   }
  },
  {
   "cell_type": "markdown",
   "source": [
    "#### 2.5"
   ],
   "metadata": {}
  },
  {
   "cell_type": "code",
   "execution_count": null,
   "source": [
    "#!fsharp\r\n",
    "\r\n",
    "let (xs, ys) = \r\n",
    "    seq { for i in -10 .. 10 -> (i, i * i) } \r\n",
    "    |> Seq.fold (fun (xs, ys) (x, y) -> (x::xs, y::ys)) ([], [])\r\n",
    "\r\n",
    "let uPlot = Scatter(x = xs, y =  ys, mode = \"markers+lines\")\r\n",
    "        \r\n",
    "[uPlot]\r\n",
    "|> Chart.Plot\r\n",
    "|> Chart.WithWidth 700\r\n",
    "|> Chart.WithHeight 500"
   ],
   "outputs": [],
   "metadata": {
    "dotnet_interactive": {
     "language": "fsharp"
    }
   }
  },
  {
   "cell_type": "markdown",
   "source": [
    "# 2.2 - Plane Vector Arithmetic"
   ],
   "metadata": {}
  },
  {
   "cell_type": "code",
   "execution_count": null,
   "source": [
    "#!fsharp\r\n",
    "(15.0, 10.0) |+| (25.0, 20.0)"
   ],
   "outputs": [],
   "metadata": {
    "dotnet_interactive": {
     "language": "fsharp"
    }
   }
  },
  {
   "cell_type": "markdown",
   "source": [
    "### Vector Math Illustration"
   ],
   "metadata": {}
  },
  {
   "cell_type": "code",
   "execution_count": null,
   "source": [
    "#!fsharp\r\n",
    "let firstVector = (5.0, 10.0)\r\n",
    "let secondVector = (8.0, 2.0)\r\n",
    "\r\n",
    "let result = firstVector |+| secondVector\r\n",
    "\r\n",
    "let (v1x, v1y) = firstVector\r\n",
    "let (v2x, v2y) = secondVector\r\n",
    "let (resultx, resulty) = result\r\n",
    "\r\n",
    "let first = Scatter(x = [0.0; v1x], y = [0.0; v1y], mode = \"markers\", marker=Marker(color=\"blue\"), name=\"first\")\r\n",
    "let second = Scatter(x = [0.0; v2x], y = [0.0; v2y], mode = \"markers\", marker=Marker(color=\"red\"), name=\"second\")\r\n",
    "let third = Scatter(x = [0.0; resultx], y = [0.0; resulty], mode = \"markers\", marker=Marker(color=\"purple\"), name=\"sum\")\r\n",
    "// let fourth = Scatter(x = [v1x; v2x], y = [v1y; v2y], mode = \"lines\")\r\n",
    "let combo = Scatter(x = [v1x; resultx], y = [v1y; resulty], mode = \"markers\", marker=Marker(color=\"red\"), name=\"second from origin\")\r\n",
    "\r\n",
    "let options = \r\n",
    "    Options(\r\n",
    "        annotations = \r\n",
    "            seq { \r\n",
    "                vecArrowFromOrigin \"blue\" (v1x, v1y); \r\n",
    "                vecArrowFromOrigin \"purple\" (resultx, resulty);\r\n",
    "                vecArrow (v1x, v1y) \"red\" (resultx, resulty);\r\n",
    "                vecArrowFromOrigin \"red\" (v2x, v2y) })\r\n",
    "\r\n",
    "[first; second; third; combo]\r\n",
    "|> Chart.Plot\r\n",
    "|> Chart.WithOptions options"
   ],
   "outputs": [],
   "metadata": {
    "dotnet_interactive": {
     "language": "fsharp"
    }
   }
  },
  {
   "cell_type": "markdown",
   "source": [
    "### Dino Vectors"
   ],
   "metadata": {}
  },
  {
   "cell_type": "code",
   "execution_count": null,
   "source": [
    "#!fsharp\r\n",
    "let dinoVectors2 = \r\n",
    "    dinoY\r\n",
    "    |> Seq.zip dinoX\r\n",
    "    |> Seq.map (fun v -> v |+| (-2.0, -3.0))\r\n",
    "\r\n",
    "let (dino2x, dino2y) = \r\n",
    "    dinoVectors2\r\n",
    "    |> Seq.fold (fun (xs, ys) (x, y) -> (x::xs, y::ys)) ([], [])\r\n"
   ],
   "outputs": [],
   "metadata": {
    "dotnet_interactive": {
     "language": "fsharp"
    }
   }
  },
  {
   "cell_type": "code",
   "execution_count": null,
   "source": [
    "#!fsharp\r\n",
    "\r\n",
    "// let plot1 = Scatter(x = dinoX, y =  dinoY, mode = \"markers+lines\")\r\n",
    "let dinoPlot2 = Scatter(x = dino2x, y = dino2y, mode = \"markers+lines\")\r\n",
    "    \r\n",
    "[dinoPlot; dinoPlot2]\r\n",
    "|> Chart.Plot\r\n",
    "|> Chart.WithWidth 700\r\n",
    "|> Chart.WithHeight 500"
   ],
   "outputs": [],
   "metadata": {
    "dotnet_interactive": {
     "language": "fsharp"
    }
   }
  },
  {
   "cell_type": "code",
   "execution_count": null,
   "source": [
    "#!fsharp\r\n",
    "let distance (v : Vector2D) : double =\r\n",
    "    let (x, y) = v\r\n",
    "    Math.Sqrt ((Math.Pow (x, 2.0)) + (Math.Pow (y, 2.0)))\r\n",
    "\r\n",
    "distance (4.0, 3.0)"
   ],
   "outputs": [],
   "metadata": {
    "dotnet_interactive": {
     "language": "fsharp"
    }
   }
  },
  {
   "cell_type": "markdown",
   "source": [
    "### 2.2.3 - Subtraciton, displacement and distance"
   ],
   "metadata": {}
  },
  {
   "cell_type": "code",
   "execution_count": null,
   "source": [
    "#!fsharp\r\n",
    "let (-) = vectorOps (-)\r\n",
    "\r\n",
    "let v = (5.0, 10.0)\r\n",
    "let w = (1.0, 2.0)\r\n",
    "\r\n",
    "v - w"
   ],
   "outputs": [],
   "metadata": {
    "dotnet_interactive": {
     "language": "fsharp"
    }
   }
  },
  {
   "cell_type": "markdown",
   "source": [
    "### 2.2.4 - Exercises"
   ],
   "metadata": {}
  },
  {
   "cell_type": "code",
   "execution_count": null,
   "source": [
    "#!fsharp\r\n",
    "let u = (-2.0, 0.0)\r\n",
    "let v = (1.5, 1.5)\r\n",
    "let w = (4.0, 1.0)"
   ],
   "outputs": [],
   "metadata": {
    "dotnet_interactive": {
     "language": "fsharp"
    }
   }
  },
  {
   "cell_type": "code",
   "execution_count": null,
   "source": [
    "#!fsharp\r\n",
    "u |+| v"
   ],
   "outputs": [],
   "metadata": {
    "dotnet_interactive": {
     "language": "fsharp"
    }
   }
  },
  {
   "cell_type": "code",
   "execution_count": null,
   "source": [
    "#!fsharp\r\n",
    "v |+| w"
   ],
   "outputs": [],
   "metadata": {
    "dotnet_interactive": {
     "language": "fsharp"
    }
   }
  },
  {
   "cell_type": "code",
   "execution_count": null,
   "source": [
    "#!fsharp\r\n",
    "u |+| w"
   ],
   "outputs": [],
   "metadata": {
    "dotnet_interactive": {
     "language": "fsharp"
    }
   }
  },
  {
   "cell_type": "code",
   "execution_count": null,
   "source": [
    "#!fsharp\r\n",
    "u |+| v |+| w"
   ],
   "outputs": [],
   "metadata": {
    "dotnet_interactive": {
     "language": "fsharp"
    }
   }
  },
  {
   "cell_type": "code",
   "execution_count": null,
   "source": [
    "#!fsharp\r\n",
    "let addVecs ns = \r\n",
    "    ns |> Seq.fold (|+|) (0.0, 0.0)"
   ],
   "outputs": [],
   "metadata": {
    "dotnet_interactive": {
     "language": "fsharp"
    }
   }
  },
  {
   "cell_type": "code",
   "execution_count": null,
   "source": [
    "#!fsharp\r\n",
    "addVecs [(-2.0, 5.0); (-3.0, 4.0); (-1.0, 1.0); (-8.0, 10.0)]"
   ],
   "outputs": [],
   "metadata": {
    "dotnet_interactive": {
     "language": "fsharp"
    }
   }
  },
  {
   "cell_type": "code",
   "execution_count": null,
   "source": [
    "#!fsharp\r\n",
    "let translate translation vecs =\r\n",
    "    vecs |> Seq.map (fun v -> v |+| translation)"
   ],
   "outputs": [],
   "metadata": {
    "dotnet_interactive": {
     "language": "fsharp"
    }
   }
  },
  {
   "cell_type": "code",
   "execution_count": null,
   "source": [
    "#!fsharp\r\n",
    "translate (1.0, 1.0) [(0.0, 0.0); (0.0, 1.0); (-3.0, -3.0)]"
   ],
   "outputs": [],
   "metadata": {
    "dotnet_interactive": {
     "language": "fsharp"
    }
   }
  },
  {
   "cell_type": "markdown",
   "source": [
    "Vector addition is commutative"
   ],
   "metadata": {}
  },
  {
   "cell_type": "code",
   "execution_count": null,
   "source": [
    "#!fsharp\r\n",
    "let uu = (2.0, 1.0)\r\n",
    "let vv = (3.0, 4.0)\r\n",
    "let (ux, uy) = uu\r\n",
    "let (vx, vy) = vv\r\n",
    "let (resx, resy) = uu |+| vv\r\n",
    "let (oresx, oresy) = vv |+| uu\r\n",
    "\r\n",
    "let commScatter1 = Scatter(x = [0.0; ux], y = [0.0; uy], mode = \"markers\")\r\n",
    "let commScatter2 = Scatter(x = [ux; resx], y = [uy; resy], mode = \"markers\")\r\n",
    "\r\n",
    "let commScatter3 = Scatter(x = [0.0; vx], y = [0.0; vy], mode = \"markers\")\r\n",
    "let commScatter4 = Scatter(x = [vx; resx], y = [vy; resy], mode = \"markers\")\r\n",
    "\r\n",
    "let commResultScatter = Scatter(x = [0.0; resx], y = [0.0; resy], mode = \"markers\")\r\n",
    "\r\n",
    "let options =\r\n",
    "    Options(\r\n",
    "        annotations =\r\n",
    "            seq {\r\n",
    "                vecArrowFromOrigin \"red\" (ux, uy);\r\n",
    "                vecArrowFromOrigin \"blue\" (vx, vy);\r\n",
    "                vecArrowFromOrigin \"purple\" (resx, resy);\r\n",
    "                vecArrow (ux, uy) \"blue\" (resx, resy);\r\n",
    "                vecArrow (vx, vy) \"red\" (resx, resy);\r\n",
    "            })\r\n",
    "\r\n",
    "[commScatter1; commScatter2; commScatter3; commScatter4; commResultScatter]\r\n",
    "|> Chart.Plot\r\n",
    "|> Chart.WithOptions options"
   ],
   "outputs": [],
   "metadata": {
    "dotnet_interactive": {
     "language": "fsharp"
    }
   }
  },
  {
   "cell_type": "code",
   "execution_count": null,
   "source": [
    "#!fsharp\r\n",
    "let vectorsToScatterLists vecs =\r\n",
    "    vecs |> Seq.fold (fun (xs, ys) (x, y) -> (x::xs, y::ys)) ([], [])"
   ],
   "outputs": [],
   "metadata": {
    "dotnet_interactive": {
     "language": "fsharp"
    }
   }
  },
  {
   "cell_type": "code",
   "execution_count": null,
   "source": [
    "#!fsharp\r\n",
    "let scatterListsToVectors xs ys =\r\n",
    "    Seq.zip xs ys"
   ],
   "outputs": [],
   "metadata": {
    "dotnet_interactive": {
     "language": "fsharp"
    }
   }
  },
  {
   "cell_type": "code",
   "execution_count": null,
   "source": [
    "#!fsharp\r\n",
    "scatterListsToVectors dinoX dinoY"
   ],
   "outputs": [],
   "metadata": {
    "dotnet_interactive": {
     "language": "fsharp"
    }
   }
  },
  {
   "cell_type": "markdown",
   "source": [
    "Components and Lengths of (-6.0, -6.0) and (5.0, -12.0)?\n",
    "\n",
    "(-6.0, 0.0) and (0.0, -6.0) both length 6\n",
    "\n",
    "(5.0, 0.0) and (0.0, -12.0) length 5 and 12 respectively"
   ],
   "metadata": {}
  },
  {
   "cell_type": "code",
   "execution_count": null,
   "source": [
    "#!fsharp\r\n",
    "let ff = (-6.0, -6.0)\r\n",
    "let gg = (5.0, -12.0)\r\n",
    "\r\n",
    "// length of the vectors\r\n",
    "(distance ff, distance gg)"
   ],
   "outputs": [],
   "metadata": {
    "dotnet_interactive": {
     "language": "fsharp"
    }
   }
  },
  {
   "cell_type": "markdown",
   "source": [
    "What vector in `dino_vectors` has the longest length?"
   ],
   "metadata": {}
  },
  {
   "cell_type": "code",
   "execution_count": null,
   "source": [
    "#!fsharp\r\n",
    "(scatterListsToVectors dinoX dinoY)\r\n",
    "|> Seq.maxBy distance"
   ],
   "outputs": [],
   "metadata": {
    "dotnet_interactive": {
     "language": "fsharp"
    }
   }
  },
  {
   "cell_type": "markdown",
   "source": [
    "show that scaling a vector (a, b) by s also scales the length of the vector by s\n",
    "\n",
    "sqrt (sa)^2 + (sb)^2  \n",
    "sqrt (s^2)(a^2) + (s^2)(b^2) \n",
    "sqrt (s^2)(a^2 + b^2)\n",
    "|s| sqrt (a^2 + b^2)\n",
    "|s| c"
   ],
   "metadata": {}
  }
 ],
 "metadata": {
  "kernelspec": {
   "display_name": ".NET (C#)",
   "language": "C#",
   "name": ".net-csharp"
  },
  "language_info": {
   "file_extension": ".cs",
   "mimetype": "text/x-csharp",
   "name": "C#",
   "pygments_lexer": "csharp",
   "version": "8.0"
  }
 },
 "nbformat": 4,
 "nbformat_minor": 4
}