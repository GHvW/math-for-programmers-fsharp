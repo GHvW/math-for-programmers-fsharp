{
 "cells": [
  {
   "cell_type": "markdown",
   "source": [
    "# Chapter 2: Drawing with 2D Vectors"
   ],
   "metadata": {}
  },
  {
   "cell_type": "markdown",
   "source": [
    "## 2.1 - Picturing 2D Vectors"
   ],
   "metadata": {}
  },
  {
   "cell_type": "code",
   "execution_count": null,
   "source": [
    "#!fsharp\r\n",
    "// #!lsmagic"
   ],
   "outputs": [],
   "metadata": {
    "dotnet_interactive": {
     "language": "fsharp"
    }
   }
  },
  {
   "cell_type": "code",
   "execution_count": null,
   "source": [
    "#!fsharp\r\n",
    "#r \"nuget: XPlot.Plotly.Interactive, 4.0.3\"\r\n",
    "\r\n",
    "open XPlot.Plotly\r\n"
   ],
   "outputs": [
    {
     "data": {
      "text/html": [
       "<div><div></div><div></div><div><strong>Installed Packages</strong><ul><li><span>XPlot.Plotly.Interactive, 4.0.3</span></li></ul></div></div>"
      ]
     },
     "metadata": {},
     "output_type": "display_data"
    },
    {
     "data": {
      "text/markdown": [
       "Loading extensions from `XPlot.Plotly.Interactive.dll`"
      ]
     },
     "metadata": {},
     "output_type": "display_data"
    },
    {
     "data": {
      "text/markdown": [
       "Configuring PowerShell Kernel for XPlot.Plotly integration."
      ]
     },
     "metadata": {},
     "output_type": "display_data"
    },
    {
     "data": {
      "text/markdown": [
       "Installed support for XPlot.Plotly."
      ]
     },
     "metadata": {},
     "output_type": "display_data"
    }
   ],
   "metadata": {
    "dotnet_interactive": {
     "language": "fsharp"
    }
   }
  },
  {
   "cell_type": "code",
   "execution_count": null,
   "source": [
    "#!fsharp\r\n",
    "// not necessary but fun\r\n",
    "type Vector2D = double * double\r\n",
    "\r\n",
    "let vectorScalarOps (op : double -> double -> double) (n : double) (s : Vector2D) : Vector2D =\r\n",
    "    match s with\r\n",
    "    | (x, y) -> (op n x, op n y)\r\n",
    "\r\n",
    "let vectorOps (op : double -> double -> double) (f : Vector2D) (s : Vector2D) : Vector2D = \r\n",
    "    match (f, s) with\r\n",
    "    | ((x, y), (x', y')) -> (op x x', op y y')\r\n",
    "\r\n",
    "let (|+|) = vectorOps (+)\r\n",
    "\r\n",
    "let (-*-) = vectorScalarOps (*)\r\n"
   ],
   "outputs": [],
   "metadata": {
    "dotnet_interactive": {
     "language": "fsharp"
    }
   }
  },
  {
   "cell_type": "code",
   "execution_count": null,
   "source": [
    "let vecArrow (originx: double, originy: double) color (x: double, y: double) =\r\n",
    "    Annotation(showarrow=true, arrowcolor = color, x = x, y = y, axref=\"x\", ayref=\"y\", ax=originx, ay=originy)\r\n",
    "\r\n",
    "let vecArrowFromOrigin : string -> double * double -> Annotation = vecArrow (0.0, 0.0)"
   ],
   "outputs": [],
   "metadata": {
    "dotnet_interactive": {
     "language": "fsharp"
    }
   }
  },
  {
   "cell_type": "code",
   "execution_count": null,
   "source": [
    "#!fsharp\r\n",
    "let from = (0, 0)\r\n",
    "let to' = (6.0, 4.0)\r\n",
    "let (arrowx, arrowy) = to'\r\n",
    "\r\n",
    "let points = Scatter(x = [arrowx], y = [arrowy], mode=\"markers\")\r\n",
    "let options = Options(annotations = seq { vecArrowFromOrigin \"blue\" to' })\r\n",
    "\r\n",
    "[points] \r\n",
    "|> Chart.Plot\r\n",
    "|> Chart.WithOptions options"
   ],
   "outputs": [
    {
     "data": {
      "text/html": [
       "<!DOCTYPE html>\r\n",
       "<div style=\"width: 900px; height: 500px;\" id=\"4221a569-daee-43d4-a0fe-b1fc749bc6d2\"></div><script type=\"text/javascript\">\r\n",
       "\n",
       "var renderPlotly = function() {\n",
       "    var xplotRequire = require.config({context:'xplot-3.0.1',paths:{plotly:'https://cdn.plot.ly/plotly-1.49.2.min'}}) || require;\n",
       "    xplotRequire(['plotly'], function(Plotly) { \r\n",
       "\n",
       "            var data = [{\"type\":\"scatter\",\"x\":[6.0],\"y\":[4.0],\"mode\":\"markers\"}];\n",
       "           var layout = {\"annotations\":[{\"showarrow\":true,\"arrowcolor\":\"blue\",\"axref\":\"x\",\"ax\":0.0,\"ayref\":\"y\",\"ay\":0.0,\"x\":6.0,\"y\":4.0}]};\n",
       "           Plotly.newPlot('4221a569-daee-43d4-a0fe-b1fc749bc6d2', data, layout);\n",
       "        \r\n",
       "});\n",
       "};\r\n",
       "// ensure `require` is available globally\r\n",
       "if ((typeof(require) !==  typeof(Function)) || (typeof(require.config) !== typeof(Function))) {\r\n",
       "    let require_script = document.createElement('script');\r\n",
       "    require_script.setAttribute('src', 'https://cdnjs.cloudflare.com/ajax/libs/require.js/2.3.6/require.min.js');\r\n",
       "    require_script.setAttribute('type', 'text/javascript');\r\n",
       "    \r\n",
       "    \r\n",
       "    require_script.onload = function() {\r\n",
       "        renderPlotly();\r\n",
       "    };\r\n",
       "\r\n",
       "    document.getElementsByTagName('head')[0].appendChild(require_script);\r\n",
       "}\r\n",
       "else {\r\n",
       "    renderPlotly();\r\n",
       "}\r\n",
       "\r\n",
       "</script>\r\n"
      ]
     },
     "metadata": {},
     "output_type": "display_data"
    }
   ],
   "metadata": {
    "dotnet_interactive": {
     "language": "fsharp"
    }
   }
  },
  {
   "cell_type": "markdown",
   "source": [
    "With a non (0, 0) origin"
   ],
   "metadata": {}
  },
  {
   "cell_type": "code",
   "execution_count": null,
   "source": [
    "#!fsharp\r\n",
    "let (origin_x, origin_y) = (10.0, 10.0)\r\n",
    "let (x, y) = (6.0, 4.0)\r\n",
    "\r\n",
    "let vecPlot = Scatter(x = [origin_x; x], y = [origin_y; y], mode = \"markers\")\r\n",
    "let options = \r\n",
    "    Options(annotations = \r\n",
    "        seq { vecArrow (origin_x, origin_y) \"red\" (x, y) })\r\n",
    "\r\n",
    "[vecPlot]\r\n",
    "|> Chart.Plot\r\n",
    "|> Chart.WithOptions options"
   ],
   "outputs": [
    {
     "data": {
      "text/html": [
       "<!DOCTYPE html>\r\n",
       "<div style=\"width: 900px; height: 500px;\" id=\"59376b2f-f810-4830-b132-55f3191b226e\"></div><script type=\"text/javascript\">\r\n",
       "\n",
       "var renderPlotly = function() {\n",
       "    var xplotRequire = require.config({context:'xplot-3.0.1',paths:{plotly:'https://cdn.plot.ly/plotly-1.49.2.min'}}) || require;\n",
       "    xplotRequire(['plotly'], function(Plotly) { \r\n",
       "\n",
       "            var data = [{\"type\":\"scatter\",\"x\":[10.0,6.0],\"y\":[10.0,4.0],\"mode\":\"markers\"}];\n",
       "           var layout = {\"annotations\":[{\"showarrow\":true,\"arrowcolor\":\"red\",\"axref\":\"x\",\"ax\":10.0,\"ayref\":\"y\",\"ay\":10.0,\"x\":6.0,\"y\":4.0}]};\n",
       "           Plotly.newPlot('59376b2f-f810-4830-b132-55f3191b226e', data, layout);\n",
       "        \r\n",
       "});\n",
       "};\r\n",
       "// ensure `require` is available globally\r\n",
       "if ((typeof(require) !==  typeof(Function)) || (typeof(require.config) !== typeof(Function))) {\r\n",
       "    let require_script = document.createElement('script');\r\n",
       "    require_script.setAttribute('src', 'https://cdnjs.cloudflare.com/ajax/libs/require.js/2.3.6/require.min.js');\r\n",
       "    require_script.setAttribute('type', 'text/javascript');\r\n",
       "    \r\n",
       "    \r\n",
       "    require_script.onload = function() {\r\n",
       "        renderPlotly();\r\n",
       "    };\r\n",
       "\r\n",
       "    document.getElementsByTagName('head')[0].appendChild(require_script);\r\n",
       "}\r\n",
       "else {\r\n",
       "    renderPlotly();\r\n",
       "}\r\n",
       "\r\n",
       "</script>\r\n"
      ]
     },
     "metadata": {},
     "output_type": "display_data"
    }
   ],
   "metadata": {
    "dotnet_interactive": {
     "language": "fsharp"
    }
   }
  },
  {
   "cell_type": "markdown",
   "source": [
    "### Exercises"
   ],
   "metadata": {}
  },
  {
   "cell_type": "markdown",
   "source": [
    "#### 2.2"
   ],
   "metadata": {}
  },
  {
   "cell_type": "code",
   "execution_count": null,
   "source": [
    "#!fsharp\r\n",
    "let negLinePlot = Scatter(x = [0; 2], y = [0; -2], mode = \"markers\")\r\n",
    "let options = Options(annotations = seq { vecArrowFromOrigin \"blue\" (2.0, -2.0) })\r\n",
    "\r\n",
    "[negLinePlot]\r\n",
    "|> Chart.Plot \r\n",
    "|> Chart.WithOptions options\r\n",
    "|> Chart.WithSize (500, 500)"
   ],
   "outputs": [
    {
     "data": {
      "text/html": [
       "<!DOCTYPE html>\r\n",
       "<div style=\"width: 500px; height: 500px;\" id=\"2bc418e8-0d4e-4586-905b-c2f615fadb0c\"></div><script type=\"text/javascript\">\r\n",
       "\n",
       "var renderPlotly = function() {\n",
       "    var xplotRequire = require.config({context:'xplot-3.0.1',paths:{plotly:'https://cdn.plot.ly/plotly-1.49.2.min'}}) || require;\n",
       "    xplotRequire(['plotly'], function(Plotly) { \r\n",
       "\n",
       "            var data = [{\"type\":\"scatter\",\"x\":[0,2],\"y\":[0,-2],\"mode\":\"markers\"}];\n",
       "           var layout = {\"annotations\":[{\"showarrow\":true,\"arrowcolor\":\"blue\",\"axref\":\"x\",\"ax\":0.0,\"ayref\":\"y\",\"ay\":0.0,\"x\":2.0,\"y\":-2.0}]};\n",
       "           Plotly.newPlot('2bc418e8-0d4e-4586-905b-c2f615fadb0c', data, layout);\n",
       "        \r\n",
       "});\n",
       "};\r\n",
       "// ensure `require` is available globally\r\n",
       "if ((typeof(require) !==  typeof(Function)) || (typeof(require.config) !== typeof(Function))) {\r\n",
       "    let require_script = document.createElement('script');\r\n",
       "    require_script.setAttribute('src', 'https://cdnjs.cloudflare.com/ajax/libs/require.js/2.3.6/require.min.js');\r\n",
       "    require_script.setAttribute('type', 'text/javascript');\r\n",
       "    \r\n",
       "    \r\n",
       "    require_script.onload = function() {\r\n",
       "        renderPlotly();\r\n",
       "    };\r\n",
       "\r\n",
       "    document.getElementsByTagName('head')[0].appendChild(require_script);\r\n",
       "}\r\n",
       "else {\r\n",
       "    renderPlotly();\r\n",
       "}\r\n",
       "\r\n",
       "</script>\r\n"
      ]
     },
     "metadata": {},
     "output_type": "display_data"
    }
   ],
   "metadata": {
    "dotnet_interactive": {
     "language": "fsharp"
    }
   }
  },
  {
   "cell_type": "markdown",
   "source": [
    "#### 2.4"
   ],
   "metadata": {}
  },
  {
   "cell_type": "code",
   "execution_count": null,
   "source": [
    "#!fsharp\r\n",
    "\r\n",
    "let dinoX : list<double> = [6.0; 3.0; 1.0; -1.0; -2.0; -3.0; -4.0; -5.0; -5.0; -2.0; -5.0; -4.0; -2.0; -1.0;  0.0; -1.0;  1.0;  2.0;  1.0;  3.0; 5.0; 6.0]\r\n",
    "let dinoY : list<double> = [4.0; 1.0; 2.0;  5.0;  5.0;  4.0;  4.0;  3.0;  2.0;  2.0;  1.0;  0.0;  1.0;  0.0; -3.0; -4.0; -4.0; -3.0; -2.0; -1.0; 1.0; 4.0]\r\n",
    "\r\n",
    "let dinoPlot = Scatter(x = dinoX, y =  dinoY, mode = \"markers+lines\")\r\n",
    "    \r\n",
    "[dinoPlot]\r\n",
    "|> Chart.Plot\r\n",
    "|> Chart.WithWidth 700\r\n",
    "|> Chart.WithHeight 500"
   ],
   "outputs": [
    {
     "data": {
      "text/html": [
       "<!DOCTYPE html>\r\n",
       "<div style=\"width: 700px; height: 500px;\" id=\"1a729e49-f002-4b8a-bdae-f9ec8b707c7a\"></div><script type=\"text/javascript\">\r\n",
       "\n",
       "var renderPlotly = function() {\n",
       "    var xplotRequire = require.config({context:'xplot-3.0.1',paths:{plotly:'https://cdn.plot.ly/plotly-1.49.2.min'}}) || require;\n",
       "    xplotRequire(['plotly'], function(Plotly) { \r\n",
       "\n",
       "            var data = [{\"type\":\"scatter\",\"x\":[6.0,3.0,1.0,-1.0,-2.0,-3.0,-4.0,-5.0,-5.0,-2.0,-5.0,-4.0,-2.0,-1.0,0.0,-1.0,1.0,2.0,1.0,3.0,5.0,6.0],\"y\":[4.0,1.0,2.0,5.0,5.0,4.0,4.0,3.0,2.0,2.0,1.0,0.0,1.0,0.0,-3.0,-4.0,-4.0,-3.0,-2.0,-1.0,1.0,4.0],\"mode\":\"markers+lines\"}];\n",
       "           var layout = \"\";\n",
       "           Plotly.newPlot('1a729e49-f002-4b8a-bdae-f9ec8b707c7a', data, layout);\n",
       "        \r\n",
       "});\n",
       "};\r\n",
       "// ensure `require` is available globally\r\n",
       "if ((typeof(require) !==  typeof(Function)) || (typeof(require.config) !== typeof(Function))) {\r\n",
       "    let require_script = document.createElement('script');\r\n",
       "    require_script.setAttribute('src', 'https://cdnjs.cloudflare.com/ajax/libs/require.js/2.3.6/require.min.js');\r\n",
       "    require_script.setAttribute('type', 'text/javascript');\r\n",
       "    \r\n",
       "    \r\n",
       "    require_script.onload = function() {\r\n",
       "        renderPlotly();\r\n",
       "    };\r\n",
       "\r\n",
       "    document.getElementsByTagName('head')[0].appendChild(require_script);\r\n",
       "}\r\n",
       "else {\r\n",
       "    renderPlotly();\r\n",
       "}\r\n",
       "\r\n",
       "</script>\r\n"
      ]
     },
     "metadata": {},
     "output_type": "display_data"
    }
   ],
   "metadata": {
    "dotnet_interactive": {
     "language": "fsharp"
    }
   }
  },
  {
   "cell_type": "markdown",
   "source": [
    "#### 2.5"
   ],
   "metadata": {}
  },
  {
   "cell_type": "code",
   "execution_count": null,
   "source": [
    "#!fsharp\r\n",
    "\r\n",
    "let (xs, ys) = \r\n",
    "    seq { for i in -10.0 .. 10.0 -> (i, i * i) } \r\n",
    "    |> Seq.fold (fun (xs, ys) (x, y) -> (x::xs, y::ys)) ([], [])\r\n",
    "\r\n",
    "let uPlot = Scatter(x = xs, y =  ys, mode = \"markers+lines\")\r\n",
    "        \r\n",
    "[uPlot]\r\n",
    "|> Chart.Plot\r\n",
    "|> Chart.WithWidth 700\r\n",
    "|> Chart.WithHeight 500"
   ],
   "outputs": [
    {
     "data": {
      "text/html": [
       "<!DOCTYPE html>\r\n",
       "<div style=\"width: 700px; height: 500px;\" id=\"01653324-e85d-4ea6-b02d-ae66a0c549a0\"></div><script type=\"text/javascript\">\r\n",
       "\n",
       "var renderPlotly = function() {\n",
       "    var xplotRequire = require.config({context:'xplot-3.0.1',paths:{plotly:'https://cdn.plot.ly/plotly-1.49.2.min'}}) || require;\n",
       "    xplotRequire(['plotly'], function(Plotly) { \r\n",
       "\n",
       "            var data = [{\"type\":\"scatter\",\"x\":[10.0,9.0,8.0,7.0,6.0,5.0,4.0,3.0,2.0,1.0,0.0,-1.0,-2.0,-3.0,-4.0,-5.0,-6.0,-7.0,-8.0,-9.0,-10.0],\"y\":[100.0,81.0,64.0,49.0,36.0,25.0,16.0,9.0,4.0,1.0,0.0,1.0,4.0,9.0,16.0,25.0,36.0,49.0,64.0,81.0,100.0],\"mode\":\"markers+lines\"}];\n",
       "           var layout = \"\";\n",
       "           Plotly.newPlot('01653324-e85d-4ea6-b02d-ae66a0c549a0', data, layout);\n",
       "        \r\n",
       "});\n",
       "};\r\n",
       "// ensure `require` is available globally\r\n",
       "if ((typeof(require) !==  typeof(Function)) || (typeof(require.config) !== typeof(Function))) {\r\n",
       "    let require_script = document.createElement('script');\r\n",
       "    require_script.setAttribute('src', 'https://cdnjs.cloudflare.com/ajax/libs/require.js/2.3.6/require.min.js');\r\n",
       "    require_script.setAttribute('type', 'text/javascript');\r\n",
       "    \r\n",
       "    \r\n",
       "    require_script.onload = function() {\r\n",
       "        renderPlotly();\r\n",
       "    };\r\n",
       "\r\n",
       "    document.getElementsByTagName('head')[0].appendChild(require_script);\r\n",
       "}\r\n",
       "else {\r\n",
       "    renderPlotly();\r\n",
       "}\r\n",
       "\r\n",
       "</script>\r\n"
      ]
     },
     "metadata": {},
     "output_type": "display_data"
    }
   ],
   "metadata": {
    "dotnet_interactive": {
     "language": "fsharp"
    }
   }
  },
  {
   "cell_type": "markdown",
   "source": [
    "# 2.2 - Plane Vector Arithmetic"
   ],
   "metadata": {}
  },
  {
   "cell_type": "code",
   "execution_count": null,
   "source": [
    "#!fsharp\r\n",
    "(15.0, 10.0) |+| (25.0, 20.0)"
   ],
   "outputs": [
    {
     "data": {
      "text/html": [
       "<table><thead><tr><th>Item1</th><th>Item2</th></tr></thead><tbody><tr><td><div class=\"dni-plaintext\">40</div></td><td><div class=\"dni-plaintext\">30</div></td></tr></tbody></table>"
      ]
     },
     "metadata": {},
     "output_type": "display_data"
    }
   ],
   "metadata": {
    "dotnet_interactive": {
     "language": "fsharp"
    }
   }
  },
  {
   "cell_type": "markdown",
   "source": [
    "### Vector Math Illustration"
   ],
   "metadata": {}
  },
  {
   "cell_type": "code",
   "execution_count": null,
   "source": [
    "#!fsharp\r\n",
    "let firstVector = (5.0, 10.0)\r\n",
    "let secondVector = (8.0, 2.0)\r\n",
    "\r\n",
    "let result = firstVector |+| secondVector\r\n",
    "\r\n",
    "let (v1x, v1y) = firstVector\r\n",
    "let (v2x, v2y) = secondVector\r\n",
    "let (resultx, resulty) = result\r\n",
    "\r\n",
    "let first = Scatter(x = [0.0; v1x], y = [0.0; v1y], mode = \"markers\", marker=Marker(color=\"blue\"), name=\"first\")\r\n",
    "let second = Scatter(x = [0.0; v2x], y = [0.0; v2y], mode = \"markers\", marker=Marker(color=\"red\"), name=\"second\")\r\n",
    "let third = Scatter(x = [0.0; resultx], y = [0.0; resulty], mode = \"markers\", marker=Marker(color=\"purple\"), name=\"sum\")\r\n",
    "// let fourth = Scatter(x = [v1x; v2x], y = [v1y; v2y], mode = \"lines\")\r\n",
    "let combo = Scatter(x = [v1x; resultx], y = [v1y; resulty], mode = \"markers\", marker=Marker(color=\"red\"), name=\"second from origin\")\r\n",
    "\r\n",
    "let options = \r\n",
    "    Options(\r\n",
    "        annotations = \r\n",
    "            seq { \r\n",
    "                vecArrowFromOrigin \"blue\" (v1x, v1y); \r\n",
    "                vecArrowFromOrigin \"purple\" (resultx, resulty);\r\n",
    "                vecArrow (v1x, v1y) \"red\" (resultx, resulty);\r\n",
    "                vecArrowFromOrigin \"red\" (v2x, v2y) })\r\n",
    "\r\n",
    "[first; second; third; combo]\r\n",
    "|> Chart.Plot\r\n",
    "|> Chart.WithOptions options"
   ],
   "outputs": [
    {
     "data": {
      "text/html": [
       "<!DOCTYPE html>\r\n",
       "<div style=\"width: 900px; height: 500px;\" id=\"93a7c94d-83b9-477a-b8bb-a0985d8c24a8\"></div><script type=\"text/javascript\">\r\n",
       "\n",
       "var renderPlotly = function() {\n",
       "    var xplotRequire = require.config({context:'xplot-3.0.1',paths:{plotly:'https://cdn.plot.ly/plotly-1.49.2.min'}}) || require;\n",
       "    xplotRequire(['plotly'], function(Plotly) { \r\n",
       "\n",
       "            var data = [{\"type\":\"scatter\",\"x\":[0.0,5.0],\"y\":[0.0,10.0],\"mode\":\"markers\",\"marker\":{\"color\":\"blue\"},\"name\":\"first\"},{\"type\":\"scatter\",\"x\":[0.0,8.0],\"y\":[0.0,2.0],\"mode\":\"markers\",\"marker\":{\"color\":\"red\"},\"name\":\"second\"},{\"type\":\"scatter\",\"x\":[0.0,13.0],\"y\":[0.0,12.0],\"mode\":\"markers\",\"marker\":{\"color\":\"purple\"},\"name\":\"sum\"},{\"type\":\"scatter\",\"x\":[5.0,13.0],\"y\":[10.0,12.0],\"mode\":\"markers\",\"marker\":{\"color\":\"red\"},\"name\":\"second from origin\"}];\n",
       "           var layout = {\"annotations\":[{\"showarrow\":true,\"arrowcolor\":\"blue\",\"axref\":\"x\",\"ax\":0.0,\"ayref\":\"y\",\"ay\":0.0,\"x\":5.0,\"y\":10.0},{\"showarrow\":true,\"arrowcolor\":\"purple\",\"axref\":\"x\",\"ax\":0.0,\"ayref\":\"y\",\"ay\":0.0,\"x\":13.0,\"y\":12.0},{\"showarrow\":true,\"arrowcolor\":\"red\",\"axref\":\"x\",\"ax\":5.0,\"ayref\":\"y\",\"ay\":10.0,\"x\":13.0,\"y\":12.0},{\"showarrow\":true,\"arrowcolor\":\"red\",\"axref\":\"x\",\"ax\":0.0,\"ayref\":\"y\",\"ay\":0.0,\"x\":8.0,\"y\":2.0}]};\n",
       "           Plotly.newPlot('93a7c94d-83b9-477a-b8bb-a0985d8c24a8', data, layout);\n",
       "        \r\n",
       "});\n",
       "};\r\n",
       "// ensure `require` is available globally\r\n",
       "if ((typeof(require) !==  typeof(Function)) || (typeof(require.config) !== typeof(Function))) {\r\n",
       "    let require_script = document.createElement('script');\r\n",
       "    require_script.setAttribute('src', 'https://cdnjs.cloudflare.com/ajax/libs/require.js/2.3.6/require.min.js');\r\n",
       "    require_script.setAttribute('type', 'text/javascript');\r\n",
       "    \r\n",
       "    \r\n",
       "    require_script.onload = function() {\r\n",
       "        renderPlotly();\r\n",
       "    };\r\n",
       "\r\n",
       "    document.getElementsByTagName('head')[0].appendChild(require_script);\r\n",
       "}\r\n",
       "else {\r\n",
       "    renderPlotly();\r\n",
       "}\r\n",
       "\r\n",
       "</script>\r\n"
      ]
     },
     "metadata": {},
     "output_type": "display_data"
    }
   ],
   "metadata": {
    "dotnet_interactive": {
     "language": "fsharp"
    }
   }
  },
  {
   "cell_type": "markdown",
   "source": [
    "### Dino Vectors"
   ],
   "metadata": {}
  },
  {
   "cell_type": "code",
   "execution_count": null,
   "source": [
    "#!fsharp\r\n",
    "let dinoVectors2 = \r\n",
    "    dinoY\r\n",
    "    |> Seq.zip dinoX\r\n",
    "    |> Seq.map (fun v -> v |+| (-2.0, -3.0))\r\n",
    "\r\n",
    "let (dino2x, dino2y) = \r\n",
    "    dinoVectors2\r\n",
    "    |> Seq.fold (fun (xs, ys) (x, y) -> (x::xs, y::ys)) ([], [])\r\n"
   ],
   "outputs": [],
   "metadata": {
    "dotnet_interactive": {
     "language": "fsharp"
    }
   }
  },
  {
   "cell_type": "code",
   "execution_count": null,
   "source": [
    "#!fsharp\r\n",
    "\r\n",
    "// let plot1 = Scatter(x = dinoX, y =  dinoY, mode = \"markers+lines\")\r\n",
    "let dinoPlot2 = Scatter(x = dino2x, y = dino2y, mode = \"markers+lines\")\r\n",
    "    \r\n",
    "[dinoPlot; dinoPlot2]\r\n",
    "|> Chart.Plot\r\n",
    "|> Chart.WithWidth 700\r\n",
    "|> Chart.WithHeight 500"
   ],
   "outputs": [
    {
     "data": {
      "text/html": [
       "<!DOCTYPE html>\r\n",
       "<div style=\"width: 700px; height: 500px;\" id=\"3c09f1a1-d3b6-45f2-b132-5b135b37c11e\"></div><script type=\"text/javascript\">\r\n",
       "\n",
       "var renderPlotly = function() {\n",
       "    var xplotRequire = require.config({context:'xplot-3.0.1',paths:{plotly:'https://cdn.plot.ly/plotly-1.49.2.min'}}) || require;\n",
       "    xplotRequire(['plotly'], function(Plotly) { \r\n",
       "\n",
       "            var data = [{\"type\":\"scatter\",\"x\":[6.0,3.0,1.0,-1.0,-2.0,-3.0,-4.0,-5.0,-5.0,-2.0,-5.0,-4.0,-2.0,-1.0,0.0,-1.0,1.0,2.0,1.0,3.0,5.0,6.0],\"y\":[4.0,1.0,2.0,5.0,5.0,4.0,4.0,3.0,2.0,2.0,1.0,0.0,1.0,0.0,-3.0,-4.0,-4.0,-3.0,-2.0,-1.0,1.0,4.0],\"mode\":\"markers+lines\"},{\"type\":\"scatter\",\"x\":[4.0,3.0,1.0,-1.0,0.0,-1.0,-3.0,-2.0,-3.0,-4.0,-6.0,-7.0,-4.0,-7.0,-7.0,-6.0,-5.0,-4.0,-3.0,-1.0,1.0,4.0],\"y\":[1.0,-2.0,-4.0,-5.0,-6.0,-7.0,-7.0,-6.0,-3.0,-2.0,-3.0,-2.0,-1.0,-1.0,0.0,1.0,1.0,2.0,2.0,-1.0,-2.0,1.0],\"mode\":\"markers+lines\"}];\n",
       "           var layout = \"\";\n",
       "           Plotly.newPlot('3c09f1a1-d3b6-45f2-b132-5b135b37c11e', data, layout);\n",
       "        \r\n",
       "});\n",
       "};\r\n",
       "// ensure `require` is available globally\r\n",
       "if ((typeof(require) !==  typeof(Function)) || (typeof(require.config) !== typeof(Function))) {\r\n",
       "    let require_script = document.createElement('script');\r\n",
       "    require_script.setAttribute('src', 'https://cdnjs.cloudflare.com/ajax/libs/require.js/2.3.6/require.min.js');\r\n",
       "    require_script.setAttribute('type', 'text/javascript');\r\n",
       "    \r\n",
       "    \r\n",
       "    require_script.onload = function() {\r\n",
       "        renderPlotly();\r\n",
       "    };\r\n",
       "\r\n",
       "    document.getElementsByTagName('head')[0].appendChild(require_script);\r\n",
       "}\r\n",
       "else {\r\n",
       "    renderPlotly();\r\n",
       "}\r\n",
       "\r\n",
       "</script>\r\n"
      ]
     },
     "metadata": {},
     "output_type": "display_data"
    }
   ],
   "metadata": {
    "dotnet_interactive": {
     "language": "fsharp"
    }
   }
  },
  {
   "cell_type": "code",
   "execution_count": null,
   "source": [
    "#!fsharp\r\n",
    "let distance (v : Vector2D) : double =\r\n",
    "    let (x, y) = v\r\n",
    "    Math.Sqrt ((Math.Pow (x, 2.0)) + (Math.Pow (y, 2.0)))\r\n",
    "\r\n",
    "distance (4.0, 3.0)"
   ],
   "outputs": [
    {
     "data": {
      "text/html": [
       "<div class=\"dni-plaintext\">5</div>"
      ]
     },
     "metadata": {},
     "output_type": "display_data"
    }
   ],
   "metadata": {
    "dotnet_interactive": {
     "language": "fsharp"
    }
   }
  },
  {
   "cell_type": "markdown",
   "source": [
    "### 2.2.3 - Subtraciton, displacement and distance"
   ],
   "metadata": {}
  },
  {
   "cell_type": "code",
   "execution_count": null,
   "source": [
    "#!fsharp\r\n",
    "let (|-|) = vectorOps (-)\r\n",
    "\r\n",
    "let v = (5.0, 10.0)\r\n",
    "let w = (1.0, 2.0)\r\n",
    "\r\n",
    "v |-| w"
   ],
   "outputs": [
    {
     "data": {
      "text/html": [
       "<table><thead><tr><th>Item1</th><th>Item2</th></tr></thead><tbody><tr><td><div class=\"dni-plaintext\">4</div></td><td><div class=\"dni-plaintext\">8</div></td></tr></tbody></table>"
      ]
     },
     "metadata": {},
     "output_type": "display_data"
    }
   ],
   "metadata": {
    "dotnet_interactive": {
     "language": "fsharp"
    }
   }
  },
  {
   "cell_type": "markdown",
   "source": [
    "### 2.2.4 - Exercises"
   ],
   "metadata": {}
  },
  {
   "cell_type": "code",
   "execution_count": null,
   "source": [
    "#!fsharp\r\n",
    "let u = (-2.0, 0.0)\r\n",
    "let v = (1.5, 1.5)\r\n",
    "let w = (4.0, 1.0)"
   ],
   "outputs": [],
   "metadata": {
    "dotnet_interactive": {
     "language": "fsharp"
    }
   }
  },
  {
   "cell_type": "code",
   "execution_count": null,
   "source": [
    "#!fsharp\r\n",
    "u |+| v"
   ],
   "outputs": [
    {
     "data": {
      "text/html": [
       "<table><thead><tr><th>Item1</th><th>Item2</th></tr></thead><tbody><tr><td><div class=\"dni-plaintext\">-0.5</div></td><td><div class=\"dni-plaintext\">1.5</div></td></tr></tbody></table>"
      ]
     },
     "metadata": {},
     "output_type": "display_data"
    }
   ],
   "metadata": {
    "dotnet_interactive": {
     "language": "fsharp"
    }
   }
  },
  {
   "cell_type": "code",
   "execution_count": null,
   "source": [
    "#!fsharp\r\n",
    "v |+| w"
   ],
   "outputs": [
    {
     "data": {
      "text/html": [
       "<table><thead><tr><th>Item1</th><th>Item2</th></tr></thead><tbody><tr><td><div class=\"dni-plaintext\">5.5</div></td><td><div class=\"dni-plaintext\">2.5</div></td></tr></tbody></table>"
      ]
     },
     "metadata": {},
     "output_type": "display_data"
    }
   ],
   "metadata": {
    "dotnet_interactive": {
     "language": "fsharp"
    }
   }
  },
  {
   "cell_type": "code",
   "execution_count": null,
   "source": [
    "#!fsharp\r\n",
    "u |+| w"
   ],
   "outputs": [
    {
     "data": {
      "text/html": [
       "<table><thead><tr><th>Item1</th><th>Item2</th></tr></thead><tbody><tr><td><div class=\"dni-plaintext\">2</div></td><td><div class=\"dni-plaintext\">1</div></td></tr></tbody></table>"
      ]
     },
     "metadata": {},
     "output_type": "display_data"
    }
   ],
   "metadata": {
    "dotnet_interactive": {
     "language": "fsharp"
    }
   }
  },
  {
   "cell_type": "code",
   "execution_count": null,
   "source": [
    "#!fsharp\r\n",
    "u |+| v |+| w"
   ],
   "outputs": [
    {
     "data": {
      "text/html": [
       "<table><thead><tr><th>Item1</th><th>Item2</th></tr></thead><tbody><tr><td><div class=\"dni-plaintext\">3.5</div></td><td><div class=\"dni-plaintext\">2.5</div></td></tr></tbody></table>"
      ]
     },
     "metadata": {},
     "output_type": "display_data"
    }
   ],
   "metadata": {
    "dotnet_interactive": {
     "language": "fsharp"
    }
   }
  },
  {
   "cell_type": "markdown",
   "source": [
    "#### Exercise 2.7\r\n",
    "Revised Add"
   ],
   "metadata": {}
  },
  {
   "cell_type": "code",
   "execution_count": null,
   "source": [
    "let addVecs vectors =\r\n",
    "    vectors \r\n",
    "    |> Seq.fold (|+|) (0.0, 0.0)\r\n",
    "\r\n",
    "let addRevised (vectors: seq<Vector2D>) =\r\n",
    "    (vectors |> Seq.map (fun (x, _) -> x) |> Seq.sum, vectors |> Seq.map (fun (_, y) -> y) |> Seq.sum)"
   ],
   "outputs": [],
   "metadata": {
    "dotnet_interactive": {
     "language": "fsharp"
    }
   }
  },
  {
   "cell_type": "code",
   "execution_count": null,
   "source": [
    "#!fsharp\r\n",
    "[| addVecs [(-2.0, 5.0); (-3.0, 4.0); (-1.0, 1.0); (-8.0, 10.0)];\r\n",
    "   addRevised [(-2.0, 5.0); (-3.0, 4.0); (-1.0, 1.0); (-8.0, 10.0)] |]"
   ],
   "outputs": [
    {
     "data": {
      "text/html": [
       "<table><thead><tr><th><i>index</i></th><th>Item1</th><th>Item2</th></tr></thead><tbody><tr><td>0</td><td><div class=\"dni-plaintext\">-14</div></td><td><div class=\"dni-plaintext\">20</div></td></tr><tr><td>1</td><td><div class=\"dni-plaintext\">-14</div></td><td><div class=\"dni-plaintext\">20</div></td></tr></tbody></table>"
      ]
     },
     "metadata": {},
     "output_type": "display_data"
    }
   ],
   "metadata": {
    "dotnet_interactive": {
     "language": "fsharp"
    }
   }
  },
  {
   "cell_type": "markdown",
   "source": [
    "#### Exercise 2.8"
   ],
   "metadata": {}
  },
  {
   "cell_type": "code",
   "execution_count": null,
   "source": [
    "#!fsharp\r\n",
    "let translate translation vecs =\r\n",
    "    vecs |> Seq.map (fun v -> v |+| translation)"
   ],
   "outputs": [],
   "metadata": {
    "dotnet_interactive": {
     "language": "fsharp"
    }
   }
  },
  {
   "cell_type": "code",
   "execution_count": null,
   "source": [
    "#!fsharp\r\n",
    "translate (1.0, 1.0) [(0.0, 0.0); (0.0, 1.0); (-3.0, -3.0)]"
   ],
   "outputs": [
    {
     "data": {
      "text/html": [
       "<table><thead><tr><th><i>index</i></th><th>Item1</th><th>Item2</th></tr></thead><tbody><tr><td>0</td><td><div class=\"dni-plaintext\">1</div></td><td><div class=\"dni-plaintext\">1</div></td></tr><tr><td>1</td><td><div class=\"dni-plaintext\">1</div></td><td><div class=\"dni-plaintext\">2</div></td></tr><tr><td>2</td><td><div class=\"dni-plaintext\">-2</div></td><td><div class=\"dni-plaintext\">-2</div></td></tr></tbody></table>"
      ]
     },
     "metadata": {},
     "output_type": "display_data"
    }
   ],
   "metadata": {
    "dotnet_interactive": {
     "language": "fsharp"
    }
   }
  },
  {
   "cell_type": "markdown",
   "source": [
    "Vector addition is commutative"
   ],
   "metadata": {}
  },
  {
   "cell_type": "code",
   "execution_count": null,
   "source": [
    "#!fsharp\r\n",
    "let uu = (2.0, 1.0)\r\n",
    "let vv = (3.0, 4.0)\r\n",
    "let (ux, uy) = uu\r\n",
    "let (vx, vy) = vv\r\n",
    "let (resx, resy) = uu |+| vv\r\n",
    "let (oresx, oresy) = vv |+| uu\r\n",
    "\r\n",
    "let commScatter1 = Scatter(x = [0.0; ux], y = [0.0; uy], mode = \"markers\")\r\n",
    "let commScatter2 = Scatter(x = [ux; resx], y = [uy; resy], mode = \"markers\")\r\n",
    "\r\n",
    "let commScatter3 = Scatter(x = [0.0; vx], y = [0.0; vy], mode = \"markers\")\r\n",
    "let commScatter4 = Scatter(x = [vx; resx], y = [vy; resy], mode = \"markers\")\r\n",
    "\r\n",
    "let commResultScatter = Scatter(x = [0.0; resx], y = [0.0; resy], mode = \"markers\")\r\n",
    "\r\n",
    "let options =\r\n",
    "    Options(\r\n",
    "        annotations =\r\n",
    "            seq {\r\n",
    "                vecArrowFromOrigin \"red\" (ux, uy);\r\n",
    "                vecArrowFromOrigin \"blue\" (vx, vy);\r\n",
    "                vecArrowFromOrigin \"purple\" (resx, resy);\r\n",
    "                vecArrow (ux, uy) \"blue\" (resx, resy);\r\n",
    "                vecArrow (vx, vy) \"red\" (resx, resy);\r\n",
    "            })\r\n",
    "\r\n",
    "[commScatter1; commScatter2; commScatter3; commScatter4; commResultScatter]\r\n",
    "|> Chart.Plot\r\n",
    "|> Chart.WithOptions options"
   ],
   "outputs": [
    {
     "data": {
      "text/html": [
       "<!DOCTYPE html>\r\n",
       "<div style=\"width: 900px; height: 500px;\" id=\"cbd6ea82-ac40-44b1-afba-5588b9dd0807\"></div><script type=\"text/javascript\">\r\n",
       "\n",
       "var renderPlotly = function() {\n",
       "    var xplotRequire = require.config({context:'xplot-3.0.1',paths:{plotly:'https://cdn.plot.ly/plotly-1.49.2.min'}}) || require;\n",
       "    xplotRequire(['plotly'], function(Plotly) { \r\n",
       "\n",
       "            var data = [{\"type\":\"scatter\",\"x\":[0.0,2.0],\"y\":[0.0,1.0],\"mode\":\"markers\"},{\"type\":\"scatter\",\"x\":[2.0,5.0],\"y\":[1.0,5.0],\"mode\":\"markers\"},{\"type\":\"scatter\",\"x\":[0.0,3.0],\"y\":[0.0,4.0],\"mode\":\"markers\"},{\"type\":\"scatter\",\"x\":[3.0,5.0],\"y\":[4.0,5.0],\"mode\":\"markers\"},{\"type\":\"scatter\",\"x\":[0.0,5.0],\"y\":[0.0,5.0],\"mode\":\"markers\"}];\n",
       "           var layout = {\"annotations\":[{\"showarrow\":true,\"arrowcolor\":\"red\",\"axref\":\"x\",\"ax\":0.0,\"ayref\":\"y\",\"ay\":0.0,\"x\":2.0,\"y\":1.0},{\"showarrow\":true,\"arrowcolor\":\"blue\",\"axref\":\"x\",\"ax\":0.0,\"ayref\":\"y\",\"ay\":0.0,\"x\":3.0,\"y\":4.0},{\"showarrow\":true,\"arrowcolor\":\"purple\",\"axref\":\"x\",\"ax\":0.0,\"ayref\":\"y\",\"ay\":0.0,\"x\":5.0,\"y\":5.0},{\"showarrow\":true,\"arrowcolor\":\"blue\",\"axref\":\"x\",\"ax\":2.0,\"ayref\":\"y\",\"ay\":1.0,\"x\":5.0,\"y\":5.0},{\"showarrow\":true,\"arrowcolor\":\"red\",\"axref\":\"x\",\"ax\":3.0,\"ayref\":\"y\",\"ay\":4.0,\"x\":5.0,\"y\":5.0}]};\n",
       "           Plotly.newPlot('cbd6ea82-ac40-44b1-afba-5588b9dd0807', data, layout);\n",
       "        \r\n",
       "});\n",
       "};\r\n",
       "// ensure `require` is available globally\r\n",
       "if ((typeof(require) !==  typeof(Function)) || (typeof(require.config) !== typeof(Function))) {\r\n",
       "    let require_script = document.createElement('script');\r\n",
       "    require_script.setAttribute('src', 'https://cdnjs.cloudflare.com/ajax/libs/require.js/2.3.6/require.min.js');\r\n",
       "    require_script.setAttribute('type', 'text/javascript');\r\n",
       "    \r\n",
       "    \r\n",
       "    require_script.onload = function() {\r\n",
       "        renderPlotly();\r\n",
       "    };\r\n",
       "\r\n",
       "    document.getElementsByTagName('head')[0].appendChild(require_script);\r\n",
       "}\r\n",
       "else {\r\n",
       "    renderPlotly();\r\n",
       "}\r\n",
       "\r\n",
       "</script>\r\n"
      ]
     },
     "metadata": {},
     "output_type": "display_data"
    }
   ],
   "metadata": {
    "dotnet_interactive": {
     "language": "fsharp"
    }
   }
  },
  {
   "cell_type": "markdown",
   "source": [
    "### Exercise 2.11\r\n",
    "x bounds = +6, -4\r\n",
    "y bounds = +5, -4\r\n",
    "\r\n",
    "using dinoX, dinoY, and/or dinoPlot"
   ],
   "metadata": {}
  },
  {
   "cell_type": "code",
   "execution_count": null,
   "source": [
    "#!fsharp\r\n",
    "let vectorsToScatterLists vecs =\r\n",
    "    vecs |> Seq.fold (fun (xs, ys) (x, y) -> (x::xs, y::ys)) ([], [])"
   ],
   "outputs": [],
   "metadata": {
    "dotnet_interactive": {
     "language": "fsharp"
    }
   }
  },
  {
   "cell_type": "code",
   "execution_count": null,
   "source": [
    "#!fsharp\r\n",
    "let scatterListsToVectors xs ys =\r\n",
    "    Seq.zip xs ys"
   ],
   "outputs": [],
   "metadata": {
    "dotnet_interactive": {
     "language": "fsharp"
    }
   }
  },
  {
   "cell_type": "code",
   "execution_count": null,
   "source": [
    "#!fsharp\r\n",
    "scatterListsToVectors dinoX dinoY"
   ],
   "outputs": [
    {
     "data": {
      "text/html": [
       "<table><thead><tr><th><i>index</i></th><th>Item1</th><th>Item2</th></tr></thead><tbody><tr><td>0</td><td><div class=\"dni-plaintext\">6</div></td><td><div class=\"dni-plaintext\">4</div></td></tr><tr><td>1</td><td><div class=\"dni-plaintext\">3</div></td><td><div class=\"dni-plaintext\">1</div></td></tr><tr><td>2</td><td><div class=\"dni-plaintext\">1</div></td><td><div class=\"dni-plaintext\">2</div></td></tr><tr><td>3</td><td><div class=\"dni-plaintext\">-1</div></td><td><div class=\"dni-plaintext\">5</div></td></tr><tr><td>4</td><td><div class=\"dni-plaintext\">-2</div></td><td><div class=\"dni-plaintext\">5</div></td></tr><tr><td>5</td><td><div class=\"dni-plaintext\">-3</div></td><td><div class=\"dni-plaintext\">4</div></td></tr><tr><td>6</td><td><div class=\"dni-plaintext\">-4</div></td><td><div class=\"dni-plaintext\">4</div></td></tr><tr><td>7</td><td><div class=\"dni-plaintext\">-5</div></td><td><div class=\"dni-plaintext\">3</div></td></tr><tr><td>8</td><td><div class=\"dni-plaintext\">-5</div></td><td><div class=\"dni-plaintext\">2</div></td></tr><tr><td>9</td><td><div class=\"dni-plaintext\">-2</div></td><td><div class=\"dni-plaintext\">2</div></td></tr><tr><td>10</td><td><div class=\"dni-plaintext\">-5</div></td><td><div class=\"dni-plaintext\">1</div></td></tr><tr><td>11</td><td><div class=\"dni-plaintext\">-4</div></td><td><div class=\"dni-plaintext\">0</div></td></tr><tr><td>12</td><td><div class=\"dni-plaintext\">-2</div></td><td><div class=\"dni-plaintext\">1</div></td></tr><tr><td>13</td><td><div class=\"dni-plaintext\">-1</div></td><td><div class=\"dni-plaintext\">0</div></td></tr><tr><td>14</td><td><div class=\"dni-plaintext\">0</div></td><td><div class=\"dni-plaintext\">-3</div></td></tr><tr><td>15</td><td><div class=\"dni-plaintext\">-1</div></td><td><div class=\"dni-plaintext\">-4</div></td></tr><tr><td>16</td><td><div class=\"dni-plaintext\">1</div></td><td><div class=\"dni-plaintext\">-4</div></td></tr><tr><td>17</td><td><div class=\"dni-plaintext\">2</div></td><td><div class=\"dni-plaintext\">-3</div></td></tr><tr><td>18</td><td><div class=\"dni-plaintext\">1</div></td><td><div class=\"dni-plaintext\">-2</div></td></tr><tr><td>19</td><td><div class=\"dni-plaintext\">3</div></td><td><div class=\"dni-plaintext\">-1</div></td></tr><tr><td colspan=\"3\">(2 more)</td></tr></tbody></table>"
      ]
     },
     "metadata": {},
     "output_type": "display_data"
    }
   ],
   "metadata": {
    "dotnet_interactive": {
     "language": "fsharp"
    }
   }
  },
  {
   "cell_type": "code",
   "execution_count": null,
   "source": [
    "seq { \r\n",
    "    for x in -5.0 .. 4.0 do\r\n",
    "    for y in -5.0 .. 4.0 ->\r\n",
    "    (x, y) } |> Seq.length"
   ],
   "outputs": [
    {
     "data": {
      "text/html": [
       "<table><thead><tr><th><i>index</i></th><th>Item1</th><th>Item2</th></tr></thead><tbody><tr><td>0</td><td><div class=\"dni-plaintext\">-5</div></td><td><div class=\"dni-plaintext\">-5</div></td></tr><tr><td>1</td><td><div class=\"dni-plaintext\">-5</div></td><td><div class=\"dni-plaintext\">-4</div></td></tr><tr><td>2</td><td><div class=\"dni-plaintext\">-5</div></td><td><div class=\"dni-plaintext\">-3</div></td></tr><tr><td>3</td><td><div class=\"dni-plaintext\">-5</div></td><td><div class=\"dni-plaintext\">-2</div></td></tr><tr><td>4</td><td><div class=\"dni-plaintext\">-5</div></td><td><div class=\"dni-plaintext\">-1</div></td></tr><tr><td>5</td><td><div class=\"dni-plaintext\">-5</div></td><td><div class=\"dni-plaintext\">0</div></td></tr><tr><td>6</td><td><div class=\"dni-plaintext\">-5</div></td><td><div class=\"dni-plaintext\">1</div></td></tr><tr><td>7</td><td><div class=\"dni-plaintext\">-5</div></td><td><div class=\"dni-plaintext\">2</div></td></tr><tr><td>8</td><td><div class=\"dni-plaintext\">-5</div></td><td><div class=\"dni-plaintext\">3</div></td></tr><tr><td>9</td><td><div class=\"dni-plaintext\">-5</div></td><td><div class=\"dni-plaintext\">4</div></td></tr><tr><td>10</td><td><div class=\"dni-plaintext\">-4</div></td><td><div class=\"dni-plaintext\">-5</div></td></tr><tr><td>11</td><td><div class=\"dni-plaintext\">-4</div></td><td><div class=\"dni-plaintext\">-4</div></td></tr><tr><td>12</td><td><div class=\"dni-plaintext\">-4</div></td><td><div class=\"dni-plaintext\">-3</div></td></tr><tr><td>13</td><td><div class=\"dni-plaintext\">-4</div></td><td><div class=\"dni-plaintext\">-2</div></td></tr><tr><td>14</td><td><div class=\"dni-plaintext\">-4</div></td><td><div class=\"dni-plaintext\">-1</div></td></tr><tr><td>15</td><td><div class=\"dni-plaintext\">-4</div></td><td><div class=\"dni-plaintext\">0</div></td></tr><tr><td>16</td><td><div class=\"dni-plaintext\">-4</div></td><td><div class=\"dni-plaintext\">1</div></td></tr><tr><td>17</td><td><div class=\"dni-plaintext\">-4</div></td><td><div class=\"dni-plaintext\">2</div></td></tr><tr><td>18</td><td><div class=\"dni-plaintext\">-4</div></td><td><div class=\"dni-plaintext\">3</div></td></tr><tr><td>19</td><td><div class=\"dni-plaintext\">-4</div></td><td><div class=\"dni-plaintext\">4</div></td></tr><tr><td colspan=\"3\">(80 more)</td></tr></tbody></table>"
      ]
     },
     "metadata": {},
     "output_type": "display_data"
    }
   ],
   "metadata": {
    "dotnet_interactive": {
     "language": "fsharp"
    }
   }
  },
  {
   "cell_type": "code",
   "execution_count": null,
   "source": [
    "\r\n",
    "let dinoVecs = scatterListsToVectors dinoX dinoY\r\n",
    "\r\n",
    "let xys : seq<Vector2D> = \r\n",
    "    seq { \r\n",
    "        for x in -5.0 .. 4.0 do\r\n",
    "        for y in -5.0 .. 4.0 ->\r\n",
    "        (x, y) }\r\n",
    "\r\n",
    "let scatterListsToPlot (xs, ys) =\r\n",
    "    Scatter(x = xs, y = ys, mode = \"markers+lines\")\r\n",
    "\r\n",
    "let stuff = \r\n",
    "    xys \r\n",
    "    |> Seq.map (((-*-) 15.0) >> translate) \r\n",
    "    |> Seq.map ((fun func -> func dinoVecs) >> vectorsToScatterLists >> scatterListsToPlot)\r\n",
    "\r\n",
    "stuff\r\n",
    "|> Chart.Plot"
   ],
   "outputs": [
    {
     "data": {
      "text/html": [
       "<!DOCTYPE html>\r\n",
       "<div style=\"width: 900px; height: 500px;\" id=\"a42cdb5e-b9af-468a-8abe-fd1ce34d7a14\"></div><script type=\"text/javascript\">\r\n",
       "\n",
       "var renderPlotly = function() {\n",
       "    var xplotRequire = require.config({context:'xplot-3.0.1',paths:{plotly:'https://cdn.plot.ly/plotly-1.49.2.min'}}) || require;\n",
       "    xplotRequire(['plotly'], function(Plotly) { \r\n",
       "\n",
       "            var data = [{\"type\":\"scatter\",\"x\":[-69.0,-70.0,-72.0,-74.0,-73.0,-74.0,-76.0,-75.0,-76.0,-77.0,-79.0,-80.0,-77.0,-80.0,-80.0,-79.0,-78.0,-77.0,-76.0,-74.0,-72.0,-69.0],\"y\":[-71.0,-74.0,-76.0,-77.0,-78.0,-79.0,-79.0,-78.0,-75.0,-74.0,-75.0,-74.0,-73.0,-73.0,-72.0,-71.0,-71.0,-70.0,-70.0,-73.0,-74.0,-71.0],\"mode\":\"markers+lines\"},{\"type\":\"scatter\",\"x\":[-69.0,-70.0,-72.0,-74.0,-73.0,-74.0,-76.0,-75.0,-76.0,-77.0,-79.0,-80.0,-77.0,-80.0,-80.0,-79.0,-78.0,-77.0,-76.0,-74.0,-72.0,-69.0],\"y\":[-56.0,-59.0,-61.0,-62.0,-63.0,-64.0,-64.0,-63.0,-60.0,-59.0,-60.0,-59.0,-58.0,-58.0,-57.0,-56.0,-56.0,-55.0,-55.0,-58.0,-59.0,-56.0],\"mode\":\"markers+lines\"},{\"type\":\"scatter\",\"x\":[-69.0,-70.0,-72.0,-74.0,-73.0,-74.0,-76.0,-75.0,-76.0,-77.0,-79.0,-80.0,-77.0,-80.0,-80.0,-79.0,-78.0,-77.0,-76.0,-74.0,-72.0,-69.0],\"y\":[-41.0,-44.0,-46.0,-47.0,-48.0,-49.0,-49.0,-48.0,-45.0,-44.0,-45.0,-44.0,-43.0,-43.0,-42.0,-41.0,-41.0,-40.0,-40.0,-43.0,-44.0,-41.0],\"mode\":\"markers+lines\"},{\"type\":\"scatter\",\"x\":[-69.0,-70.0,-72.0,-74.0,-73.0,-74.0,-76.0,-75.0,-76.0,-77.0,-79.0,-80.0,-77.0,-80.0,-80.0,-79.0,-78.0,-77.0,-76.0,-74.0,-72.0,-69.0],\"y\":[-26.0,-29.0,-31.0,-32.0,-33.0,-34.0,-34.0,-33.0,-30.0,-29.0,-30.0,-29.0,-28.0,-28.0,-27.0,-26.0,-26.0,-25.0,-25.0,-28.0,-29.0,-26.0],\"mode\":\"markers+lines\"},{\"type\":\"scatter\",\"x\":[-69.0,-70.0,-72.0,-74.0,-73.0,-74.0,-76.0,-75.0,-76.0,-77.0,-79.0,-80.0,-77.0,-80.0,-80.0,-79.0,-78.0,-77.0,-76.0,-74.0,-72.0,-69.0],\"y\":[-11.0,-14.0,-16.0,-17.0,-18.0,-19.0,-19.0,-18.0,-15.0,-14.0,-15.0,-14.0,-13.0,-13.0,-12.0,-11.0,-11.0,-10.0,-10.0,-13.0,-14.0,-11.0],\"mode\":\"markers+lines\"},{\"type\":\"scatter\",\"x\":[-69.0,-70.0,-72.0,-74.0,-73.0,-74.0,-76.0,-75.0,-76.0,-77.0,-79.0,-80.0,-77.0,-80.0,-80.0,-79.0,-78.0,-77.0,-76.0,-74.0,-72.0,-69.0],\"y\":[4.0,1.0,-1.0,-2.0,-3.0,-4.0,-4.0,-3.0,0.0,1.0,0.0,1.0,2.0,2.0,3.0,4.0,4.0,5.0,5.0,2.0,1.0,4.0],\"mode\":\"markers+lines\"},{\"type\":\"scatter\",\"x\":[-69.0,-70.0,-72.0,-74.0,-73.0,-74.0,-76.0,-75.0,-76.0,-77.0,-79.0,-80.0,-77.0,-80.0,-80.0,-79.0,-78.0,-77.0,-76.0,-74.0,-72.0,-69.0],\"y\":[19.0,16.0,14.0,13.0,12.0,11.0,11.0,12.0,15.0,16.0,15.0,16.0,17.0,17.0,18.0,19.0,19.0,20.0,20.0,17.0,16.0,19.0],\"mode\":\"markers+lines\"},{\"type\":\"scatter\",\"x\":[-69.0,-70.0,-72.0,-74.0,-73.0,-74.0,-76.0,-75.0,-76.0,-77.0,-79.0,-80.0,-77.0,-80.0,-80.0,-79.0,-78.0,-77.0,-76.0,-74.0,-72.0,-69.0],\"y\":[34.0,31.0,29.0,28.0,27.0,26.0,26.0,27.0,30.0,31.0,30.0,31.0,32.0,32.0,33.0,34.0,34.0,35.0,35.0,32.0,31.0,34.0],\"mode\":\"markers+lines\"},{\"type\":\"scatter\",\"x\":[-69.0,-70.0,-72.0,-74.0,-73.0,-74.0,-76.0,-75.0,-76.0,-77.0,-79.0,-80.0,-77.0,-80.0,-80.0,-79.0,-78.0,-77.0,-76.0,-74.0,-72.0,-69.0],\"y\":[49.0,46.0,44.0,43.0,42.0,41.0,41.0,42.0,45.0,46.0,45.0,46.0,47.0,47.0,48.0,49.0,49.0,50.0,50.0,47.0,46.0,49.0],\"mode\":\"markers+lines\"},{\"type\":\"scatter\",\"x\":[-69.0,-70.0,-72.0,-74.0,-73.0,-74.0,-76.0,-75.0,-76.0,-77.0,-79.0,-80.0,-77.0,-80.0,-80.0,-79.0,-78.0,-77.0,-76.0,-74.0,-72.0,-69.0],\"y\":[64.0,61.0,59.0,58.0,57.0,56.0,56.0,57.0,60.0,61.0,60.0,61.0,62.0,62.0,63.0,64.0,64.0,65.0,65.0,62.0,61.0,64.0],\"mode\":\"markers+lines\"},{\"type\":\"scatter\",\"x\":[-54.0,-55.0,-57.0,-59.0,-58.0,-59.0,-61.0,-60.0,-61.0,-62.0,-64.0,-65.0,-62.0,-65.0,-65.0,-64.0,-63.0,-62.0,-61.0,-59.0,-57.0,-54.0],\"y\":[-71.0,-74.0,-76.0,-77.0,-78.0,-79.0,-79.0,-78.0,-75.0,-74.0,-75.0,-74.0,-73.0,-73.0,-72.0,-71.0,-71.0,-70.0,-70.0,-73.0,-74.0,-71.0],\"mode\":\"markers+lines\"},{\"type\":\"scatter\",\"x\":[-54.0,-55.0,-57.0,-59.0,-58.0,-59.0,-61.0,-60.0,-61.0,-62.0,-64.0,-65.0,-62.0,-65.0,-65.0,-64.0,-63.0,-62.0,-61.0,-59.0,-57.0,-54.0],\"y\":[-56.0,-59.0,-61.0,-62.0,-63.0,-64.0,-64.0,-63.0,-60.0,-59.0,-60.0,-59.0,-58.0,-58.0,-57.0,-56.0,-56.0,-55.0,-55.0,-58.0,-59.0,-56.0],\"mode\":\"markers+lines\"},{\"type\":\"scatter\",\"x\":[-54.0,-55.0,-57.0,-59.0,-58.0,-59.0,-61.0,-60.0,-61.0,-62.0,-64.0,-65.0,-62.0,-65.0,-65.0,-64.0,-63.0,-62.0,-61.0,-59.0,-57.0,-54.0],\"y\":[-41.0,-44.0,-46.0,-47.0,-48.0,-49.0,-49.0,-48.0,-45.0,-44.0,-45.0,-44.0,-43.0,-43.0,-42.0,-41.0,-41.0,-40.0,-40.0,-43.0,-44.0,-41.0],\"mode\":\"markers+lines\"},{\"type\":\"scatter\",\"x\":[-54.0,-55.0,-57.0,-59.0,-58.0,-59.0,-61.0,-60.0,-61.0,-62.0,-64.0,-65.0,-62.0,-65.0,-65.0,-64.0,-63.0,-62.0,-61.0,-59.0,-57.0,-54.0],\"y\":[-26.0,-29.0,-31.0,-32.0,-33.0,-34.0,-34.0,-33.0,-30.0,-29.0,-30.0,-29.0,-28.0,-28.0,-27.0,-26.0,-26.0,-25.0,-25.0,-28.0,-29.0,-26.0],\"mode\":\"markers+lines\"},{\"type\":\"scatter\",\"x\":[-54.0,-55.0,-57.0,-59.0,-58.0,-59.0,-61.0,-60.0,-61.0,-62.0,-64.0,-65.0,-62.0,-65.0,-65.0,-64.0,-63.0,-62.0,-61.0,-59.0,-57.0,-54.0],\"y\":[-11.0,-14.0,-16.0,-17.0,-18.0,-19.0,-19.0,-18.0,-15.0,-14.0,-15.0,-14.0,-13.0,-13.0,-12.0,-11.0,-11.0,-10.0,-10.0,-13.0,-14.0,-11.0],\"mode\":\"markers+lines\"},{\"type\":\"scatter\",\"x\":[-54.0,-55.0,-57.0,-59.0,-58.0,-59.0,-61.0,-60.0,-61.0,-62.0,-64.0,-65.0,-62.0,-65.0,-65.0,-64.0,-63.0,-62.0,-61.0,-59.0,-57.0,-54.0],\"y\":[4.0,1.0,-1.0,-2.0,-3.0,-4.0,-4.0,-3.0,0.0,1.0,0.0,1.0,2.0,2.0,3.0,4.0,4.0,5.0,5.0,2.0,1.0,4.0],\"mode\":\"markers+lines\"},{\"type\":\"scatter\",\"x\":[-54.0,-55.0,-57.0,-59.0,-58.0,-59.0,-61.0,-60.0,-61.0,-62.0,-64.0,-65.0,-62.0,-65.0,-65.0,-64.0,-63.0,-62.0,-61.0,-59.0,-57.0,-54.0],\"y\":[19.0,16.0,14.0,13.0,12.0,11.0,11.0,12.0,15.0,16.0,15.0,16.0,17.0,17.0,18.0,19.0,19.0,20.0,20.0,17.0,16.0,19.0],\"mode\":\"markers+lines\"},{\"type\":\"scatter\",\"x\":[-54.0,-55.0,-57.0,-59.0,-58.0,-59.0,-61.0,-60.0,-61.0,-62.0,-64.0,-65.0,-62.0,-65.0,-65.0,-64.0,-63.0,-62.0,-61.0,-59.0,-57.0,-54.0],\"y\":[34.0,31.0,29.0,28.0,27.0,26.0,26.0,27.0,30.0,31.0,30.0,31.0,32.0,32.0,33.0,34.0,34.0,35.0,35.0,32.0,31.0,34.0],\"mode\":\"markers+lines\"},{\"type\":\"scatter\",\"x\":[-54.0,-55.0,-57.0,-59.0,-58.0,-59.0,-61.0,-60.0,-61.0,-62.0,-64.0,-65.0,-62.0,-65.0,-65.0,-64.0,-63.0,-62.0,-61.0,-59.0,-57.0,-54.0],\"y\":[49.0,46.0,44.0,43.0,42.0,41.0,41.0,42.0,45.0,46.0,45.0,46.0,47.0,47.0,48.0,49.0,49.0,50.0,50.0,47.0,46.0,49.0],\"mode\":\"markers+lines\"},{\"type\":\"scatter\",\"x\":[-54.0,-55.0,-57.0,-59.0,-58.0,-59.0,-61.0,-60.0,-61.0,-62.0,-64.0,-65.0,-62.0,-65.0,-65.0,-64.0,-63.0,-62.0,-61.0,-59.0,-57.0,-54.0],\"y\":[64.0,61.0,59.0,58.0,57.0,56.0,56.0,57.0,60.0,61.0,60.0,61.0,62.0,62.0,63.0,64.0,64.0,65.0,65.0,62.0,61.0,64.0],\"mode\":\"markers+lines\"},{\"type\":\"scatter\",\"x\":[-39.0,-40.0,-42.0,-44.0,-43.0,-44.0,-46.0,-45.0,-46.0,-47.0,-49.0,-50.0,-47.0,-50.0,-50.0,-49.0,-48.0,-47.0,-46.0,-44.0,-42.0,-39.0],\"y\":[-71.0,-74.0,-76.0,-77.0,-78.0,-79.0,-79.0,-78.0,-75.0,-74.0,-75.0,-74.0,-73.0,-73.0,-72.0,-71.0,-71.0,-70.0,-70.0,-73.0,-74.0,-71.0],\"mode\":\"markers+lines\"},{\"type\":\"scatter\",\"x\":[-39.0,-40.0,-42.0,-44.0,-43.0,-44.0,-46.0,-45.0,-46.0,-47.0,-49.0,-50.0,-47.0,-50.0,-50.0,-49.0,-48.0,-47.0,-46.0,-44.0,-42.0,-39.0],\"y\":[-56.0,-59.0,-61.0,-62.0,-63.0,-64.0,-64.0,-63.0,-60.0,-59.0,-60.0,-59.0,-58.0,-58.0,-57.0,-56.0,-56.0,-55.0,-55.0,-58.0,-59.0,-56.0],\"mode\":\"markers+lines\"},{\"type\":\"scatter\",\"x\":[-39.0,-40.0,-42.0,-44.0,-43.0,-44.0,-46.0,-45.0,-46.0,-47.0,-49.0,-50.0,-47.0,-50.0,-50.0,-49.0,-48.0,-47.0,-46.0,-44.0,-42.0,-39.0],\"y\":[-41.0,-44.0,-46.0,-47.0,-48.0,-49.0,-49.0,-48.0,-45.0,-44.0,-45.0,-44.0,-43.0,-43.0,-42.0,-41.0,-41.0,-40.0,-40.0,-43.0,-44.0,-41.0],\"mode\":\"markers+lines\"},{\"type\":\"scatter\",\"x\":[-39.0,-40.0,-42.0,-44.0,-43.0,-44.0,-46.0,-45.0,-46.0,-47.0,-49.0,-50.0,-47.0,-50.0,-50.0,-49.0,-48.0,-47.0,-46.0,-44.0,-42.0,-39.0],\"y\":[-26.0,-29.0,-31.0,-32.0,-33.0,-34.0,-34.0,-33.0,-30.0,-29.0,-30.0,-29.0,-28.0,-28.0,-27.0,-26.0,-26.0,-25.0,-25.0,-28.0,-29.0,-26.0],\"mode\":\"markers+lines\"},{\"type\":\"scatter\",\"x\":[-39.0,-40.0,-42.0,-44.0,-43.0,-44.0,-46.0,-45.0,-46.0,-47.0,-49.0,-50.0,-47.0,-50.0,-50.0,-49.0,-48.0,-47.0,-46.0,-44.0,-42.0,-39.0],\"y\":[-11.0,-14.0,-16.0,-17.0,-18.0,-19.0,-19.0,-18.0,-15.0,-14.0,-15.0,-14.0,-13.0,-13.0,-12.0,-11.0,-11.0,-10.0,-10.0,-13.0,-14.0,-11.0],\"mode\":\"markers+lines\"},{\"type\":\"scatter\",\"x\":[-39.0,-40.0,-42.0,-44.0,-43.0,-44.0,-46.0,-45.0,-46.0,-47.0,-49.0,-50.0,-47.0,-50.0,-50.0,-49.0,-48.0,-47.0,-46.0,-44.0,-42.0,-39.0],\"y\":[4.0,1.0,-1.0,-2.0,-3.0,-4.0,-4.0,-3.0,0.0,1.0,0.0,1.0,2.0,2.0,3.0,4.0,4.0,5.0,5.0,2.0,1.0,4.0],\"mode\":\"markers+lines\"},{\"type\":\"scatter\",\"x\":[-39.0,-40.0,-42.0,-44.0,-43.0,-44.0,-46.0,-45.0,-46.0,-47.0,-49.0,-50.0,-47.0,-50.0,-50.0,-49.0,-48.0,-47.0,-46.0,-44.0,-42.0,-39.0],\"y\":[19.0,16.0,14.0,13.0,12.0,11.0,11.0,12.0,15.0,16.0,15.0,16.0,17.0,17.0,18.0,19.0,19.0,20.0,20.0,17.0,16.0,19.0],\"mode\":\"markers+lines\"},{\"type\":\"scatter\",\"x\":[-39.0,-40.0,-42.0,-44.0,-43.0,-44.0,-46.0,-45.0,-46.0,-47.0,-49.0,-50.0,-47.0,-50.0,-50.0,-49.0,-48.0,-47.0,-46.0,-44.0,-42.0,-39.0],\"y\":[34.0,31.0,29.0,28.0,27.0,26.0,26.0,27.0,30.0,31.0,30.0,31.0,32.0,32.0,33.0,34.0,34.0,35.0,35.0,32.0,31.0,34.0],\"mode\":\"markers+lines\"},{\"type\":\"scatter\",\"x\":[-39.0,-40.0,-42.0,-44.0,-43.0,-44.0,-46.0,-45.0,-46.0,-47.0,-49.0,-50.0,-47.0,-50.0,-50.0,-49.0,-48.0,-47.0,-46.0,-44.0,-42.0,-39.0],\"y\":[49.0,46.0,44.0,43.0,42.0,41.0,41.0,42.0,45.0,46.0,45.0,46.0,47.0,47.0,48.0,49.0,49.0,50.0,50.0,47.0,46.0,49.0],\"mode\":\"markers+lines\"},{\"type\":\"scatter\",\"x\":[-39.0,-40.0,-42.0,-44.0,-43.0,-44.0,-46.0,-45.0,-46.0,-47.0,-49.0,-50.0,-47.0,-50.0,-50.0,-49.0,-48.0,-47.0,-46.0,-44.0,-42.0,-39.0],\"y\":[64.0,61.0,59.0,58.0,57.0,56.0,56.0,57.0,60.0,61.0,60.0,61.0,62.0,62.0,63.0,64.0,64.0,65.0,65.0,62.0,61.0,64.0],\"mode\":\"markers+lines\"},{\"type\":\"scatter\",\"x\":[-24.0,-25.0,-27.0,-29.0,-28.0,-29.0,-31.0,-30.0,-31.0,-32.0,-34.0,-35.0,-32.0,-35.0,-35.0,-34.0,-33.0,-32.0,-31.0,-29.0,-27.0,-24.0],\"y\":[-71.0,-74.0,-76.0,-77.0,-78.0,-79.0,-79.0,-78.0,-75.0,-74.0,-75.0,-74.0,-73.0,-73.0,-72.0,-71.0,-71.0,-70.0,-70.0,-73.0,-74.0,-71.0],\"mode\":\"markers+lines\"},{\"type\":\"scatter\",\"x\":[-24.0,-25.0,-27.0,-29.0,-28.0,-29.0,-31.0,-30.0,-31.0,-32.0,-34.0,-35.0,-32.0,-35.0,-35.0,-34.0,-33.0,-32.0,-31.0,-29.0,-27.0,-24.0],\"y\":[-56.0,-59.0,-61.0,-62.0,-63.0,-64.0,-64.0,-63.0,-60.0,-59.0,-60.0,-59.0,-58.0,-58.0,-57.0,-56.0,-56.0,-55.0,-55.0,-58.0,-59.0,-56.0],\"mode\":\"markers+lines\"},{\"type\":\"scatter\",\"x\":[-24.0,-25.0,-27.0,-29.0,-28.0,-29.0,-31.0,-30.0,-31.0,-32.0,-34.0,-35.0,-32.0,-35.0,-35.0,-34.0,-33.0,-32.0,-31.0,-29.0,-27.0,-24.0],\"y\":[-41.0,-44.0,-46.0,-47.0,-48.0,-49.0,-49.0,-48.0,-45.0,-44.0,-45.0,-44.0,-43.0,-43.0,-42.0,-41.0,-41.0,-40.0,-40.0,-43.0,-44.0,-41.0],\"mode\":\"markers+lines\"},{\"type\":\"scatter\",\"x\":[-24.0,-25.0,-27.0,-29.0,-28.0,-29.0,-31.0,-30.0,-31.0,-32.0,-34.0,-35.0,-32.0,-35.0,-35.0,-34.0,-33.0,-32.0,-31.0,-29.0,-27.0,-24.0],\"y\":[-26.0,-29.0,-31.0,-32.0,-33.0,-34.0,-34.0,-33.0,-30.0,-29.0,-30.0,-29.0,-28.0,-28.0,-27.0,-26.0,-26.0,-25.0,-25.0,-28.0,-29.0,-26.0],\"mode\":\"markers+lines\"},{\"type\":\"scatter\",\"x\":[-24.0,-25.0,-27.0,-29.0,-28.0,-29.0,-31.0,-30.0,-31.0,-32.0,-34.0,-35.0,-32.0,-35.0,-35.0,-34.0,-33.0,-32.0,-31.0,-29.0,-27.0,-24.0],\"y\":[-11.0,-14.0,-16.0,-17.0,-18.0,-19.0,-19.0,-18.0,-15.0,-14.0,-15.0,-14.0,-13.0,-13.0,-12.0,-11.0,-11.0,-10.0,-10.0,-13.0,-14.0,-11.0],\"mode\":\"markers+lines\"},{\"type\":\"scatter\",\"x\":[-24.0,-25.0,-27.0,-29.0,-28.0,-29.0,-31.0,-30.0,-31.0,-32.0,-34.0,-35.0,-32.0,-35.0,-35.0,-34.0,-33.0,-32.0,-31.0,-29.0,-27.0,-24.0],\"y\":[4.0,1.0,-1.0,-2.0,-3.0,-4.0,-4.0,-3.0,0.0,1.0,0.0,1.0,2.0,2.0,3.0,4.0,4.0,5.0,5.0,2.0,1.0,4.0],\"mode\":\"markers+lines\"},{\"type\":\"scatter\",\"x\":[-24.0,-25.0,-27.0,-29.0,-28.0,-29.0,-31.0,-30.0,-31.0,-32.0,-34.0,-35.0,-32.0,-35.0,-35.0,-34.0,-33.0,-32.0,-31.0,-29.0,-27.0,-24.0],\"y\":[19.0,16.0,14.0,13.0,12.0,11.0,11.0,12.0,15.0,16.0,15.0,16.0,17.0,17.0,18.0,19.0,19.0,20.0,20.0,17.0,16.0,19.0],\"mode\":\"markers+lines\"},{\"type\":\"scatter\",\"x\":[-24.0,-25.0,-27.0,-29.0,-28.0,-29.0,-31.0,-30.0,-31.0,-32.0,-34.0,-35.0,-32.0,-35.0,-35.0,-34.0,-33.0,-32.0,-31.0,-29.0,-27.0,-24.0],\"y\":[34.0,31.0,29.0,28.0,27.0,26.0,26.0,27.0,30.0,31.0,30.0,31.0,32.0,32.0,33.0,34.0,34.0,35.0,35.0,32.0,31.0,34.0],\"mode\":\"markers+lines\"},{\"type\":\"scatter\",\"x\":[-24.0,-25.0,-27.0,-29.0,-28.0,-29.0,-31.0,-30.0,-31.0,-32.0,-34.0,-35.0,-32.0,-35.0,-35.0,-34.0,-33.0,-32.0,-31.0,-29.0,-27.0,-24.0],\"y\":[49.0,46.0,44.0,43.0,42.0,41.0,41.0,42.0,45.0,46.0,45.0,46.0,47.0,47.0,48.0,49.0,49.0,50.0,50.0,47.0,46.0,49.0],\"mode\":\"markers+lines\"},{\"type\":\"scatter\",\"x\":[-24.0,-25.0,-27.0,-29.0,-28.0,-29.0,-31.0,-30.0,-31.0,-32.0,-34.0,-35.0,-32.0,-35.0,-35.0,-34.0,-33.0,-32.0,-31.0,-29.0,-27.0,-24.0],\"y\":[64.0,61.0,59.0,58.0,57.0,56.0,56.0,57.0,60.0,61.0,60.0,61.0,62.0,62.0,63.0,64.0,64.0,65.0,65.0,62.0,61.0,64.0],\"mode\":\"markers+lines\"},{\"type\":\"scatter\",\"x\":[-9.0,-10.0,-12.0,-14.0,-13.0,-14.0,-16.0,-15.0,-16.0,-17.0,-19.0,-20.0,-17.0,-20.0,-20.0,-19.0,-18.0,-17.0,-16.0,-14.0,-12.0,-9.0],\"y\":[-71.0,-74.0,-76.0,-77.0,-78.0,-79.0,-79.0,-78.0,-75.0,-74.0,-75.0,-74.0,-73.0,-73.0,-72.0,-71.0,-71.0,-70.0,-70.0,-73.0,-74.0,-71.0],\"mode\":\"markers+lines\"},{\"type\":\"scatter\",\"x\":[-9.0,-10.0,-12.0,-14.0,-13.0,-14.0,-16.0,-15.0,-16.0,-17.0,-19.0,-20.0,-17.0,-20.0,-20.0,-19.0,-18.0,-17.0,-16.0,-14.0,-12.0,-9.0],\"y\":[-56.0,-59.0,-61.0,-62.0,-63.0,-64.0,-64.0,-63.0,-60.0,-59.0,-60.0,-59.0,-58.0,-58.0,-57.0,-56.0,-56.0,-55.0,-55.0,-58.0,-59.0,-56.0],\"mode\":\"markers+lines\"},{\"type\":\"scatter\",\"x\":[-9.0,-10.0,-12.0,-14.0,-13.0,-14.0,-16.0,-15.0,-16.0,-17.0,-19.0,-20.0,-17.0,-20.0,-20.0,-19.0,-18.0,-17.0,-16.0,-14.0,-12.0,-9.0],\"y\":[-41.0,-44.0,-46.0,-47.0,-48.0,-49.0,-49.0,-48.0,-45.0,-44.0,-45.0,-44.0,-43.0,-43.0,-42.0,-41.0,-41.0,-40.0,-40.0,-43.0,-44.0,-41.0],\"mode\":\"markers+lines\"},{\"type\":\"scatter\",\"x\":[-9.0,-10.0,-12.0,-14.0,-13.0,-14.0,-16.0,-15.0,-16.0,-17.0,-19.0,-20.0,-17.0,-20.0,-20.0,-19.0,-18.0,-17.0,-16.0,-14.0,-12.0,-9.0],\"y\":[-26.0,-29.0,-31.0,-32.0,-33.0,-34.0,-34.0,-33.0,-30.0,-29.0,-30.0,-29.0,-28.0,-28.0,-27.0,-26.0,-26.0,-25.0,-25.0,-28.0,-29.0,-26.0],\"mode\":\"markers+lines\"},{\"type\":\"scatter\",\"x\":[-9.0,-10.0,-12.0,-14.0,-13.0,-14.0,-16.0,-15.0,-16.0,-17.0,-19.0,-20.0,-17.0,-20.0,-20.0,-19.0,-18.0,-17.0,-16.0,-14.0,-12.0,-9.0],\"y\":[-11.0,-14.0,-16.0,-17.0,-18.0,-19.0,-19.0,-18.0,-15.0,-14.0,-15.0,-14.0,-13.0,-13.0,-12.0,-11.0,-11.0,-10.0,-10.0,-13.0,-14.0,-11.0],\"mode\":\"markers+lines\"},{\"type\":\"scatter\",\"x\":[-9.0,-10.0,-12.0,-14.0,-13.0,-14.0,-16.0,-15.0,-16.0,-17.0,-19.0,-20.0,-17.0,-20.0,-20.0,-19.0,-18.0,-17.0,-16.0,-14.0,-12.0,-9.0],\"y\":[4.0,1.0,-1.0,-2.0,-3.0,-4.0,-4.0,-3.0,0.0,1.0,0.0,1.0,2.0,2.0,3.0,4.0,4.0,5.0,5.0,2.0,1.0,4.0],\"mode\":\"markers+lines\"},{\"type\":\"scatter\",\"x\":[-9.0,-10.0,-12.0,-14.0,-13.0,-14.0,-16.0,-15.0,-16.0,-17.0,-19.0,-20.0,-17.0,-20.0,-20.0,-19.0,-18.0,-17.0,-16.0,-14.0,-12.0,-9.0],\"y\":[19.0,16.0,14.0,13.0,12.0,11.0,11.0,12.0,15.0,16.0,15.0,16.0,17.0,17.0,18.0,19.0,19.0,20.0,20.0,17.0,16.0,19.0],\"mode\":\"markers+lines\"},{\"type\":\"scatter\",\"x\":[-9.0,-10.0,-12.0,-14.0,-13.0,-14.0,-16.0,-15.0,-16.0,-17.0,-19.0,-20.0,-17.0,-20.0,-20.0,-19.0,-18.0,-17.0,-16.0,-14.0,-12.0,-9.0],\"y\":[34.0,31.0,29.0,28.0,27.0,26.0,26.0,27.0,30.0,31.0,30.0,31.0,32.0,32.0,33.0,34.0,34.0,35.0,35.0,32.0,31.0,34.0],\"mode\":\"markers+lines\"},{\"type\":\"scatter\",\"x\":[-9.0,-10.0,-12.0,-14.0,-13.0,-14.0,-16.0,-15.0,-16.0,-17.0,-19.0,-20.0,-17.0,-20.0,-20.0,-19.0,-18.0,-17.0,-16.0,-14.0,-12.0,-9.0],\"y\":[49.0,46.0,44.0,43.0,42.0,41.0,41.0,42.0,45.0,46.0,45.0,46.0,47.0,47.0,48.0,49.0,49.0,50.0,50.0,47.0,46.0,49.0],\"mode\":\"markers+lines\"},{\"type\":\"scatter\",\"x\":[-9.0,-10.0,-12.0,-14.0,-13.0,-14.0,-16.0,-15.0,-16.0,-17.0,-19.0,-20.0,-17.0,-20.0,-20.0,-19.0,-18.0,-17.0,-16.0,-14.0,-12.0,-9.0],\"y\":[64.0,61.0,59.0,58.0,57.0,56.0,56.0,57.0,60.0,61.0,60.0,61.0,62.0,62.0,63.0,64.0,64.0,65.0,65.0,62.0,61.0,64.0],\"mode\":\"markers+lines\"},{\"type\":\"scatter\",\"x\":[6.0,5.0,3.0,1.0,2.0,1.0,-1.0,0.0,-1.0,-2.0,-4.0,-5.0,-2.0,-5.0,-5.0,-4.0,-3.0,-2.0,-1.0,1.0,3.0,6.0],\"y\":[-71.0,-74.0,-76.0,-77.0,-78.0,-79.0,-79.0,-78.0,-75.0,-74.0,-75.0,-74.0,-73.0,-73.0,-72.0,-71.0,-71.0,-70.0,-70.0,-73.0,-74.0,-71.0],\"mode\":\"markers+lines\"},{\"type\":\"scatter\",\"x\":[6.0,5.0,3.0,1.0,2.0,1.0,-1.0,0.0,-1.0,-2.0,-4.0,-5.0,-2.0,-5.0,-5.0,-4.0,-3.0,-2.0,-1.0,1.0,3.0,6.0],\"y\":[-56.0,-59.0,-61.0,-62.0,-63.0,-64.0,-64.0,-63.0,-60.0,-59.0,-60.0,-59.0,-58.0,-58.0,-57.0,-56.0,-56.0,-55.0,-55.0,-58.0,-59.0,-56.0],\"mode\":\"markers+lines\"},{\"type\":\"scatter\",\"x\":[6.0,5.0,3.0,1.0,2.0,1.0,-1.0,0.0,-1.0,-2.0,-4.0,-5.0,-2.0,-5.0,-5.0,-4.0,-3.0,-2.0,-1.0,1.0,3.0,6.0],\"y\":[-41.0,-44.0,-46.0,-47.0,-48.0,-49.0,-49.0,-48.0,-45.0,-44.0,-45.0,-44.0,-43.0,-43.0,-42.0,-41.0,-41.0,-40.0,-40.0,-43.0,-44.0,-41.0],\"mode\":\"markers+lines\"},{\"type\":\"scatter\",\"x\":[6.0,5.0,3.0,1.0,2.0,1.0,-1.0,0.0,-1.0,-2.0,-4.0,-5.0,-2.0,-5.0,-5.0,-4.0,-3.0,-2.0,-1.0,1.0,3.0,6.0],\"y\":[-26.0,-29.0,-31.0,-32.0,-33.0,-34.0,-34.0,-33.0,-30.0,-29.0,-30.0,-29.0,-28.0,-28.0,-27.0,-26.0,-26.0,-25.0,-25.0,-28.0,-29.0,-26.0],\"mode\":\"markers+lines\"},{\"type\":\"scatter\",\"x\":[6.0,5.0,3.0,1.0,2.0,1.0,-1.0,0.0,-1.0,-2.0,-4.0,-5.0,-2.0,-5.0,-5.0,-4.0,-3.0,-2.0,-1.0,1.0,3.0,6.0],\"y\":[-11.0,-14.0,-16.0,-17.0,-18.0,-19.0,-19.0,-18.0,-15.0,-14.0,-15.0,-14.0,-13.0,-13.0,-12.0,-11.0,-11.0,-10.0,-10.0,-13.0,-14.0,-11.0],\"mode\":\"markers+lines\"},{\"type\":\"scatter\",\"x\":[6.0,5.0,3.0,1.0,2.0,1.0,-1.0,0.0,-1.0,-2.0,-4.0,-5.0,-2.0,-5.0,-5.0,-4.0,-3.0,-2.0,-1.0,1.0,3.0,6.0],\"y\":[4.0,1.0,-1.0,-2.0,-3.0,-4.0,-4.0,-3.0,0.0,1.0,0.0,1.0,2.0,2.0,3.0,4.0,4.0,5.0,5.0,2.0,1.0,4.0],\"mode\":\"markers+lines\"},{\"type\":\"scatter\",\"x\":[6.0,5.0,3.0,1.0,2.0,1.0,-1.0,0.0,-1.0,-2.0,-4.0,-5.0,-2.0,-5.0,-5.0,-4.0,-3.0,-2.0,-1.0,1.0,3.0,6.0],\"y\":[19.0,16.0,14.0,13.0,12.0,11.0,11.0,12.0,15.0,16.0,15.0,16.0,17.0,17.0,18.0,19.0,19.0,20.0,20.0,17.0,16.0,19.0],\"mode\":\"markers+lines\"},{\"type\":\"scatter\",\"x\":[6.0,5.0,3.0,1.0,2.0,1.0,-1.0,0.0,-1.0,-2.0,-4.0,-5.0,-2.0,-5.0,-5.0,-4.0,-3.0,-2.0,-1.0,1.0,3.0,6.0],\"y\":[34.0,31.0,29.0,28.0,27.0,26.0,26.0,27.0,30.0,31.0,30.0,31.0,32.0,32.0,33.0,34.0,34.0,35.0,35.0,32.0,31.0,34.0],\"mode\":\"markers+lines\"},{\"type\":\"scatter\",\"x\":[6.0,5.0,3.0,1.0,2.0,1.0,-1.0,0.0,-1.0,-2.0,-4.0,-5.0,-2.0,-5.0,-5.0,-4.0,-3.0,-2.0,-1.0,1.0,3.0,6.0],\"y\":[49.0,46.0,44.0,43.0,42.0,41.0,41.0,42.0,45.0,46.0,45.0,46.0,47.0,47.0,48.0,49.0,49.0,50.0,50.0,47.0,46.0,49.0],\"mode\":\"markers+lines\"},{\"type\":\"scatter\",\"x\":[6.0,5.0,3.0,1.0,2.0,1.0,-1.0,0.0,-1.0,-2.0,-4.0,-5.0,-2.0,-5.0,-5.0,-4.0,-3.0,-2.0,-1.0,1.0,3.0,6.0],\"y\":[64.0,61.0,59.0,58.0,57.0,56.0,56.0,57.0,60.0,61.0,60.0,61.0,62.0,62.0,63.0,64.0,64.0,65.0,65.0,62.0,61.0,64.0],\"mode\":\"markers+lines\"},{\"type\":\"scatter\",\"x\":[21.0,20.0,18.0,16.0,17.0,16.0,14.0,15.0,14.0,13.0,11.0,10.0,13.0,10.0,10.0,11.0,12.0,13.0,14.0,16.0,18.0,21.0],\"y\":[-71.0,-74.0,-76.0,-77.0,-78.0,-79.0,-79.0,-78.0,-75.0,-74.0,-75.0,-74.0,-73.0,-73.0,-72.0,-71.0,-71.0,-70.0,-70.0,-73.0,-74.0,-71.0],\"mode\":\"markers+lines\"},{\"type\":\"scatter\",\"x\":[21.0,20.0,18.0,16.0,17.0,16.0,14.0,15.0,14.0,13.0,11.0,10.0,13.0,10.0,10.0,11.0,12.0,13.0,14.0,16.0,18.0,21.0],\"y\":[-56.0,-59.0,-61.0,-62.0,-63.0,-64.0,-64.0,-63.0,-60.0,-59.0,-60.0,-59.0,-58.0,-58.0,-57.0,-56.0,-56.0,-55.0,-55.0,-58.0,-59.0,-56.0],\"mode\":\"markers+lines\"},{\"type\":\"scatter\",\"x\":[21.0,20.0,18.0,16.0,17.0,16.0,14.0,15.0,14.0,13.0,11.0,10.0,13.0,10.0,10.0,11.0,12.0,13.0,14.0,16.0,18.0,21.0],\"y\":[-41.0,-44.0,-46.0,-47.0,-48.0,-49.0,-49.0,-48.0,-45.0,-44.0,-45.0,-44.0,-43.0,-43.0,-42.0,-41.0,-41.0,-40.0,-40.0,-43.0,-44.0,-41.0],\"mode\":\"markers+lines\"},{\"type\":\"scatter\",\"x\":[21.0,20.0,18.0,16.0,17.0,16.0,14.0,15.0,14.0,13.0,11.0,10.0,13.0,10.0,10.0,11.0,12.0,13.0,14.0,16.0,18.0,21.0],\"y\":[-26.0,-29.0,-31.0,-32.0,-33.0,-34.0,-34.0,-33.0,-30.0,-29.0,-30.0,-29.0,-28.0,-28.0,-27.0,-26.0,-26.0,-25.0,-25.0,-28.0,-29.0,-26.0],\"mode\":\"markers+lines\"},{\"type\":\"scatter\",\"x\":[21.0,20.0,18.0,16.0,17.0,16.0,14.0,15.0,14.0,13.0,11.0,10.0,13.0,10.0,10.0,11.0,12.0,13.0,14.0,16.0,18.0,21.0],\"y\":[-11.0,-14.0,-16.0,-17.0,-18.0,-19.0,-19.0,-18.0,-15.0,-14.0,-15.0,-14.0,-13.0,-13.0,-12.0,-11.0,-11.0,-10.0,-10.0,-13.0,-14.0,-11.0],\"mode\":\"markers+lines\"},{\"type\":\"scatter\",\"x\":[21.0,20.0,18.0,16.0,17.0,16.0,14.0,15.0,14.0,13.0,11.0,10.0,13.0,10.0,10.0,11.0,12.0,13.0,14.0,16.0,18.0,21.0],\"y\":[4.0,1.0,-1.0,-2.0,-3.0,-4.0,-4.0,-3.0,0.0,1.0,0.0,1.0,2.0,2.0,3.0,4.0,4.0,5.0,5.0,2.0,1.0,4.0],\"mode\":\"markers+lines\"},{\"type\":\"scatter\",\"x\":[21.0,20.0,18.0,16.0,17.0,16.0,14.0,15.0,14.0,13.0,11.0,10.0,13.0,10.0,10.0,11.0,12.0,13.0,14.0,16.0,18.0,21.0],\"y\":[19.0,16.0,14.0,13.0,12.0,11.0,11.0,12.0,15.0,16.0,15.0,16.0,17.0,17.0,18.0,19.0,19.0,20.0,20.0,17.0,16.0,19.0],\"mode\":\"markers+lines\"},{\"type\":\"scatter\",\"x\":[21.0,20.0,18.0,16.0,17.0,16.0,14.0,15.0,14.0,13.0,11.0,10.0,13.0,10.0,10.0,11.0,12.0,13.0,14.0,16.0,18.0,21.0],\"y\":[34.0,31.0,29.0,28.0,27.0,26.0,26.0,27.0,30.0,31.0,30.0,31.0,32.0,32.0,33.0,34.0,34.0,35.0,35.0,32.0,31.0,34.0],\"mode\":\"markers+lines\"},{\"type\":\"scatter\",\"x\":[21.0,20.0,18.0,16.0,17.0,16.0,14.0,15.0,14.0,13.0,11.0,10.0,13.0,10.0,10.0,11.0,12.0,13.0,14.0,16.0,18.0,21.0],\"y\":[49.0,46.0,44.0,43.0,42.0,41.0,41.0,42.0,45.0,46.0,45.0,46.0,47.0,47.0,48.0,49.0,49.0,50.0,50.0,47.0,46.0,49.0],\"mode\":\"markers+lines\"},{\"type\":\"scatter\",\"x\":[21.0,20.0,18.0,16.0,17.0,16.0,14.0,15.0,14.0,13.0,11.0,10.0,13.0,10.0,10.0,11.0,12.0,13.0,14.0,16.0,18.0,21.0],\"y\":[64.0,61.0,59.0,58.0,57.0,56.0,56.0,57.0,60.0,61.0,60.0,61.0,62.0,62.0,63.0,64.0,64.0,65.0,65.0,62.0,61.0,64.0],\"mode\":\"markers+lines\"},{\"type\":\"scatter\",\"x\":[36.0,35.0,33.0,31.0,32.0,31.0,29.0,30.0,29.0,28.0,26.0,25.0,28.0,25.0,25.0,26.0,27.0,28.0,29.0,31.0,33.0,36.0],\"y\":[-71.0,-74.0,-76.0,-77.0,-78.0,-79.0,-79.0,-78.0,-75.0,-74.0,-75.0,-74.0,-73.0,-73.0,-72.0,-71.0,-71.0,-70.0,-70.0,-73.0,-74.0,-71.0],\"mode\":\"markers+lines\"},{\"type\":\"scatter\",\"x\":[36.0,35.0,33.0,31.0,32.0,31.0,29.0,30.0,29.0,28.0,26.0,25.0,28.0,25.0,25.0,26.0,27.0,28.0,29.0,31.0,33.0,36.0],\"y\":[-56.0,-59.0,-61.0,-62.0,-63.0,-64.0,-64.0,-63.0,-60.0,-59.0,-60.0,-59.0,-58.0,-58.0,-57.0,-56.0,-56.0,-55.0,-55.0,-58.0,-59.0,-56.0],\"mode\":\"markers+lines\"},{\"type\":\"scatter\",\"x\":[36.0,35.0,33.0,31.0,32.0,31.0,29.0,30.0,29.0,28.0,26.0,25.0,28.0,25.0,25.0,26.0,27.0,28.0,29.0,31.0,33.0,36.0],\"y\":[-41.0,-44.0,-46.0,-47.0,-48.0,-49.0,-49.0,-48.0,-45.0,-44.0,-45.0,-44.0,-43.0,-43.0,-42.0,-41.0,-41.0,-40.0,-40.0,-43.0,-44.0,-41.0],\"mode\":\"markers+lines\"},{\"type\":\"scatter\",\"x\":[36.0,35.0,33.0,31.0,32.0,31.0,29.0,30.0,29.0,28.0,26.0,25.0,28.0,25.0,25.0,26.0,27.0,28.0,29.0,31.0,33.0,36.0],\"y\":[-26.0,-29.0,-31.0,-32.0,-33.0,-34.0,-34.0,-33.0,-30.0,-29.0,-30.0,-29.0,-28.0,-28.0,-27.0,-26.0,-26.0,-25.0,-25.0,-28.0,-29.0,-26.0],\"mode\":\"markers+lines\"},{\"type\":\"scatter\",\"x\":[36.0,35.0,33.0,31.0,32.0,31.0,29.0,30.0,29.0,28.0,26.0,25.0,28.0,25.0,25.0,26.0,27.0,28.0,29.0,31.0,33.0,36.0],\"y\":[-11.0,-14.0,-16.0,-17.0,-18.0,-19.0,-19.0,-18.0,-15.0,-14.0,-15.0,-14.0,-13.0,-13.0,-12.0,-11.0,-11.0,-10.0,-10.0,-13.0,-14.0,-11.0],\"mode\":\"markers+lines\"},{\"type\":\"scatter\",\"x\":[36.0,35.0,33.0,31.0,32.0,31.0,29.0,30.0,29.0,28.0,26.0,25.0,28.0,25.0,25.0,26.0,27.0,28.0,29.0,31.0,33.0,36.0],\"y\":[4.0,1.0,-1.0,-2.0,-3.0,-4.0,-4.0,-3.0,0.0,1.0,0.0,1.0,2.0,2.0,3.0,4.0,4.0,5.0,5.0,2.0,1.0,4.0],\"mode\":\"markers+lines\"},{\"type\":\"scatter\",\"x\":[36.0,35.0,33.0,31.0,32.0,31.0,29.0,30.0,29.0,28.0,26.0,25.0,28.0,25.0,25.0,26.0,27.0,28.0,29.0,31.0,33.0,36.0],\"y\":[19.0,16.0,14.0,13.0,12.0,11.0,11.0,12.0,15.0,16.0,15.0,16.0,17.0,17.0,18.0,19.0,19.0,20.0,20.0,17.0,16.0,19.0],\"mode\":\"markers+lines\"},{\"type\":\"scatter\",\"x\":[36.0,35.0,33.0,31.0,32.0,31.0,29.0,30.0,29.0,28.0,26.0,25.0,28.0,25.0,25.0,26.0,27.0,28.0,29.0,31.0,33.0,36.0],\"y\":[34.0,31.0,29.0,28.0,27.0,26.0,26.0,27.0,30.0,31.0,30.0,31.0,32.0,32.0,33.0,34.0,34.0,35.0,35.0,32.0,31.0,34.0],\"mode\":\"markers+lines\"},{\"type\":\"scatter\",\"x\":[36.0,35.0,33.0,31.0,32.0,31.0,29.0,30.0,29.0,28.0,26.0,25.0,28.0,25.0,25.0,26.0,27.0,28.0,29.0,31.0,33.0,36.0],\"y\":[49.0,46.0,44.0,43.0,42.0,41.0,41.0,42.0,45.0,46.0,45.0,46.0,47.0,47.0,48.0,49.0,49.0,50.0,50.0,47.0,46.0,49.0],\"mode\":\"markers+lines\"},{\"type\":\"scatter\",\"x\":[36.0,35.0,33.0,31.0,32.0,31.0,29.0,30.0,29.0,28.0,26.0,25.0,28.0,25.0,25.0,26.0,27.0,28.0,29.0,31.0,33.0,36.0],\"y\":[64.0,61.0,59.0,58.0,57.0,56.0,56.0,57.0,60.0,61.0,60.0,61.0,62.0,62.0,63.0,64.0,64.0,65.0,65.0,62.0,61.0,64.0],\"mode\":\"markers+lines\"},{\"type\":\"scatter\",\"x\":[51.0,50.0,48.0,46.0,47.0,46.0,44.0,45.0,44.0,43.0,41.0,40.0,43.0,40.0,40.0,41.0,42.0,43.0,44.0,46.0,48.0,51.0],\"y\":[-71.0,-74.0,-76.0,-77.0,-78.0,-79.0,-79.0,-78.0,-75.0,-74.0,-75.0,-74.0,-73.0,-73.0,-72.0,-71.0,-71.0,-70.0,-70.0,-73.0,-74.0,-71.0],\"mode\":\"markers+lines\"},{\"type\":\"scatter\",\"x\":[51.0,50.0,48.0,46.0,47.0,46.0,44.0,45.0,44.0,43.0,41.0,40.0,43.0,40.0,40.0,41.0,42.0,43.0,44.0,46.0,48.0,51.0],\"y\":[-56.0,-59.0,-61.0,-62.0,-63.0,-64.0,-64.0,-63.0,-60.0,-59.0,-60.0,-59.0,-58.0,-58.0,-57.0,-56.0,-56.0,-55.0,-55.0,-58.0,-59.0,-56.0],\"mode\":\"markers+lines\"},{\"type\":\"scatter\",\"x\":[51.0,50.0,48.0,46.0,47.0,46.0,44.0,45.0,44.0,43.0,41.0,40.0,43.0,40.0,40.0,41.0,42.0,43.0,44.0,46.0,48.0,51.0],\"y\":[-41.0,-44.0,-46.0,-47.0,-48.0,-49.0,-49.0,-48.0,-45.0,-44.0,-45.0,-44.0,-43.0,-43.0,-42.0,-41.0,-41.0,-40.0,-40.0,-43.0,-44.0,-41.0],\"mode\":\"markers+lines\"},{\"type\":\"scatter\",\"x\":[51.0,50.0,48.0,46.0,47.0,46.0,44.0,45.0,44.0,43.0,41.0,40.0,43.0,40.0,40.0,41.0,42.0,43.0,44.0,46.0,48.0,51.0],\"y\":[-26.0,-29.0,-31.0,-32.0,-33.0,-34.0,-34.0,-33.0,-30.0,-29.0,-30.0,-29.0,-28.0,-28.0,-27.0,-26.0,-26.0,-25.0,-25.0,-28.0,-29.0,-26.0],\"mode\":\"markers+lines\"},{\"type\":\"scatter\",\"x\":[51.0,50.0,48.0,46.0,47.0,46.0,44.0,45.0,44.0,43.0,41.0,40.0,43.0,40.0,40.0,41.0,42.0,43.0,44.0,46.0,48.0,51.0],\"y\":[-11.0,-14.0,-16.0,-17.0,-18.0,-19.0,-19.0,-18.0,-15.0,-14.0,-15.0,-14.0,-13.0,-13.0,-12.0,-11.0,-11.0,-10.0,-10.0,-13.0,-14.0,-11.0],\"mode\":\"markers+lines\"},{\"type\":\"scatter\",\"x\":[51.0,50.0,48.0,46.0,47.0,46.0,44.0,45.0,44.0,43.0,41.0,40.0,43.0,40.0,40.0,41.0,42.0,43.0,44.0,46.0,48.0,51.0],\"y\":[4.0,1.0,-1.0,-2.0,-3.0,-4.0,-4.0,-3.0,0.0,1.0,0.0,1.0,2.0,2.0,3.0,4.0,4.0,5.0,5.0,2.0,1.0,4.0],\"mode\":\"markers+lines\"},{\"type\":\"scatter\",\"x\":[51.0,50.0,48.0,46.0,47.0,46.0,44.0,45.0,44.0,43.0,41.0,40.0,43.0,40.0,40.0,41.0,42.0,43.0,44.0,46.0,48.0,51.0],\"y\":[19.0,16.0,14.0,13.0,12.0,11.0,11.0,12.0,15.0,16.0,15.0,16.0,17.0,17.0,18.0,19.0,19.0,20.0,20.0,17.0,16.0,19.0],\"mode\":\"markers+lines\"},{\"type\":\"scatter\",\"x\":[51.0,50.0,48.0,46.0,47.0,46.0,44.0,45.0,44.0,43.0,41.0,40.0,43.0,40.0,40.0,41.0,42.0,43.0,44.0,46.0,48.0,51.0],\"y\":[34.0,31.0,29.0,28.0,27.0,26.0,26.0,27.0,30.0,31.0,30.0,31.0,32.0,32.0,33.0,34.0,34.0,35.0,35.0,32.0,31.0,34.0],\"mode\":\"markers+lines\"},{\"type\":\"scatter\",\"x\":[51.0,50.0,48.0,46.0,47.0,46.0,44.0,45.0,44.0,43.0,41.0,40.0,43.0,40.0,40.0,41.0,42.0,43.0,44.0,46.0,48.0,51.0],\"y\":[49.0,46.0,44.0,43.0,42.0,41.0,41.0,42.0,45.0,46.0,45.0,46.0,47.0,47.0,48.0,49.0,49.0,50.0,50.0,47.0,46.0,49.0],\"mode\":\"markers+lines\"},{\"type\":\"scatter\",\"x\":[51.0,50.0,48.0,46.0,47.0,46.0,44.0,45.0,44.0,43.0,41.0,40.0,43.0,40.0,40.0,41.0,42.0,43.0,44.0,46.0,48.0,51.0],\"y\":[64.0,61.0,59.0,58.0,57.0,56.0,56.0,57.0,60.0,61.0,60.0,61.0,62.0,62.0,63.0,64.0,64.0,65.0,65.0,62.0,61.0,64.0],\"mode\":\"markers+lines\"},{\"type\":\"scatter\",\"x\":[66.0,65.0,63.0,61.0,62.0,61.0,59.0,60.0,59.0,58.0,56.0,55.0,58.0,55.0,55.0,56.0,57.0,58.0,59.0,61.0,63.0,66.0],\"y\":[-71.0,-74.0,-76.0,-77.0,-78.0,-79.0,-79.0,-78.0,-75.0,-74.0,-75.0,-74.0,-73.0,-73.0,-72.0,-71.0,-71.0,-70.0,-70.0,-73.0,-74.0,-71.0],\"mode\":\"markers+lines\"},{\"type\":\"scatter\",\"x\":[66.0,65.0,63.0,61.0,62.0,61.0,59.0,60.0,59.0,58.0,56.0,55.0,58.0,55.0,55.0,56.0,57.0,58.0,59.0,61.0,63.0,66.0],\"y\":[-56.0,-59.0,-61.0,-62.0,-63.0,-64.0,-64.0,-63.0,-60.0,-59.0,-60.0,-59.0,-58.0,-58.0,-57.0,-56.0,-56.0,-55.0,-55.0,-58.0,-59.0,-56.0],\"mode\":\"markers+lines\"},{\"type\":\"scatter\",\"x\":[66.0,65.0,63.0,61.0,62.0,61.0,59.0,60.0,59.0,58.0,56.0,55.0,58.0,55.0,55.0,56.0,57.0,58.0,59.0,61.0,63.0,66.0],\"y\":[-41.0,-44.0,-46.0,-47.0,-48.0,-49.0,-49.0,-48.0,-45.0,-44.0,-45.0,-44.0,-43.0,-43.0,-42.0,-41.0,-41.0,-40.0,-40.0,-43.0,-44.0,-41.0],\"mode\":\"markers+lines\"},{\"type\":\"scatter\",\"x\":[66.0,65.0,63.0,61.0,62.0,61.0,59.0,60.0,59.0,58.0,56.0,55.0,58.0,55.0,55.0,56.0,57.0,58.0,59.0,61.0,63.0,66.0],\"y\":[-26.0,-29.0,-31.0,-32.0,-33.0,-34.0,-34.0,-33.0,-30.0,-29.0,-30.0,-29.0,-28.0,-28.0,-27.0,-26.0,-26.0,-25.0,-25.0,-28.0,-29.0,-26.0],\"mode\":\"markers+lines\"},{\"type\":\"scatter\",\"x\":[66.0,65.0,63.0,61.0,62.0,61.0,59.0,60.0,59.0,58.0,56.0,55.0,58.0,55.0,55.0,56.0,57.0,58.0,59.0,61.0,63.0,66.0],\"y\":[-11.0,-14.0,-16.0,-17.0,-18.0,-19.0,-19.0,-18.0,-15.0,-14.0,-15.0,-14.0,-13.0,-13.0,-12.0,-11.0,-11.0,-10.0,-10.0,-13.0,-14.0,-11.0],\"mode\":\"markers+lines\"},{\"type\":\"scatter\",\"x\":[66.0,65.0,63.0,61.0,62.0,61.0,59.0,60.0,59.0,58.0,56.0,55.0,58.0,55.0,55.0,56.0,57.0,58.0,59.0,61.0,63.0,66.0],\"y\":[4.0,1.0,-1.0,-2.0,-3.0,-4.0,-4.0,-3.0,0.0,1.0,0.0,1.0,2.0,2.0,3.0,4.0,4.0,5.0,5.0,2.0,1.0,4.0],\"mode\":\"markers+lines\"},{\"type\":\"scatter\",\"x\":[66.0,65.0,63.0,61.0,62.0,61.0,59.0,60.0,59.0,58.0,56.0,55.0,58.0,55.0,55.0,56.0,57.0,58.0,59.0,61.0,63.0,66.0],\"y\":[19.0,16.0,14.0,13.0,12.0,11.0,11.0,12.0,15.0,16.0,15.0,16.0,17.0,17.0,18.0,19.0,19.0,20.0,20.0,17.0,16.0,19.0],\"mode\":\"markers+lines\"},{\"type\":\"scatter\",\"x\":[66.0,65.0,63.0,61.0,62.0,61.0,59.0,60.0,59.0,58.0,56.0,55.0,58.0,55.0,55.0,56.0,57.0,58.0,59.0,61.0,63.0,66.0],\"y\":[34.0,31.0,29.0,28.0,27.0,26.0,26.0,27.0,30.0,31.0,30.0,31.0,32.0,32.0,33.0,34.0,34.0,35.0,35.0,32.0,31.0,34.0],\"mode\":\"markers+lines\"},{\"type\":\"scatter\",\"x\":[66.0,65.0,63.0,61.0,62.0,61.0,59.0,60.0,59.0,58.0,56.0,55.0,58.0,55.0,55.0,56.0,57.0,58.0,59.0,61.0,63.0,66.0],\"y\":[49.0,46.0,44.0,43.0,42.0,41.0,41.0,42.0,45.0,46.0,45.0,46.0,47.0,47.0,48.0,49.0,49.0,50.0,50.0,47.0,46.0,49.0],\"mode\":\"markers+lines\"},{\"type\":\"scatter\",\"x\":[66.0,65.0,63.0,61.0,62.0,61.0,59.0,60.0,59.0,58.0,56.0,55.0,58.0,55.0,55.0,56.0,57.0,58.0,59.0,61.0,63.0,66.0],\"y\":[64.0,61.0,59.0,58.0,57.0,56.0,56.0,57.0,60.0,61.0,60.0,61.0,62.0,62.0,63.0,64.0,64.0,65.0,65.0,62.0,61.0,64.0],\"mode\":\"markers+lines\"}];\n",
       "           var layout = \"\";\n",
       "           Plotly.newPlot('a42cdb5e-b9af-468a-8abe-fd1ce34d7a14', data, layout);\n",
       "        \r\n",
       "});\n",
       "};\r\n",
       "// ensure `require` is available globally\r\n",
       "if ((typeof(require) !==  typeof(Function)) || (typeof(require.config) !== typeof(Function))) {\r\n",
       "    let require_script = document.createElement('script');\r\n",
       "    require_script.setAttribute('src', 'https://cdnjs.cloudflare.com/ajax/libs/require.js/2.3.6/require.min.js');\r\n",
       "    require_script.setAttribute('type', 'text/javascript');\r\n",
       "    \r\n",
       "    \r\n",
       "    require_script.onload = function() {\r\n",
       "        renderPlotly();\r\n",
       "    };\r\n",
       "\r\n",
       "    document.getElementsByTagName('head')[0].appendChild(require_script);\r\n",
       "}\r\n",
       "else {\r\n",
       "    renderPlotly();\r\n",
       "}\r\n",
       "\r\n",
       "</script>\r\n"
      ]
     },
     "metadata": {},
     "output_type": "display_data"
    }
   ],
   "metadata": {
    "dotnet_interactive": {
     "language": "fsharp"
    }
   }
  },
  {
   "cell_type": "markdown",
   "source": [
    "### Exercise 2.12\r\n",
    "Which is longer, the x or y component of (3, −2) + (1, 1) + (−2, −2)"
   ],
   "metadata": {}
  },
  {
   "cell_type": "code",
   "execution_count": null,
   "source": [
    "(3.0, -2.0) |+| (1.0, 1.0) |+| (-2.0, -2.0)"
   ],
   "outputs": [
    {
     "data": {
      "text/html": [
       "<table><thead><tr><th>Item1</th><th>Item2</th></tr></thead><tbody><tr><td><div class=\"dni-plaintext\">2</div></td><td><div class=\"dni-plaintext\">-3</div></td></tr></tbody></table>"
      ]
     },
     "metadata": {},
     "output_type": "display_data"
    }
   ],
   "metadata": {
    "dotnet_interactive": {
     "language": "fsharp"
    }
   }
  },
  {
   "cell_type": "markdown",
   "source": [
    "Since the resulting vector is (2, -3), the x component is (2, 0), the y is (0, -3) so the y component is longer, 2 vs 3"
   ],
   "metadata": {}
  },
  {
   "cell_type": "markdown",
   "source": [
    "### Exercise 2.13"
   ],
   "metadata": {}
  },
  {
   "cell_type": "code",
   "execution_count": null,
   "source": [
    "#!fsharp\r\n",
    "// ff components (-6, 0) and (0, -6)\r\n",
    "let ff = (-6.0, -6.0)\r\n",
    "// gg components (5, 0) and (-12, 0)\r\n",
    "let gg = (5.0, -12.0)\r\n",
    "\r\n",
    "// length of the vectors\r\n",
    "(distance ff, distance gg)"
   ],
   "outputs": [
    {
     "data": {
      "text/html": [
       "<table><thead><tr><th>Item1</th><th>Item2</th></tr></thead><tbody><tr><td><div class=\"dni-plaintext\">8.48528137423857</div></td><td><div class=\"dni-plaintext\">13</div></td></tr></tbody></table>"
      ]
     },
     "metadata": {},
     "output_type": "display_data"
    }
   ],
   "metadata": {
    "dotnet_interactive": {
     "language": "fsharp"
    }
   }
  },
  {
   "cell_type": "markdown",
   "source": [
    "### Exercise 2.14"
   ],
   "metadata": {}
  },
  {
   "cell_type": "code",
   "execution_count": null,
   "source": [
    "// a = 1\r\n",
    "// c = 6\r\n",
    "let findSide otherSide hypotenuse = \r\n",
    "    Math.Sqrt (Math.Pow (hypotenuse, 2.0) - Math.Pow (otherSide, 2.0))\r\n",
    "\r\n",
    "findSide 1.0 6.0\r\n",
    "\r\n",
    "// result either (1, -5.916) or (1, 5.916)"
   ],
   "outputs": [
    {
     "data": {
      "text/html": [
       "<div class=\"dni-plaintext\">5.916079783099616</div>"
      ]
     },
     "metadata": {},
     "output_type": "display_data"
    }
   ],
   "metadata": {
    "dotnet_interactive": {
     "language": "fsharp"
    }
   }
  },
  {
   "cell_type": "markdown",
   "source": [
    "### Exercise 2.15\r\n",
    "What vector in `dino_vectors` has the longest length?"
   ],
   "metadata": {}
  },
  {
   "cell_type": "code",
   "execution_count": null,
   "source": [
    "#!fsharp\r\n",
    "// result\r\n",
    "(scatterListsToVectors dinoX dinoY)\r\n",
    "|> Seq.maxBy distance"
   ],
   "outputs": [
    {
     "data": {
      "text/html": [
       "<table><thead><tr><th>Item1</th><th>Item2</th></tr></thead><tbody><tr><td><div class=\"dni-plaintext\">6</div></td><td><div class=\"dni-plaintext\">4</div></td></tr></tbody></table>"
      ]
     },
     "metadata": {},
     "output_type": "display_data"
    }
   ],
   "metadata": {
    "dotnet_interactive": {
     "language": "fsharp"
    }
   }
  },
  {
   "cell_type": "markdown",
   "source": [
    "show that scaling a vector (a, b) by s also scales the length of the vector by s\n",
    "\n",
    "sqrt (sa)^2 + (sb)^2  \n",
    "sqrt (s^2)(a^2) + (s^2)(b^2) \n",
    "sqrt (s^2)(a^2 + b^2)\n",
    "|s| sqrt (a^2 + b^2)\n",
    "|s| c"
   ],
   "metadata": {}
  }
 ],
 "metadata": {
  "kernelspec": {
   "display_name": ".NET (C#)",
   "language": "C#",
   "name": ".net-csharp"
  },
  "language_info": {
   "file_extension": ".cs",
   "mimetype": "text/x-csharp",
   "name": "C#",
   "pygments_lexer": "csharp",
   "version": "8.0"
  }
 },
 "nbformat": 4,
 "nbformat_minor": 4
}